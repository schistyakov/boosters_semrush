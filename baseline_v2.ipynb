{
 "cells": [
  {
   "cell_type": "code",
   "execution_count": 1,
   "metadata": {
    "executionInfo": {
     "elapsed": 6,
     "status": "ok",
     "timestamp": 1649846786864,
     "user": {
      "displayName": "Stanislav Chistyakov",
      "userId": "18109881619155439276"
     },
     "user_tz": -180
    },
    "id": "myysdoo709NA"
   },
   "outputs": [],
   "source": [
    "# data_path_train_orig = '/content/drive/MyDrive/boosters_semrush/data/semrush_cup_train_data.csv'\n",
    "# data_path_test_orig = '/content/drive/MyDrive/boosters_semrush/data/semrush_cup_test_data.csv'\n",
    "# data_path_sample_orig = '/content/drive/MyDrive/boosters_semrush/data/semrush_cup_sub.csv'\n",
    "# data_path_dict_orig = '/content/drive/MyDrive/boosters_semrush/data/semrush_cup_categories_and_demo.csv'\n",
    "\n",
    "# cache_path = '/content/drive/MyDrive/boosters_semrush/cache'"
   ]
  },
  {
   "cell_type": "code",
   "execution_count": 2,
   "metadata": {},
   "outputs": [],
   "source": [
    "data_path_train_orig = 'data/semrush_cup_train_data.csv'\n",
    "data_path_test_orig = 'data/semrush_cup_test_data.csv'\n",
    "data_path_sample_orig = 'data/semrush_cup_sub.csv'\n",
    "data_path_dict_orig = 'data/semrush_cup_categories_and_demo.csv'\n",
    "\n",
    "cache_path = 'cache'"
   ]
  },
  {
   "cell_type": "code",
   "execution_count": 3,
   "metadata": {
    "colab": {
     "base_uri": "https://localhost:8080/"
    },
    "executionInfo": {
     "elapsed": 279,
     "status": "ok",
     "timestamp": 1649846787915,
     "user": {
      "displayName": "Stanislav Chistyakov",
      "userId": "18109881619155439276"
     },
     "user_tz": -180
    },
    "id": "zfq-x0lPio3l",
    "outputId": "d3c31f11-a49f-458f-ab4c-d565ac9b359c"
   },
   "outputs": [
    {
     "name": "stdout",
     "output_type": "stream",
     "text": [
      "/usr/bin/sh: 1: nvidia-smi: not found\n"
     ]
    }
   ],
   "source": [
    "!nvidia-smi"
   ]
  },
  {
   "cell_type": "markdown",
   "metadata": {
    "id": "GRObdcZwuw9P",
    "tags": []
   },
   "source": [
    "# Init"
   ]
  },
  {
   "cell_type": "code",
   "execution_count": 4,
   "metadata": {
    "colab": {
     "base_uri": "https://localhost:8080/"
    },
    "executionInfo": {
     "elapsed": 9269,
     "status": "ok",
     "timestamp": 1649846798290,
     "user": {
      "displayName": "Stanislav Chistyakov",
      "userId": "18109881619155439276"
     },
     "user_tz": -180
    },
    "id": "v4j5_bPQSADJ",
    "outputId": "88d4c120-31ad-4d66-ccb0-91d20b405b33"
   },
   "outputs": [
    {
     "name": "stdout",
     "output_type": "stream",
     "text": [
      "Requirement already satisfied: tqdm in /home/studio-lab-user/.conda/envs/d2l/lib/python3.9/site-packages (4.64.0)\n",
      "Note: you may need to restart the kernel to use updated packages.\n"
     ]
    }
   ],
   "source": [
    "# !pip3 install sklearn\n",
    "# !pip install tensorflow \n",
    "# !pip3 install tensorflow_addons\n",
    "%pip install tqdm"
   ]
  },
  {
   "cell_type": "code",
   "execution_count": 5,
   "metadata": {
    "executionInfo": {
     "elapsed": 2240,
     "status": "ok",
     "timestamp": 1649846800520,
     "user": {
      "displayName": "Stanislav Chistyakov",
      "userId": "18109881619155439276"
     },
     "user_tz": -180
    },
    "id": "T0Ef6XsH3C4W"
   },
   "outputs": [],
   "source": [
    "import numpy as np\n",
    "import pandas as pd\n",
    "import pickle\n",
    "import os\n",
    "from pathlib import Path\n",
    "from tqdm.notebook import trange, tqdm\n",
    "\n",
    "from sklearn.metrics import f1_score  \n",
    "from sklearn.model_selection import train_test_split"
   ]
  },
  {
   "cell_type": "code",
   "execution_count": 6,
   "metadata": {
    "executionInfo": {
     "elapsed": 7907,
     "status": "ok",
     "timestamp": 1649846808416,
     "user": {
      "displayName": "Stanislav Chistyakov",
      "userId": "18109881619155439276"
     },
     "user_tz": -180
    },
    "id": "XFaUkkOWMLsO"
   },
   "outputs": [
    {
     "name": "stderr",
     "output_type": "stream",
     "text": [
      "2022-04-14 15:22:27.702851: W tensorflow/stream_executor/platform/default/dso_loader.cc:64] Could not load dynamic library 'libcudart.so.11.0'; dlerror: libcudart.so.11.0: cannot open shared object file: No such file or directory\n",
      "2022-04-14 15:22:27.702887: I tensorflow/stream_executor/cuda/cudart_stub.cc:29] Ignore above cudart dlerror if you do not have a GPU set up on your machine.\n"
     ]
    }
   ],
   "source": [
    "import tensorflow as tf\n",
    "import tensorflow_addons as tfa\n",
    "from tensorflow import keras\n",
    "from tensorflow.keras import layers"
   ]
  },
  {
   "cell_type": "code",
   "execution_count": 7,
   "metadata": {
    "executionInfo": {
     "elapsed": 20,
     "status": "ok",
     "timestamp": 1649846808417,
     "user": {
      "displayName": "Stanislav Chistyakov",
      "userId": "18109881619155439276"
     },
     "user_tz": -180
    },
    "id": "uTW4bvLR1pjc"
   },
   "outputs": [],
   "source": [
    "def read_csv_cached(csv_path, cache_path):\n",
    "    data = pd.read_csv(csv_path)\n",
    "    return data \n",
    "\n",
    "#     print(f'read_csv_cached: csv_path={csv_path} cache_path={cache_path}')\n",
    "\n",
    "#     os.makedirs(cache_path, exist_ok=True)\n",
    "\n",
    "#     csv_path_cached_pickle = Path(cache_path) / (Path(csv_path).name + '.pickle')\n",
    "#     print(f'read_csv_cached: csv_path_cached_pickle={csv_path_cached_pickle}')\n",
    "\n",
    "#     if not(Path(csv_path_cached_pickle).exists()):\n",
    "#         print(f'read_csv_cached: missing cache')\n",
    "#         data = pd.read_csv(csv_path)\n",
    "        \n",
    "#         with open(csv_path_cached_pickle, 'wb') as f:\n",
    "#             pickle.dump(data, f)\n",
    "#     else:\n",
    "#         print(f'read_csv_cached: cached')\n",
    "\n",
    "#     print(f'read_csv_cached: reading from cache')\n",
    "#     with open(csv_path_cached_pickle, 'rb') as f:      \n",
    "#         data = pickle.load(f)\n",
    "    \n",
    "#     print(f'read_csv_cached: done')\n",
    "#     return data\n",
    "\n",
    "def split_train(train_path, cache_path):\n",
    "    print(f'split_train: train_path={train_path} cache_path={cache_path}')\n",
    "\n",
    "    os.makedirs(cache_path, exist_ok=True)\n",
    "\n",
    "    data_path_cached_pickle = Path(cache_path) / ('split_train' + '.pickle')\n",
    "    print(f'split_train: data_path_cached_pickle={data_path_cached_pickle}')\n",
    "\n",
    "    if not(Path(data_path_cached_pickle).exists()):\n",
    "        print(f'split_train: missing cache')\n",
    "\n",
    "        train = read_csv_cached(train_path, cache_path)\n",
    "\n",
    "        uids_list = train['device_id'].unique()\n",
    "        train_train_uids, train_test_uids = train_test_split(uids_list, train_size=0.6, random_state=7)\n",
    "        train_test_uids, train_valid_uids = train_test_split(train_test_uids, train_size=0.5, random_state=7)\n",
    "\n",
    "        train_train_data = train.loc[train['device_id'].isin(train_train_uids)]\n",
    "        train_test_data = train.loc[train['device_id'].isin(train_test_uids)]\n",
    "        train_valid_data = train.loc[train['device_id'].isin(train_valid_uids)]\n",
    "\n",
    "        data = (train_train_data, train_test_data, train_valid_data)\n",
    "        \n",
    "        with open(data_path_cached_pickle, 'wb') as f:\n",
    "            pickle.dump(data, f)\n",
    "    else:\n",
    "        print(f'split_train: cached')\n",
    "\n",
    "    print(f'split_train: reading from cache')\n",
    "    with open(data_path_cached_pickle, 'rb') as f:      \n",
    "        data = pickle.load(f)\n",
    "    \n",
    "    train_train, train_test, train_valid = data\n",
    "    print(f'data size: train={len(train_train)}, test={len(train_test)}, valid={len(train_valid)}')\n",
    "\n",
    "    return data"
   ]
  },
  {
   "cell_type": "markdown",
   "metadata": {
    "id": "Zv3Ue0tmu1VV"
   },
   "source": [
    "# Read data"
   ]
  },
  {
   "cell_type": "code",
   "execution_count": 8,
   "metadata": {
    "colab": {
     "base_uri": "https://localhost:8080/"
    },
    "executionInfo": {
     "elapsed": 24942,
     "status": "ok",
     "timestamp": 1649846840398,
     "user": {
      "displayName": "Stanislav Chistyakov",
      "userId": "18109881619155439276"
     },
     "user_tz": -180
    },
    "id": "-rn-JqF38tBW",
    "outputId": "8ae22ee4-7c6d-4813-83e5-abb5ad52038d"
   },
   "outputs": [
    {
     "name": "stdout",
     "output_type": "stream",
     "text": [
      "split_train: train_path=data/semrush_cup_train_data.csv cache_path=cache\n",
      "split_train: data_path_cached_pickle=cache/split_train.pickle\n",
      "split_train: cached\n",
      "split_train: reading from cache\n",
      "data size: train=7810396, test=2632773, valid=2597474\n"
     ]
    }
   ],
   "source": [
    "train_train, train_test, train_valid = split_train(data_path_train_orig, cache_path)"
   ]
  },
  {
   "cell_type": "code",
   "execution_count": 9,
   "metadata": {},
   "outputs": [],
   "source": [
    "# train_train = train_train[:1100000].copy()\n",
    "# train_test = train_train[:1100000].copy()"
   ]
  },
  {
   "cell_type": "code",
   "execution_count": 10,
   "metadata": {
    "colab": {
     "base_uri": "https://localhost:8080/",
     "height": 395
    },
    "executionInfo": {
     "elapsed": 43,
     "status": "ok",
     "timestamp": 1649846840399,
     "user": {
      "displayName": "Stanislav Chistyakov",
      "userId": "18109881619155439276"
     },
     "user_tz": -180
    },
    "id": "c2BK7ot4AyJO",
    "outputId": "3c8f4e54-ea94-49ec-c85f-94fcb72a0dba"
   },
   "outputs": [
    {
     "data": {
      "text/html": [
       "<div>\n",
       "<style scoped>\n",
       "    .dataframe tbody tr th:only-of-type {\n",
       "        vertical-align: middle;\n",
       "    }\n",
       "\n",
       "    .dataframe tbody tr th {\n",
       "        vertical-align: top;\n",
       "    }\n",
       "\n",
       "    .dataframe thead th {\n",
       "        text-align: right;\n",
       "    }\n",
       "</style>\n",
       "<table border=\"1\" class=\"dataframe\">\n",
       "  <thead>\n",
       "    <tr style=\"text-align: right;\">\n",
       "      <th></th>\n",
       "      <th>event_group_id</th>\n",
       "      <th>device_id</th>\n",
       "      <th>timestamp</th>\n",
       "      <th>domain</th>\n",
       "      <th>referrer_domain</th>\n",
       "      <th>url</th>\n",
       "      <th>referrer_url</th>\n",
       "      <th>referrer_num</th>\n",
       "      <th>is_referrer</th>\n",
       "    </tr>\n",
       "  </thead>\n",
       "  <tbody>\n",
       "    <tr>\n",
       "      <th>0</th>\n",
       "      <td>39147</td>\n",
       "      <td>100000</td>\n",
       "      <td>1174857389</td>\n",
       "      <td>ttGJTM.AK</td>\n",
       "      <td>ttNggB.jg</td>\n",
       "      <td>tWAmxZ.ttGJTM.AK/jCYBFH/jlYGps/jjGbCS/jrsypg</td>\n",
       "      <td>tWAmxZ.ttNggB.jg/jdSNxb</td>\n",
       "      <td>0</td>\n",
       "      <td>False</td>\n",
       "    </tr>\n",
       "    <tr>\n",
       "      <th>1</th>\n",
       "      <td>39147</td>\n",
       "      <td>100000</td>\n",
       "      <td>1174857499</td>\n",
       "      <td>ttNggB.jg</td>\n",
       "      <td>NaN</td>\n",
       "      <td>tWAmxZ.ttNggB.jg/jHSjLY</td>\n",
       "      <td>NaN</td>\n",
       "      <td>1</td>\n",
       "      <td>False</td>\n",
       "    </tr>\n",
       "    <tr>\n",
       "      <th>2</th>\n",
       "      <td>39147</td>\n",
       "      <td>100000</td>\n",
       "      <td>1174857514</td>\n",
       "      <td>ttdgZf.jg</td>\n",
       "      <td>ttNggB.jg</td>\n",
       "      <td>ttdgZf.jg/jdSNxb</td>\n",
       "      <td>tWAmxZ.ttNggB.jg/jdSNxb</td>\n",
       "      <td>2</td>\n",
       "      <td>False</td>\n",
       "    </tr>\n",
       "    <tr>\n",
       "      <th>3</th>\n",
       "      <td>39147</td>\n",
       "      <td>100000</td>\n",
       "      <td>1174857523</td>\n",
       "      <td>ttNggB.jg</td>\n",
       "      <td>ttdgZf.jg</td>\n",
       "      <td>tWAmxZ.ttNggB.jg/jHSjLY</td>\n",
       "      <td>ttdgZf.jg/jdSNxb</td>\n",
       "      <td>3</td>\n",
       "      <td>False</td>\n",
       "    </tr>\n",
       "    <tr>\n",
       "      <th>4</th>\n",
       "      <td>39147</td>\n",
       "      <td>100000</td>\n",
       "      <td>1174857529</td>\n",
       "      <td>ttsUFm.MZ</td>\n",
       "      <td>ttNggB.jg</td>\n",
       "      <td>ttsUFm.MZ/jjdsdQ/jHiiZc/jHICvz/jjIijp/jdLZBy/j...</td>\n",
       "      <td>tWAmxZ.ttNggB.jg/jdSNxb</td>\n",
       "      <td>4</td>\n",
       "      <td>False</td>\n",
       "    </tr>\n",
       "    <tr>\n",
       "      <th>5</th>\n",
       "      <td>39147</td>\n",
       "      <td>100000</td>\n",
       "      <td>1174857546</td>\n",
       "      <td>ttBWMn.jg</td>\n",
       "      <td>ttNggB.jg</td>\n",
       "      <td>tWAmxZ.ttBWMn.jg/jHLvKC/jdSNxb</td>\n",
       "      <td>tWAmxZ.ttNggB.jg/jdSNxb</td>\n",
       "      <td>5</td>\n",
       "      <td>True</td>\n",
       "    </tr>\n",
       "    <tr>\n",
       "      <th>6</th>\n",
       "      <td>39147</td>\n",
       "      <td>100000</td>\n",
       "      <td>1174857562</td>\n",
       "      <td>tWxuXo.MZ</td>\n",
       "      <td>ttNggB.jg</td>\n",
       "      <td>ttjvjg.tWxuXo.MZ/jHKZdc/jrbQKv/jjHNIG/jHgCli/j...</td>\n",
       "      <td>tWAmxZ.ttNggB.jg/jdSNxb</td>\n",
       "      <td>6</td>\n",
       "      <td>False</td>\n",
       "    </tr>\n",
       "    <tr>\n",
       "      <th>7</th>\n",
       "      <td>39147</td>\n",
       "      <td>100000</td>\n",
       "      <td>1174857665</td>\n",
       "      <td>ttxgCt.jg</td>\n",
       "      <td>ttBWMn.jg</td>\n",
       "      <td>tWAmxZ.ttxgCt.jg/jjxlps</td>\n",
       "      <td>tWAmxZ.ttBWMn.jg/jjGuNS/jjcbKW</td>\n",
       "      <td>7</td>\n",
       "      <td>False</td>\n",
       "    </tr>\n",
       "    <tr>\n",
       "      <th>8</th>\n",
       "      <td>39147</td>\n",
       "      <td>100000</td>\n",
       "      <td>1174857670</td>\n",
       "      <td>tWzTqL.jg</td>\n",
       "      <td>ttxgCt.jg</td>\n",
       "      <td>ttuNso.tWzTqL.jg/jvjYYW</td>\n",
       "      <td>tWAmxZ.ttxgCt.jg/jjxlps</td>\n",
       "      <td>8</td>\n",
       "      <td>False</td>\n",
       "    </tr>\n",
       "    <tr>\n",
       "      <th>9</th>\n",
       "      <td>39147</td>\n",
       "      <td>100000</td>\n",
       "      <td>1174857671</td>\n",
       "      <td>ttkgWu.jg</td>\n",
       "      <td>tWzTqL.jg</td>\n",
       "      <td>tWAmxZ.ttkgWu.jg/jHcdBZ/jdSNxb</td>\n",
       "      <td>ttuNso.tWzTqL.jg/jvjYYW</td>\n",
       "      <td>9</td>\n",
       "      <td>False</td>\n",
       "    </tr>\n",
       "    <tr>\n",
       "      <th>10</th>\n",
       "      <td>39147</td>\n",
       "      <td>100000</td>\n",
       "      <td>1174857725</td>\n",
       "      <td>ttzFdN.MO</td>\n",
       "      <td>ttBWMn.jg</td>\n",
       "      <td>ttzFdN.MO/jjpbZC</td>\n",
       "      <td>tWAmxZ.ttBWMn.jg/jlvvNg/jHLvKC/jdbjYK</td>\n",
       "      <td>target</td>\n",
       "      <td>False</td>\n",
       "    </tr>\n",
       "  </tbody>\n",
       "</table>\n",
       "</div>"
      ],
      "text/plain": [
       "    event_group_id  device_id   timestamp     domain referrer_domain  \\\n",
       "0            39147     100000  1174857389  ttGJTM.AK       ttNggB.jg   \n",
       "1            39147     100000  1174857499  ttNggB.jg             NaN   \n",
       "2            39147     100000  1174857514  ttdgZf.jg       ttNggB.jg   \n",
       "3            39147     100000  1174857523  ttNggB.jg       ttdgZf.jg   \n",
       "4            39147     100000  1174857529  ttsUFm.MZ       ttNggB.jg   \n",
       "5            39147     100000  1174857546  ttBWMn.jg       ttNggB.jg   \n",
       "6            39147     100000  1174857562  tWxuXo.MZ       ttNggB.jg   \n",
       "7            39147     100000  1174857665  ttxgCt.jg       ttBWMn.jg   \n",
       "8            39147     100000  1174857670  tWzTqL.jg       ttxgCt.jg   \n",
       "9            39147     100000  1174857671  ttkgWu.jg       tWzTqL.jg   \n",
       "10           39147     100000  1174857725  ttzFdN.MO       ttBWMn.jg   \n",
       "\n",
       "                                                  url  \\\n",
       "0        tWAmxZ.ttGJTM.AK/jCYBFH/jlYGps/jjGbCS/jrsypg   \n",
       "1                             tWAmxZ.ttNggB.jg/jHSjLY   \n",
       "2                                    ttdgZf.jg/jdSNxb   \n",
       "3                             tWAmxZ.ttNggB.jg/jHSjLY   \n",
       "4   ttsUFm.MZ/jjdsdQ/jHiiZc/jHICvz/jjIijp/jdLZBy/j...   \n",
       "5                      tWAmxZ.ttBWMn.jg/jHLvKC/jdSNxb   \n",
       "6   ttjvjg.tWxuXo.MZ/jHKZdc/jrbQKv/jjHNIG/jHgCli/j...   \n",
       "7                             tWAmxZ.ttxgCt.jg/jjxlps   \n",
       "8                             ttuNso.tWzTqL.jg/jvjYYW   \n",
       "9                      tWAmxZ.ttkgWu.jg/jHcdBZ/jdSNxb   \n",
       "10                                   ttzFdN.MO/jjpbZC   \n",
       "\n",
       "                             referrer_url referrer_num  is_referrer  \n",
       "0                 tWAmxZ.ttNggB.jg/jdSNxb            0        False  \n",
       "1                                     NaN            1        False  \n",
       "2                 tWAmxZ.ttNggB.jg/jdSNxb            2        False  \n",
       "3                        ttdgZf.jg/jdSNxb            3        False  \n",
       "4                 tWAmxZ.ttNggB.jg/jdSNxb            4        False  \n",
       "5                 tWAmxZ.ttNggB.jg/jdSNxb            5         True  \n",
       "6                 tWAmxZ.ttNggB.jg/jdSNxb            6        False  \n",
       "7          tWAmxZ.ttBWMn.jg/jjGuNS/jjcbKW            7        False  \n",
       "8                 tWAmxZ.ttxgCt.jg/jjxlps            8        False  \n",
       "9                 ttuNso.tWzTqL.jg/jvjYYW            9        False  \n",
       "10  tWAmxZ.ttBWMn.jg/jlvvNg/jHLvKC/jdbjYK       target        False  "
      ]
     },
     "execution_count": 10,
     "metadata": {},
     "output_type": "execute_result"
    }
   ],
   "source": [
    "train_train[train_train.event_group_id==39147]"
   ]
  },
  {
   "cell_type": "code",
   "execution_count": 11,
   "metadata": {
    "executionInfo": {
     "elapsed": 40,
     "status": "ok",
     "timestamp": 1649846840400,
     "user": {
      "displayName": "Stanislav Chistyakov",
      "userId": "18109881619155439276"
     },
     "user_tz": -180
    },
    "id": "jyhSMijMKj_b"
   },
   "outputs": [],
   "source": [
    "# sample = read_csv_cached(data_path_sample_orig, cache_path)"
   ]
  },
  {
   "cell_type": "code",
   "execution_count": 12,
   "metadata": {
    "executionInfo": {
     "elapsed": 39,
     "status": "ok",
     "timestamp": 1649846840400,
     "user": {
      "displayName": "Stanislav Chistyakov",
      "userId": "18109881619155439276"
     },
     "user_tz": -180
    },
    "id": "_MGf21g3K6Uj"
   },
   "outputs": [],
   "source": [
    "# sample"
   ]
  },
  {
   "cell_type": "code",
   "execution_count": 13,
   "metadata": {},
   "outputs": [
    {
     "data": {
      "text/plain": [
       "count    120000.000000\n",
       "mean          5.916967\n",
       "std           9.970268\n",
       "min           1.000000\n",
       "25%           1.000000\n",
       "50%           3.000000\n",
       "75%           7.000000\n",
       "max        1047.000000\n",
       "dtype: float64"
      ]
     },
     "execution_count": 13,
     "metadata": {},
     "output_type": "execute_result"
    }
   ],
   "source": [
    "train_train.groupby(['device_id','event_group_id']).size().groupby('device_id').size().describe()"
   ]
  },
  {
   "cell_type": "code",
   "execution_count": 14,
   "metadata": {},
   "outputs": [
    {
     "data": {
      "text/plain": [
       "120000"
      ]
     },
     "execution_count": 14,
     "metadata": {},
     "output_type": "execute_result"
    }
   ],
   "source": [
    "train_train.device_id.nunique()"
   ]
  },
  {
   "cell_type": "code",
   "execution_count": 15,
   "metadata": {},
   "outputs": [
    {
     "data": {
      "text/html": [
       "<div>\n",
       "<style scoped>\n",
       "    .dataframe tbody tr th:only-of-type {\n",
       "        vertical-align: middle;\n",
       "    }\n",
       "\n",
       "    .dataframe tbody tr th {\n",
       "        vertical-align: top;\n",
       "    }\n",
       "\n",
       "    .dataframe thead th {\n",
       "        text-align: right;\n",
       "    }\n",
       "</style>\n",
       "<table border=\"1\" class=\"dataframe\">\n",
       "  <thead>\n",
       "    <tr style=\"text-align: right;\">\n",
       "      <th></th>\n",
       "      <th>event_group_id</th>\n",
       "      <th>device_id</th>\n",
       "      <th>timestamp</th>\n",
       "      <th>domain</th>\n",
       "      <th>referrer_domain</th>\n",
       "      <th>url</th>\n",
       "      <th>referrer_url</th>\n",
       "      <th>referrer_num</th>\n",
       "      <th>is_referrer</th>\n",
       "    </tr>\n",
       "  </thead>\n",
       "  <tbody>\n",
       "    <tr>\n",
       "      <th>5971163</th>\n",
       "      <td>4418</td>\n",
       "      <td>190706</td>\n",
       "      <td>1175986901</td>\n",
       "      <td>ttxXHJ.jg</td>\n",
       "      <td>ttBzRA.jg</td>\n",
       "      <td>tWAmxZ.ttxXHJ.jg/jjHcfz</td>\n",
       "      <td>tWWFjx.ttBzRA.jg/jdSNxb</td>\n",
       "      <td>0</td>\n",
       "      <td>False</td>\n",
       "    </tr>\n",
       "    <tr>\n",
       "      <th>5971164</th>\n",
       "      <td>4418</td>\n",
       "      <td>190706</td>\n",
       "      <td>1175986902</td>\n",
       "      <td>ttNggB.jg</td>\n",
       "      <td>ttxXHJ.jg</td>\n",
       "      <td>ttMMTG.ttNggB.jg/jCCdbb/jjYFWl/jdfcSI</td>\n",
       "      <td>tWAmxZ.ttxXHJ.jg/jjHcfz</td>\n",
       "      <td>1</td>\n",
       "      <td>False</td>\n",
       "    </tr>\n",
       "    <tr>\n",
       "      <th>5971165</th>\n",
       "      <td>4418</td>\n",
       "      <td>190706</td>\n",
       "      <td>1175986902</td>\n",
       "      <td>tWxFjf.jg</td>\n",
       "      <td>ttgMnT.jl</td>\n",
       "      <td>tWAmxZ.tWxFjf.jg/jdlNWs/jvyGll</td>\n",
       "      <td>tWAmxZ.ttgMnT.jl/jHgKip/jdSNxb</td>\n",
       "      <td>2</td>\n",
       "      <td>False</td>\n",
       "    </tr>\n",
       "    <tr>\n",
       "      <th>5971166</th>\n",
       "      <td>4418</td>\n",
       "      <td>190706</td>\n",
       "      <td>1175986904</td>\n",
       "      <td>ttTNdj.jg</td>\n",
       "      <td>ttzgqo.mp</td>\n",
       "      <td>tWNzCf.ttTNdj.jg/jCBGdF</td>\n",
       "      <td>ttzgqo.mp/jHLllj/jjgdsK/jjKQFK</td>\n",
       "      <td>3</td>\n",
       "      <td>False</td>\n",
       "    </tr>\n",
       "    <tr>\n",
       "      <th>5971167</th>\n",
       "      <td>4418</td>\n",
       "      <td>190706</td>\n",
       "      <td>1175986907</td>\n",
       "      <td>ttjLGW.jg</td>\n",
       "      <td>ttTNdj.jg</td>\n",
       "      <td>tWAmxZ.ttjLGW.jg/jdSNxb</td>\n",
       "      <td>tWNzCf.ttTNdj.jg/jCBGdF</td>\n",
       "      <td>4</td>\n",
       "      <td>False</td>\n",
       "    </tr>\n",
       "    <tr>\n",
       "      <th>...</th>\n",
       "      <td>...</td>\n",
       "      <td>...</td>\n",
       "      <td>...</td>\n",
       "      <td>...</td>\n",
       "      <td>...</td>\n",
       "      <td>...</td>\n",
       "      <td>...</td>\n",
       "      <td>...</td>\n",
       "      <td>...</td>\n",
       "    </tr>\n",
       "    <tr>\n",
       "      <th>5982675</th>\n",
       "      <td>1732934</td>\n",
       "      <td>190706</td>\n",
       "      <td>1168143197</td>\n",
       "      <td>tWvMXx.jg</td>\n",
       "      <td>ttNdzT.jg</td>\n",
       "      <td>ttFxnC.tWvMXx.jg/jdpIGx/jCFZxy/jrvBxy</td>\n",
       "      <td>ttZRCL.ttNdzT.jg/jHYFcp/jvlSWp/jHxjCI/jHfCbu</td>\n",
       "      <td>6</td>\n",
       "      <td>False</td>\n",
       "    </tr>\n",
       "    <tr>\n",
       "      <th>5982676</th>\n",
       "      <td>1732934</td>\n",
       "      <td>190706</td>\n",
       "      <td>1168143197</td>\n",
       "      <td>ttdvmg.jg</td>\n",
       "      <td>ttNdzT.jg</td>\n",
       "      <td>ttHoTJ.ttCHdT.ttdvmg.jg/jriFLF/jdZNsy/jCdgri</td>\n",
       "      <td>ttZRCL.ttNdzT.jg/jHYFcp/jvlSWp/jHxjCI/jHfCbu</td>\n",
       "      <td>7</td>\n",
       "      <td>False</td>\n",
       "    </tr>\n",
       "    <tr>\n",
       "      <th>5982677</th>\n",
       "      <td>1732934</td>\n",
       "      <td>190706</td>\n",
       "      <td>1168143198</td>\n",
       "      <td>ttWzmJ.jg</td>\n",
       "      <td>NaN</td>\n",
       "      <td>tWMfZg.ttWzmJ.jg/jdxrLy/jCWzXX/jlZHbN</td>\n",
       "      <td>NaN</td>\n",
       "      <td>8</td>\n",
       "      <td>False</td>\n",
       "    </tr>\n",
       "    <tr>\n",
       "      <th>5982678</th>\n",
       "      <td>1732934</td>\n",
       "      <td>190706</td>\n",
       "      <td>1168143198</td>\n",
       "      <td>tWxFjf.jg</td>\n",
       "      <td>ttNdzT.jg</td>\n",
       "      <td>ttuVLV.tWxFjf.jg/jCzXYG/jvWYCN/jrfISl/jlggNY</td>\n",
       "      <td>ttZRCL.ttNdzT.jg/jHYFcp/jvlSWp/jHxjCI/jHfCbu</td>\n",
       "      <td>9</td>\n",
       "      <td>False</td>\n",
       "    </tr>\n",
       "    <tr>\n",
       "      <th>5982679</th>\n",
       "      <td>1732934</td>\n",
       "      <td>190706</td>\n",
       "      <td>1168143198</td>\n",
       "      <td>ttWzmJ.jg</td>\n",
       "      <td>ttNdzT.jg</td>\n",
       "      <td>tWMfZg.ttWzmJ.jg/jdxrLy/jCWzXX/jlZHbN</td>\n",
       "      <td>ttZRCL.ttNdzT.jg/jHYFcp/jvlSWp/jHxjCI/jHfCbu</td>\n",
       "      <td>target</td>\n",
       "      <td>False</td>\n",
       "    </tr>\n",
       "  </tbody>\n",
       "</table>\n",
       "<p>11517 rows × 9 columns</p>\n",
       "</div>"
      ],
      "text/plain": [
       "         event_group_id  device_id   timestamp     domain referrer_domain  \\\n",
       "5971163            4418     190706  1175986901  ttxXHJ.jg       ttBzRA.jg   \n",
       "5971164            4418     190706  1175986902  ttNggB.jg       ttxXHJ.jg   \n",
       "5971165            4418     190706  1175986902  tWxFjf.jg       ttgMnT.jl   \n",
       "5971166            4418     190706  1175986904  ttTNdj.jg       ttzgqo.mp   \n",
       "5971167            4418     190706  1175986907  ttjLGW.jg       ttTNdj.jg   \n",
       "...                 ...        ...         ...        ...             ...   \n",
       "5982675         1732934     190706  1168143197  tWvMXx.jg       ttNdzT.jg   \n",
       "5982676         1732934     190706  1168143197  ttdvmg.jg       ttNdzT.jg   \n",
       "5982677         1732934     190706  1168143198  ttWzmJ.jg             NaN   \n",
       "5982678         1732934     190706  1168143198  tWxFjf.jg       ttNdzT.jg   \n",
       "5982679         1732934     190706  1168143198  ttWzmJ.jg       ttNdzT.jg   \n",
       "\n",
       "                                                  url  \\\n",
       "5971163                       tWAmxZ.ttxXHJ.jg/jjHcfz   \n",
       "5971164         ttMMTG.ttNggB.jg/jCCdbb/jjYFWl/jdfcSI   \n",
       "5971165                tWAmxZ.tWxFjf.jg/jdlNWs/jvyGll   \n",
       "5971166                       tWNzCf.ttTNdj.jg/jCBGdF   \n",
       "5971167                       tWAmxZ.ttjLGW.jg/jdSNxb   \n",
       "...                                               ...   \n",
       "5982675         ttFxnC.tWvMXx.jg/jdpIGx/jCFZxy/jrvBxy   \n",
       "5982676  ttHoTJ.ttCHdT.ttdvmg.jg/jriFLF/jdZNsy/jCdgri   \n",
       "5982677         tWMfZg.ttWzmJ.jg/jdxrLy/jCWzXX/jlZHbN   \n",
       "5982678  ttuVLV.tWxFjf.jg/jCzXYG/jvWYCN/jrfISl/jlggNY   \n",
       "5982679         tWMfZg.ttWzmJ.jg/jdxrLy/jCWzXX/jlZHbN   \n",
       "\n",
       "                                         referrer_url referrer_num  \\\n",
       "5971163                       tWWFjx.ttBzRA.jg/jdSNxb            0   \n",
       "5971164                       tWAmxZ.ttxXHJ.jg/jjHcfz            1   \n",
       "5971165                tWAmxZ.ttgMnT.jl/jHgKip/jdSNxb            2   \n",
       "5971166                ttzgqo.mp/jHLllj/jjgdsK/jjKQFK            3   \n",
       "5971167                       tWNzCf.ttTNdj.jg/jCBGdF            4   \n",
       "...                                               ...          ...   \n",
       "5982675  ttZRCL.ttNdzT.jg/jHYFcp/jvlSWp/jHxjCI/jHfCbu            6   \n",
       "5982676  ttZRCL.ttNdzT.jg/jHYFcp/jvlSWp/jHxjCI/jHfCbu            7   \n",
       "5982677                                           NaN            8   \n",
       "5982678  ttZRCL.ttNdzT.jg/jHYFcp/jvlSWp/jHxjCI/jHfCbu            9   \n",
       "5982679  ttZRCL.ttNdzT.jg/jHYFcp/jvlSWp/jHxjCI/jHfCbu       target   \n",
       "\n",
       "         is_referrer  \n",
       "5971163        False  \n",
       "5971164        False  \n",
       "5971165        False  \n",
       "5971166        False  \n",
       "5971167        False  \n",
       "...              ...  \n",
       "5982675        False  \n",
       "5982676        False  \n",
       "5982677        False  \n",
       "5982678        False  \n",
       "5982679        False  \n",
       "\n",
       "[11517 rows x 9 columns]"
      ]
     },
     "execution_count": 15,
     "metadata": {},
     "output_type": "execute_result"
    }
   ],
   "source": [
    "train_train[train_train['device_id']==190706]"
   ]
  },
  {
   "cell_type": "markdown",
   "metadata": {
    "id": "kAoQtCuWN52h"
   },
   "source": [
    "# Load Domains"
   ]
  },
  {
   "cell_type": "code",
   "execution_count": 16,
   "metadata": {
    "colab": {
     "base_uri": "https://localhost:8080/"
    },
    "executionInfo": {
     "elapsed": 24043,
     "status": "ok",
     "timestamp": 1649846864405,
     "user": {
      "displayName": "Stanislav Chistyakov",
      "userId": "18109881619155439276"
     },
     "user_tz": -180
    },
    "id": "MX8tawvkJMCK",
    "outputId": "fe69df57-06ba-4e80-ad06-8ea3329af71c"
   },
   "outputs": [
    {
     "name": "stdout",
     "output_type": "stream",
     "text": [
      "Loading domains from train.csv\n",
      "domains1: 947918\n",
      "Loading domains from test.csv\n",
      "domains2: 569788\n",
      "domains: 1212771\n"
     ]
    }
   ],
   "source": [
    "print('Loading domains from train.csv')\n",
    "domains1 = read_csv_cached(data_path_train_orig, cache_path)\n",
    "domains1 = domains1[['domain']]\n",
    "domains1['domain'] = domains1['domain'].fillna(\"EMPTY\")\n",
    "domains1 = domains1.drop_duplicates()\n",
    "print(f'domains1: {len(domains1)}')\n",
    "\n",
    "print('Loading domains from test.csv')\n",
    "domains2 = read_csv_cached(data_path_test_orig, cache_path)\n",
    "domains2 = domains2[['domain']]\n",
    "domains2['domain'] = domains2['domain'].fillna(\"EMPTY\")\n",
    "domains2 = domains2.drop_duplicates()\n",
    "print(f'domains2: {len(domains2)}')\n",
    "\n",
    "domains = pd.concat([domains1, domains2])\n",
    "domains = domains.drop_duplicates()\n",
    "# domains = domains.sort_values()\n",
    "domains = domains.reset_index(drop=True)\n",
    "print(f'domains: {len(domains)}')\n",
    "del (domains1, domains2)"
   ]
  },
  {
   "cell_type": "code",
   "execution_count": 17,
   "metadata": {
    "colab": {
     "base_uri": "https://localhost:8080/"
    },
    "executionInfo": {
     "elapsed": 15003,
     "status": "ok",
     "timestamp": 1649846879379,
     "user": {
      "displayName": "Stanislav Chistyakov",
      "userId": "18109881619155439276"
     },
     "user_tz": -180
    },
    "id": "3odvzmfIKsyo",
    "outputId": "e62edc98-826d-4e71-e3f1-277ecf8b803e"
   },
   "outputs": [],
   "source": [
    "# domains[['domain1', 'domain2', 'domain3', 'domain4']] = domains.domain.apply(lambda x: x[::-1]).str.split(\".\", expand=True).fillna('EMPTY')\n",
    "\n",
    "domains = domains.set_index('domain')\n",
    "# for i in range(1,5):\n",
    "#     print(i)\n",
    "#     domains[f'domain{i}'] = domains.groupby(f'domain{i}').ngroup()\n",
    "#     domains = domains.rename(columns={f\"domain{i}\": f\"domain{i}_id\"})\n",
    "\n",
    "domains['domain_id'] = domains.groupby('domain').ngroup()"
   ]
  },
  {
   "cell_type": "code",
   "execution_count": 18,
   "metadata": {
    "colab": {
     "base_uri": "https://localhost:8080/",
     "height": 237
    },
    "executionInfo": {
     "elapsed": 354,
     "status": "ok",
     "timestamp": 1649846888229,
     "user": {
      "displayName": "Stanislav Chistyakov",
      "userId": "18109881619155439276"
     },
     "user_tz": -180
    },
    "id": "jLsEAEi7d49k",
    "outputId": "d0d01c80-f181-4ed5-b28b-8e74aba153af"
   },
   "outputs": [
    {
     "data": {
      "text/html": [
       "<div>\n",
       "<style scoped>\n",
       "    .dataframe tbody tr th:only-of-type {\n",
       "        vertical-align: middle;\n",
       "    }\n",
       "\n",
       "    .dataframe tbody tr th {\n",
       "        vertical-align: top;\n",
       "    }\n",
       "\n",
       "    .dataframe thead th {\n",
       "        text-align: right;\n",
       "    }\n",
       "</style>\n",
       "<table border=\"1\" class=\"dataframe\">\n",
       "  <thead>\n",
       "    <tr style=\"text-align: right;\">\n",
       "      <th></th>\n",
       "      <th>domain_id</th>\n",
       "    </tr>\n",
       "    <tr>\n",
       "      <th>domain</th>\n",
       "      <th></th>\n",
       "    </tr>\n",
       "  </thead>\n",
       "  <tbody>\n",
       "    <tr>\n",
       "      <th>ttGJTM.AK</th>\n",
       "      <td>410567</td>\n",
       "    </tr>\n",
       "    <tr>\n",
       "      <th>ttNggB.jg</th>\n",
       "      <td>566993</td>\n",
       "    </tr>\n",
       "    <tr>\n",
       "      <th>ttdgZf.jg</th>\n",
       "      <td>797192</td>\n",
       "    </tr>\n",
       "    <tr>\n",
       "      <th>ttsUFm.MZ</th>\n",
       "      <td>1050429</td>\n",
       "    </tr>\n",
       "    <tr>\n",
       "      <th>ttBWMn.jg</th>\n",
       "      <td>331063</td>\n",
       "    </tr>\n",
       "  </tbody>\n",
       "</table>\n",
       "</div>"
      ],
      "text/plain": [
       "           domain_id\n",
       "domain              \n",
       "ttGJTM.AK     410567\n",
       "ttNggB.jg     566993\n",
       "ttdgZf.jg     797192\n",
       "ttsUFm.MZ    1050429\n",
       "ttBWMn.jg     331063"
      ]
     },
     "execution_count": 18,
     "metadata": {},
     "output_type": "execute_result"
    }
   ],
   "source": [
    "domains.head()"
   ]
  },
  {
   "cell_type": "code",
   "execution_count": 19,
   "metadata": {
    "executionInfo": {
     "elapsed": 8174,
     "status": "ok",
     "timestamp": 1649846898451,
     "user": {
      "displayName": "Stanislav Chistyakov",
      "userId": "18109881619155439276"
     },
     "user_tz": -180
    },
    "id": "basWAPD0faVJ"
   },
   "outputs": [],
   "source": [
    "domains_dict_id =  {index:value for index, value in domains.domain_id.items()}\n",
    "# domains1_dict_id = {index:value for index, value in domains.domain1_id.items()}\n",
    "# domains2_dict_id = {index:value for index, value in domains.domain2_id.items()}\n",
    "# domains3_dict_id = {index:value for index, value in domains.domain3_id.items()}\n",
    "# domains4_dict_id = {index:value for index, value in domains.domain4_id.items()}\n",
    "# domains_dict_id"
   ]
  },
  {
   "cell_type": "markdown",
   "metadata": {
    "id": "9YpO5jTaWW62"
   },
   "source": [
    "# Process data"
   ]
  },
  {
   "cell_type": "code",
   "execution_count": 20,
   "metadata": {
    "executionInfo": {
     "elapsed": 354,
     "status": "ok",
     "timestamp": 1649847218919,
     "user": {
      "displayName": "Stanislav Chistyakov",
      "userId": "18109881619155439276"
     },
     "user_tz": -180
    },
    "id": "CyAtj6RRjZN_"
   },
   "outputs": [],
   "source": [
    "def preprocess_data(data_raw):\n",
    "    print('Processing history')\n",
    "    data1 = data_raw[data_raw.referrer_num!='target'].copy()\n",
    "\n",
    "    data1_domain = data1.domain.fillna('EMPTY').copy()\n",
    "    data1['domain']  = data1_domain.map(domains_dict_id).astype('int')\n",
    "\n",
    "    print('. Pivoting history')\n",
    "    data1 = data1.pivot(index=['device_id', 'event_group_id'], columns='referrer_num', values=['timestamp', 'domain', 'is_referrer'])\n",
    "    data1.columns = ['_'.join(col).strip() for col in data1.columns.values]\n",
    "\n",
    "    print('. Updating pivot dtypes')\n",
    "    data1 = data1.astype('int')\n",
    "    # print(data1.columns)\n",
    "    # print(data1.dtypes)         \n",
    "\n",
    "    print('Processing target')\n",
    "    data2 = data_raw[data_raw.referrer_num == 'target']\n",
    "    data2 = data2[['event_group_id', 'timestamp', 'domain']]\n",
    "\n",
    "    data2_domain = data2.domain.fillna('EMPTY').copy()\n",
    "    data2['domain']  = data2_domain.map(domains_dict_id).astype('int')\n",
    "    data2.columns = data2.columns\n",
    "\n",
    "    data2 = data2.set_index('event_group_id')    \n",
    "    # print(data2.columns)\n",
    "    # print(data2.dtypes)     \n",
    "\n",
    "    print('. Merging results')\n",
    "    data_new = data2.join(data1)\n",
    "    data_new.loc[:,data_new.columns.str.startswith('timestamp_')] = np.repeat(np.expand_dims(data_new['timestamp'].values, axis=1), 10, axis=1) - data_new.loc[:,data_new.columns.str.startswith('timestamp_')]\n",
    "    # data_new.iloc[:,1:11] = np.repeat(np.expand_dims(data_new['timestamp'].values, axis=1), 10, axis=1) - data_new.iloc[:,1:11].values\n",
    "    data_new = data_new.drop(columns='timestamp')\n",
    "    # print(data_new.columns)\n",
    "    # print(data_new.dtypes)    \n",
    "\n",
    "    return data_new"
   ]
  },
  {
   "cell_type": "code",
   "execution_count": 21,
   "metadata": {
    "colab": {
     "base_uri": "https://localhost:8080/"
    },
    "executionInfo": {
     "elapsed": 287846,
     "status": "ok",
     "timestamp": 1649847511459,
     "user": {
      "displayName": "Stanislav Chistyakov",
      "userId": "18109881619155439276"
     },
     "user_tz": -180
    },
    "id": "f2JGk2tZkbL7",
    "outputId": "5a5847a2-beb8-4106-c286-9d846e294ccc"
   },
   "outputs": [
    {
     "name": "stdout",
     "output_type": "stream",
     "text": [
      "Processing history\n",
      ". Pivoting history\n",
      ". Updating pivot dtypes\n",
      "Processing target\n",
      ". Merging results\n",
      "Processing history\n",
      ". Pivoting history\n",
      ". Updating pivot dtypes\n",
      "Processing target\n",
      ". Merging results\n"
     ]
    }
   ],
   "source": [
    "train_train = preprocess_data(train_train)\n",
    "train_test = preprocess_data(train_test)\n",
    "# train_valid = preprocess_data(train_valid)"
   ]
  },
  {
   "cell_type": "code",
   "execution_count": 22,
   "metadata": {},
   "outputs": [
    {
     "data": {
      "text/plain": [
       "Index(['domain', 'timestamp_0', 'timestamp_1', 'timestamp_2', 'timestamp_3',\n",
       "       'timestamp_4', 'timestamp_5', 'timestamp_6', 'timestamp_7',\n",
       "       'timestamp_8', 'timestamp_9', 'domain_0', 'domain_1', 'domain_2',\n",
       "       'domain_3', 'domain_4', 'domain_5', 'domain_6', 'domain_7', 'domain_8',\n",
       "       'domain_9', 'is_referrer_0', 'is_referrer_1', 'is_referrer_2',\n",
       "       'is_referrer_3', 'is_referrer_4', 'is_referrer_5', 'is_referrer_6',\n",
       "       'is_referrer_7', 'is_referrer_8', 'is_referrer_9'],\n",
       "      dtype='object')"
      ]
     },
     "execution_count": 22,
     "metadata": {},
     "output_type": "execute_result"
    }
   ],
   "source": [
    "train_train.columns"
   ]
  },
  {
   "cell_type": "markdown",
   "metadata": {
    "id": "O00RHgL0b9tk"
   },
   "source": [
    "# Get Dataset"
   ]
  },
  {
   "cell_type": "code",
   "execution_count": 23,
   "metadata": {},
   "outputs": [],
   "source": [
    "def get_raw_dataset(data):\n",
    "    # Domain\n",
    "    domain = data[['domain']]\n",
    "    domain = [value.values for key, value in domain.groupby('device_id')]\n",
    "    # print(domain[0].shape)\n",
    "    domain_dataset = tf.data.Dataset.from_generator(lambda: domain,\n",
    "                                                    domain[0].dtype,\n",
    "                                                    tf.TensorShape([None, domain[0].shape[1]]))   \n",
    "    \n",
    "    # Timestamp history\n",
    "    timestamp_history = data.loc[:,data.columns.str.startswith('timestamp_')]\n",
    "    timestamp_history = [value.values for key, value in timestamp_history.groupby('device_id')]\n",
    "    timestamp_history_dataset = tf.data.Dataset.from_generator(lambda: timestamp_history,\n",
    "                                                               timestamp_history[0].dtype,\n",
    "                                                               tf.TensorShape([None, timestamp_history[0].shape[1]]))    \n",
    "    \n",
    "    # Domain history\n",
    "    domain_history = data.loc[:,data.columns.str.startswith('domain_')]\n",
    "    domain_history = [value.values for key, value in domain_history.groupby('device_id')]\n",
    "    # print(domain_history[0].shape)\n",
    "    domain_history_dataset = tf.data.Dataset.from_generator(lambda: domain_history,\n",
    "                                                               domain_history[0].dtype,\n",
    "                                                               tf.TensorShape([None, domain_history[0].shape[1]])) \n",
    "    # Target\n",
    "    target = data.loc[:,data.columns.str.startswith('is_referrer_')]\n",
    "    target = [value.values for key, value in target.groupby('device_id')]\n",
    "    target_dataset = tf.data.Dataset.from_generator(lambda: target,\n",
    "                                                    target[0].dtype,\n",
    "                                                    tf.TensorShape([None, target[0].shape[1]]))\n",
    "    \n",
    "#     timeframe_history = tf.data.Dataset.from_tensor_slices(np.expand_dims(data.iloc[:,:10].values, axis=1))\n",
    "#     domain_history = tf.data.Dataset.from_tensor_slices(np.expand_dims(data.iloc[:,10:20].values, axis=1))\n",
    "\n",
    "\n",
    "#     domain = tf.data.Dataset.from_tensor_slices(data.domain.values)    \n",
    "#     labels = tf.data.Dataset.from_tensor_slices(data.iloc[:,20:30].values)\n",
    "\n",
    "#     features_dataset = tf.data.Dataset.zip((timeframe_history, domain_history, \n",
    "#                                             domain1_history, domain2_history, domain3_history, domain4_history,\n",
    "#                                             domain))\n",
    "    features_dataset = tf.data.Dataset.zip((domain_dataset, timestamp_history_dataset, domain_history_dataset))\n",
    "    dataset = tf.data.Dataset.zip((features_dataset, target_dataset))\n",
    "    return dataset\n",
    "\n",
    "def get_train_dataset(data):\n",
    "    dataset = get_raw_dataset(data)\n",
    "    dataset = dataset.shuffle(64*20)    \n",
    "    dataset = dataset.batch(1)\n",
    "    dataset = dataset.prefetch(buffer_size=tf.data.AUTOTUNE)   \n",
    "\n",
    "    return dataset\n",
    "\n",
    "def get_test_dataset(data):\n",
    "    dataset = get_raw_dataset(data)\n",
    "    dataset = dataset.batch(1)\n",
    "    dataset = dataset.prefetch(buffer_size=tf.data.AUTOTUNE)\n",
    "\n",
    "    return dataset\n",
    "\n",
    "# train_train_dataset = get_train_dataset(train_train)\n",
    "# train_test_dataset = get_test_dataset(train_test)\n",
    "\n",
    "# for i in train_train_dataset.take(2):\n",
    "#     print(i)"
   ]
  },
  {
   "cell_type": "markdown",
   "metadata": {
    "id": "9ULuzEhdg-dP"
   },
   "source": [
    "# Create model"
   ]
  },
  {
   "cell_type": "code",
   "execution_count": 24,
   "metadata": {},
   "outputs": [
    {
     "name": "stderr",
     "output_type": "stream",
     "text": [
      "2022-04-14 15:23:36.769943: W tensorflow/stream_executor/platform/default/dso_loader.cc:64] Could not load dynamic library 'libcuda.so.1'; dlerror: libcuda.so.1: cannot open shared object file: No such file or directory\n",
      "2022-04-14 15:23:36.769974: W tensorflow/stream_executor/cuda/cuda_driver.cc:269] failed call to cuInit: UNKNOWN ERROR (303)\n",
      "2022-04-14 15:23:36.770000: I tensorflow/stream_executor/cuda/cuda_diagnostics.cc:156] kernel driver does not appear to be running on this host (default): /proc/driver/nvidia/version does not exist\n",
      "2022-04-14 15:23:36.770197: I tensorflow/core/platform/cpu_feature_guard.cc:151] This TensorFlow binary is optimized with oneAPI Deep Neural Network Library (oneDNN) to use the following CPU instructions in performance-critical operations:  AVX2 AVX512F FMA\n",
      "To enable them in other operations, rebuild TensorFlow with the appropriate compiler flags.\n"
     ]
    },
    {
     "name": "stdout",
     "output_type": "stream",
     "text": [
      "(None, None, 10, 1)\n",
      "(None, None, 10, 128)\n",
      "(None, None, 10)\n",
      "Model: \"model\"\n",
      "__________________________________________________________________________________________________\n",
      " Layer (type)                   Output Shape         Param #     Connected to                     \n",
      "==================================================================================================\n",
      " group_timestamp_history (Input  [(None, None, 10)]  0           []                               \n",
      " Layer)                                                                                           \n",
      "                                                                                                  \n",
      " tf.cast (TFOpLambda)           (None, None, 10)     0           ['group_timestamp_history[0][0]']\n",
      "                                                                                                  \n",
      " tf.math.truediv (TFOpLambda)   (None, None, 10)     0           ['tf.cast[0][0]']                \n",
      "                                                                                                  \n",
      " group_domain_history (InputLay  [(None, None, 10)]  0           []                               \n",
      " er)                                                                                              \n",
      "                                                                                                  \n",
      " tf.expand_dims (TFOpLambda)    (None, None, 10, 1)  0           ['tf.math.truediv[0][0]']        \n",
      "                                                                                                  \n",
      " embedding (Embedding)          multiple             155234688   ['group_domain[0][0]',           \n",
      "                                                                  'group_domain_history[0][0]']   \n",
      "                                                                                                  \n",
      " concatenate (Concatenate)      (None, None, 10, 12  0           ['tf.expand_dims[0][0]',         \n",
      "                                9)                                'embedding[1][0]']              \n",
      "                                                                                                  \n",
      " group_domain (InputLayer)      [(None, None)]       0           []                               \n",
      "                                                                                                  \n",
      " time_distributed_1 (TimeDistri  (None, None, 128)   99456       ['concatenate[0][0]']            \n",
      " buted)                                                                                           \n",
      "                                                                                                  \n",
      " concatenate_1 (Concatenate)    (None, None, 256)    0           ['time_distributed_1[0][0]',     \n",
      "                                                                  'embedding[0][0]']              \n",
      "                                                                                                  \n",
      " dense (Dense)                  (None, None, 64)     16448       ['concatenate_1[0][0]']          \n",
      "                                                                                                  \n",
      " dense_1 (Dense)                (None, None, 10)     650         ['dense[0][0]']                  \n",
      "                                                                                                  \n",
      "==================================================================================================\n",
      "Total params: 155,351,242\n",
      "Trainable params: 155,351,242\n",
      "Non-trainable params: 0\n",
      "__________________________________________________________________________________________________\n"
     ]
    }
   ],
   "source": [
    "group_domain_input = tf.keras.layers.Input(shape=(None,), dtype=tf.int32, name='group_domain')\n",
    "group_timestamp_history_input = tf.keras.layers.Input(shape=(None, 10), dtype=tf.int32, name='group_timestamp_history')\n",
    "group_domain_history_input = tf.keras.layers.Input(shape=(None, 10), dtype=tf.int32, name='group_domain_history')\n",
    "\n",
    "domain_embedding = tf.keras.layers.Embedding(input_dim=len(domains_dict_id), output_dim=128)\n",
    "\n",
    "group_domain = group_domain_input\n",
    "group_domain = domain_embedding(group_domain)\n",
    "# print(group_domain.shape)\n",
    "\n",
    "timestamp_history = group_timestamp_history_input\n",
    "timestamp_history = tf.cast(timestamp_history, tf.float32) / 1000\n",
    "timestamp_history = tf.expand_dims(timestamp_history, 3)\n",
    "print(timestamp_history.shape)\n",
    "\n",
    "group_domain_history = group_domain_history_input\n",
    "group_domain_history = domain_embedding(group_domain_history)\n",
    "print(group_domain_history.shape)\n",
    "\n",
    "group_history = tf.keras.layers.Concatenate()([timestamp_history, group_domain_history])\n",
    "\n",
    "group_domain_history = tf.keras.layers.TimeDistributed(tf.keras.layers.GRU(256, return_sequences=True))(group_history)\n",
    "group_domain_history = tf.keras.layers.TimeDistributed(tf.keras.layers.GRU(128, return_sequences=False))(group_history)\n",
    "# group_domain_history = tf.keras.layers.GRU(128, return_sequences=False)(group_domain_history)\n",
    "\n",
    "group_output = tf.keras.layers.Concatenate()([group_domain_history, group_domain])\n",
    "\n",
    "group_output = tf.keras.layers.Dense(64, activation='relu')(group_output)\n",
    "group_output = tf.keras.layers.Dense(10, activation='softmax')(group_output)\n",
    "\n",
    "print(group_output.shape)\n",
    "model = tf.keras.Model(inputs=(group_domain_input,\n",
    "                               group_timestamp_history_input,\n",
    "                               group_domain_history_input\n",
    "                              ),\n",
    "                       outputs=group_output)\n",
    "model.summary()\n",
    "# # predicts = [model(x[0]) for x in train_train_dataset.take(2)]\n",
    "# # predicts\n",
    "# # model.predict(train_train_dataset.take(2))"
   ]
  },
  {
   "cell_type": "code",
   "execution_count": 25,
   "metadata": {
    "colab": {
     "base_uri": "https://localhost:8080/"
    },
    "executionInfo": {
     "elapsed": 5855,
     "status": "ok",
     "timestamp": 1649847747101,
     "user": {
      "displayName": "Stanislav Chistyakov",
      "userId": "18109881619155439276"
     },
     "user_tz": -180
    },
    "id": "hsvXLGDVOLKh",
    "outputId": "ca6cc463-bfb7-4f0a-d19f-0317fc47e5a8"
   },
   "outputs": [],
   "source": [
    "# domain_embedding = tf.keras.layers.Embedding(input_dim=len(domains_dict_id), output_dim=8)\n",
    "\n",
    "# # domain_input = tf.keras.layers.Input(shape=(None, ), dtype=tf.int32, name='domain')\n",
    "# # print(f'domain_input           ={domain_input.shape}')\n",
    "# # domain = domain_embedding(domain_input)\n",
    "# # print(f'domain                 ={domain.shape}')\n",
    "\n",
    "# # group_timestamp_history_input = tf.keras.layers.Input(shape=(None,10), dtype=tf.int32, name='timestamp_history')\n",
    "# # group_domain_history_input = tf.keras.layers.Input(shape=(None, 10), dtype=tf.int32, name='domain_history')\n",
    "\n",
    "# #########################\n",
    "# # Process each group\n",
    "# #########################\n",
    "# # timestamp_history_input = tf.keras.layers.Input(shape=(10), dtype=tf.int32, name='timestamp_history')\n",
    "# # print(f'timestamp_history_input={timestamp_history_input.shape}')\n",
    "# # timestamp_history = timestamp_history_input\n",
    "# # timestamp_history = tf.expand_dims(timestamp_history, 1)\n",
    "# # timestamp_history = tf.cast(timestamp_history, tf.float32) / 1000\n",
    "# # timestamp_history = tf.expand_dims(timestamp_history, 3)\n",
    "# # print(f'timestamp_history      ={timestamp_history.shape}')\n",
    "\n",
    "# domain_history_input = tf.keras.layers.Input(shape=(10), dtype=tf.int32, name='domain_history')\n",
    "# print(f'domain_history_input   ={domain_history_input.shape}')\n",
    "# domain_history = domain_history_input\n",
    "# domain_history = tf.expand_dims(domain_history, 1)\n",
    "# domain_history = domain_embedding(domain_history)\n",
    "# print(f'domain_history         ={domain_history.shape}')\n",
    "\n",
    "# history = domain_history\n",
    "# # history = tf.keras.layers.Concatenate()([timestamp_history, domain_history])\n",
    "# print(f'history                ={history.shape}')\n",
    "\n",
    "# history = tf.squeeze(history, 1)\n",
    "# history = layers.SpatialDropout1D(0.05)(history)\n",
    "\n",
    "# history = tf.keras.layers.GRU(256, return_sequences=True)(history)\n",
    "# history = tf.keras.layers.GRU(128, return_sequences=False)(history)\n",
    "\n",
    "# output = tf.keras.layers.Dense(128, activation='relu', kernel_regularizer=keras.regularizers.L1L2(1e-7, 1e-5))(history)\n",
    "# # output = tf.keras.layers.Dense(10, activation='softmax')(output)\n",
    "# print(f'output                 ={output.shape}')\n",
    "\n",
    "# model_by_group = tf.keras.Model(inputs=domain_history_input, outputs=output)\n",
    "# # model_by_group_layer = tf.keras.layers.Lambda(lambda x: model_by_group((x[0], x[1]), training=True))\n",
    "# # model_by_group.summary()\n",
    "# # model_by_group.compile(\n",
    "# #     loss=keras.losses.CategoricalCrossentropy(),\n",
    "# #     optimizer=tf.keras.optimizers.Adam(0.001),\n",
    "# #   #  metrics=tfa.metrics.F1Score(num_classes=10, average='macro')\n",
    "# # )\n",
    "# #########################\n",
    "\n",
    "# # group_domain_input = tf.keras.layers.Input(shape=(None, ), dtype=tf.int32, name='group_domain')\n",
    "# group_timestamp_history_input = tf.keras.layers.Input(shape=(None, 10), dtype=tf.int32, name='group_timestamp_history')\n",
    "# group_domain_history_input = tf.keras.layers.Input(shape=(None, 10), dtype=tf.int32, name='group_domain_history')\n",
    "\n",
    "# group_output = tf.keras.layers.TimeDistributed(model_by_group)(group_domain_history_input)\n",
    "# group_output = tf.keras.layers.Dense(128, activation='relu')(group_output)\n",
    "# group_output = tf.keras.layers.Dense(64, activation='relu')(group_output)\n",
    "# group_output = tf.keras.layers.Dense(10, activation='softmax')(group_output)\n",
    "\n",
    "# print(group_output.shape)\n",
    "# model = tf.keras.Model(inputs=(group_timestamp_history_input, group_domain_history_input), outputs=group_output)\n",
    "# model.summary()\n",
    "# # predicts = [model(x[0]) for x in train_train_dataset.take(2)]\n",
    "# # predicts\n",
    "# # model.predict(train_train_dataset.take(2))"
   ]
  },
  {
   "cell_type": "code",
   "execution_count": 26,
   "metadata": {
    "executionInfo": {
     "elapsed": 254,
     "status": "ok",
     "timestamp": 1649847750946,
     "user": {
      "displayName": "Stanislav Chistyakov",
      "userId": "18109881619155439276"
     },
     "user_tz": -180
    },
    "id": "p7W07Pr6OLNX"
   },
   "outputs": [],
   "source": [
    "model.compile(\n",
    "    loss=keras.losses.CategoricalCrossentropy(),\n",
    "    optimizer=tf.keras.optimizers.Adam(0.001),\n",
    "  #  metrics=tfa.metrics.F1Score(num_classes=10, average='macro')\n",
    ")"
   ]
  },
  {
   "cell_type": "markdown",
   "metadata": {
    "id": "iWY40hwTqH9f"
   },
   "source": [
    "# Fit the model"
   ]
  },
  {
   "cell_type": "code",
   "execution_count": null,
   "metadata": {},
   "outputs": [
    {
     "name": "stdout",
     "output_type": "stream",
     "text": [
      "   1191/Unknown - 2343s 2s/step - loss: 1.5731"
     ]
    }
   ],
   "source": [
    "train_train_dataset = get_train_dataset(train_train)\n",
    "train_test_dataset = get_test_dataset(train_test)\n",
    "\n",
    "train_history = model.fit(train_train_dataset,\n",
    "                          validation_data=train_test_dataset,\n",
    "                          epochs=1)"
   ]
  },
  {
   "cell_type": "code",
   "execution_count": null,
   "metadata": {},
   "outputs": [],
   "source": [
    "train_test_fact = train_test.loc[:,train_test.columns.str.startswith('is_referrer_')].values"
   ]
  },
  {
   "cell_type": "code",
   "execution_count": null,
   "metadata": {},
   "outputs": [],
   "source": [
    "train_test_pred = [model(x[0]) for x in tqdm(train_test_dataset)]"
   ]
  },
  {
   "cell_type": "code",
   "execution_count": null,
   "metadata": {},
   "outputs": [],
   "source": [
    "train_test_pred = tf.concat(train_test_pred, axis=1)"
   ]
  },
  {
   "cell_type": "code",
   "execution_count": null,
   "metadata": {},
   "outputs": [],
   "source": [
    "train_test_pred = tf.squeeze(train_test_pred)"
   ]
  },
  {
   "cell_type": "code",
   "execution_count": null,
   "metadata": {},
   "outputs": [],
   "source": [
    "train_test_pred"
   ]
  },
  {
   "cell_type": "code",
   "execution_count": null,
   "metadata": {},
   "outputs": [],
   "source": [
    "th_list = np.arange(0.1, 0.51, 0.05)\n",
    "f1_list = []\n",
    "for th in th_list:\n",
    "    f1_list.append(f1_score(train_test_fact, train_test_pred >= th, average='macro'))\n",
    "\n",
    "pd.DataFrame({'th':th_list, 'f1':f1_list}).sort_values('f1', ascending=False)"
   ]
  },
  {
   "cell_type": "code",
   "execution_count": null,
   "metadata": {},
   "outputs": [],
   "source": [
    "train_test_fact_v2 = np.argmax(train_test_fact, axis=1)\n",
    "train_test_fact_v2\n",
    "\n",
    "train_test_pred_v2 = np.argmax(train_test_pred, axis=1)\n",
    "train_test_pred_v2\n",
    "\n",
    "f1_score(train_test_fact_v2, train_test_pred_v2, average='macro')"
   ]
  },
  {
   "cell_type": "code",
   "execution_count": null,
   "metadata": {},
   "outputs": [],
   "source": []
  },
  {
   "cell_type": "code",
   "execution_count": null,
   "metadata": {},
   "outputs": [],
   "source": []
  },
  {
   "cell_type": "code",
   "execution_count": null,
   "metadata": {},
   "outputs": [],
   "source": []
  },
  {
   "cell_type": "code",
   "execution_count": null,
   "metadata": {
    "colab": {
     "base_uri": "https://localhost:8080/"
    },
    "executionInfo": {
     "elapsed": 19366,
     "status": "ok",
     "timestamp": 1649834187273,
     "user": {
      "displayName": "Stanislav Chistyakov",
      "userId": "18109881619155439276"
     },
     "user_tz": -180
    },
    "id": "KF6dFlWvRe8Z",
    "outputId": "c86eecd7-161e-4622-bcdc-a317a6afcc4a"
   },
   "outputs": [],
   "source": [
    "# train_test_pred = model.predict(train_test_dataset, verbose=1)"
   ]
  },
  {
   "cell_type": "code",
   "execution_count": null,
   "metadata": {
    "executionInfo": {
     "elapsed": 17,
     "status": "ok",
     "timestamp": 1649834187274,
     "user": {
      "displayName": "Stanislav Chistyakov",
      "userId": "18109881619155439276"
     },
     "user_tz": -180
    },
    "id": "lWtHZo4P4xue"
   },
   "outputs": [],
   "source": [
    "train_test_fact = train_test.iloc[:,20:30].values"
   ]
  },
  {
   "cell_type": "code",
   "execution_count": null,
   "metadata": {
    "colab": {
     "base_uri": "https://localhost:8080/",
     "height": 331
    },
    "executionInfo": {
     "elapsed": 4622,
     "status": "ok",
     "timestamp": 1649834191880,
     "user": {
      "displayName": "Stanislav Chistyakov",
      "userId": "18109881619155439276"
     },
     "user_tz": -180
    },
    "id": "1hN4BmXs485A",
    "outputId": "58ad982c-3588-4041-af03-3a0aee1a6b18"
   },
   "outputs": [],
   "source": [
    "th_list = np.arange(0.1, 0.51, 0.05)\n",
    "f1_list = []\n",
    "for th in th_list:\n",
    "    f1_list.append(f1_score(train_test_fact, train_test_pred >= th, average='macro'))\n",
    "\n",
    "pd.DataFrame({'th':th_list, 'f1':f1_list}).sort_values('f1', ascending=False)"
   ]
  },
  {
   "cell_type": "code",
   "execution_count": null,
   "metadata": {
    "colab": {
     "base_uri": "https://localhost:8080/"
    },
    "executionInfo": {
     "elapsed": 365,
     "status": "ok",
     "timestamp": 1649834192240,
     "user": {
      "displayName": "Stanislav Chistyakov",
      "userId": "18109881619155439276"
     },
     "user_tz": -180
    },
    "id": "kbUUmutQ62U-",
    "outputId": "54a8b028-1f2f-4939-bdfd-d57645389a50"
   },
   "outputs": [],
   "source": [
    "train_test_pred_max = np.zeros_like(train_test_pred)\n",
    "arg_max_result = np.argmax(train_test_pred, axis=1)\n",
    "for i,j in enumerate(arg_max_result):\n",
    "    train_test_pred_max[i][j] = 1\n",
    "f1_score(train_test_fact, train_test_pred_max, average='macro')"
   ]
  },
  {
   "cell_type": "code",
   "execution_count": null,
   "metadata": {
    "colab": {
     "base_uri": "https://localhost:8080/"
    },
    "executionInfo": {
     "elapsed": 210,
     "status": "ok",
     "timestamp": 1649834192446,
     "user": {
      "displayName": "Stanislav Chistyakov",
      "userId": "18109881619155439276"
     },
     "user_tz": -180
    },
    "id": "_qmuS5iWLRJW",
    "outputId": "e6141bc7-6160-4a93-ad73-3d4fbff3946d"
   },
   "outputs": [],
   "source": [
    "train_test_fact_v2 = np.argmax(train_test_fact, axis=1)\n",
    "train_test_fact_v2\n",
    "\n",
    "train_test_pred_v2 = np.argmax(train_test_pred, axis=1)\n",
    "train_test_pred_v2\n",
    "\n",
    "f1_score(train_test_fact_v2, train_test_pred_v2, average='macro')"
   ]
  },
  {
   "cell_type": "markdown",
   "metadata": {
    "id": "8j7mRDrjLXnD"
   },
   "source": [
    "# Validate on train_valid"
   ]
  },
  {
   "cell_type": "code",
   "execution_count": null,
   "metadata": {
    "colab": {
     "base_uri": "https://localhost:8080/",
     "height": 363
    },
    "executionInfo": {
     "elapsed": 5784,
     "status": "error",
     "timestamp": 1649834198225,
     "user": {
      "displayName": "Stanislav Chistyakov",
      "userId": "18109881619155439276"
     },
     "user_tz": -180
    },
    "id": "bnmCF3MJ74SX",
    "outputId": "9712c039-b011-4592-e81b-fc686a8f2bfe"
   },
   "outputs": [],
   "source": [
    "train_valid_dataset = get_test_dataset(train_valid)\n",
    "train_valid_pred = model.predict(train_valid_dataset, verbose=1)\n",
    "train_valid_fact = train_valid.iloc[:,20:30].values"
   ]
  },
  {
   "cell_type": "code",
   "execution_count": null,
   "metadata": {
    "executionInfo": {
     "elapsed": 367,
     "status": "aborted",
     "timestamp": 1649834197991,
     "user": {
      "displayName": "Stanislav Chistyakov",
      "userId": "18109881619155439276"
     },
     "user_tz": -180
    },
    "id": "aK7VyWh2-fO_"
   },
   "outputs": [],
   "source": [
    "th_list = np.arange(0.1, 0.51, 0.05)\n",
    "f1_list = []\n",
    "for th in th_list:\n",
    "    f1_list.append(f1_score(train_valid_fact, train_valid_pred >= th, average='macro'))\n",
    "\n",
    "pd.DataFrame({'th':th_list, 'f1':f1_list}).sort_values('f1', ascending=False)"
   ]
  },
  {
   "cell_type": "markdown",
   "metadata": {
    "id": "yeBGiy0JMvmv"
   },
   "source": [
    "# Prediction"
   ]
  },
  {
   "cell_type": "code",
   "execution_count": null,
   "metadata": {
    "colab": {
     "base_uri": "https://localhost:8080/"
    },
    "executionInfo": {
     "elapsed": 4357,
     "status": "ok",
     "timestamp": 1649839049317,
     "user": {
      "displayName": "Stanislav Chistyakov",
      "userId": "18109881619155439276"
     },
     "user_tz": -180
    },
    "id": "aVhrXD9QMxZ2",
    "outputId": "764a08b3-70bb-4277-da61-cceb737248a5"
   },
   "outputs": [],
   "source": [
    "test = read_csv_cached(data_path_test_orig, cache_path)"
   ]
  },
  {
   "cell_type": "code",
   "execution_count": null,
   "metadata": {
    "executionInfo": {
     "elapsed": 369,
     "status": "aborted",
     "timestamp": 1649834197993,
     "user": {
      "displayName": "Stanislav Chistyakov",
      "userId": "18109881619155439276"
     },
     "user_tz": -180
    },
    "id": "KYxxNi7bNEpn"
   },
   "outputs": [],
   "source": [
    "test = preprocess_data(test, domains_dict_id)"
   ]
  },
  {
   "cell_type": "code",
   "execution_count": null,
   "metadata": {},
   "outputs": [],
   "source": []
  }
 ],
 "metadata": {
  "accelerator": "GPU",
  "colab": {
   "authorship_tag": "ABX9TyM8AuOBsOvxcycAmDdzcrgq",
   "collapsed_sections": [],
   "mount_file_id": "1NIC_IZhoamTh--AEbcRHFt7J0vbXmF0y",
   "name": "baseline_v1.ipynb",
   "provenance": [],
   "toc_visible": true
  },
  "kernelspec": {
   "display_name": "d2l:Python",
   "language": "python",
   "name": "conda-env-d2l-py"
  },
  "language_info": {
   "codemirror_mode": {
    "name": "ipython",
    "version": 3
   },
   "file_extension": ".py",
   "mimetype": "text/x-python",
   "name": "python",
   "nbconvert_exporter": "python",
   "pygments_lexer": "ipython3",
   "version": "3.9.7"
  }
 },
 "nbformat": 4,
 "nbformat_minor": 4
}
