{
 "cells": [
  {
   "cell_type": "code",
   "execution_count": 1,
   "metadata": {
    "executionInfo": {
     "elapsed": 6,
     "status": "ok",
     "timestamp": 1649846786864,
     "user": {
      "displayName": "Stanislav Chistyakov",
      "userId": "18109881619155439276"
     },
     "user_tz": -180
    },
    "id": "myysdoo709NA"
   },
   "outputs": [],
   "source": [
    "# data_path_train_orig = '/content/drive/MyDrive/boosters_semrush/data/semrush_cup_train_data.csv'\n",
    "# data_path_test_orig = '/content/drive/MyDrive/boosters_semrush/data/semrush_cup_test_data.csv'\n",
    "# data_path_sample_orig = '/content/drive/MyDrive/boosters_semrush/data/semrush_cup_sub.csv'\n",
    "# data_path_dict_orig = '/content/drive/MyDrive/boosters_semrush/data/semrush_cup_categories_and_demo.csv'\n",
    "\n",
    "# cache_path = '/content/drive/MyDrive/boosters_semrush/cache'"
   ]
  },
  {
   "cell_type": "code",
   "execution_count": 2,
   "metadata": {},
   "outputs": [],
   "source": [
    "data_path_train_orig = 'data/semrush_cup_train_data.csv'\n",
    "data_path_test_orig = 'data/semrush_cup_test_data.csv'\n",
    "data_path_sample_orig = 'data/semrush_cup_sub.csv'\n",
    "data_path_dict_orig = 'data/semrush_cup_categories_and_demo.csv'\n",
    "\n",
    "cache_path = 'cache'"
   ]
  },
  {
   "cell_type": "code",
   "execution_count": 3,
   "metadata": {
    "colab": {
     "base_uri": "https://localhost:8080/"
    },
    "executionInfo": {
     "elapsed": 279,
     "status": "ok",
     "timestamp": 1649846787915,
     "user": {
      "displayName": "Stanislav Chistyakov",
      "userId": "18109881619155439276"
     },
     "user_tz": -180
    },
    "id": "zfq-x0lPio3l",
    "outputId": "d3c31f11-a49f-458f-ab4c-d565ac9b359c"
   },
   "outputs": [
    {
     "name": "stdout",
     "output_type": "stream",
     "text": [
      "/usr/bin/sh: 1: nvidia-smi: not found\n"
     ]
    }
   ],
   "source": [
    "!nvidia-smi"
   ]
  },
  {
   "cell_type": "markdown",
   "metadata": {
    "id": "GRObdcZwuw9P",
    "tags": []
   },
   "source": [
    "# Init"
   ]
  },
  {
   "cell_type": "code",
   "execution_count": 4,
   "metadata": {
    "colab": {
     "base_uri": "https://localhost:8080/"
    },
    "executionInfo": {
     "elapsed": 9269,
     "status": "ok",
     "timestamp": 1649846798290,
     "user": {
      "displayName": "Stanislav Chistyakov",
      "userId": "18109881619155439276"
     },
     "user_tz": -180
    },
    "id": "v4j5_bPQSADJ",
    "outputId": "88d4c120-31ad-4d66-ccb0-91d20b405b33"
   },
   "outputs": [],
   "source": [
    "# !pip3 install sklearn\n",
    "# !pip install tensorflow \n",
    "# !pip3 install tensorflow_addons"
   ]
  },
  {
   "cell_type": "code",
   "execution_count": 5,
   "metadata": {
    "executionInfo": {
     "elapsed": 2240,
     "status": "ok",
     "timestamp": 1649846800520,
     "user": {
      "displayName": "Stanislav Chistyakov",
      "userId": "18109881619155439276"
     },
     "user_tz": -180
    },
    "id": "T0Ef6XsH3C4W"
   },
   "outputs": [],
   "source": [
    "import pandas as pd\n",
    "import pickle\n",
    "import os\n",
    "from pathlib import Path\n",
    "\n",
    "from sklearn.model_selection import train_test_split"
   ]
  },
  {
   "cell_type": "code",
   "execution_count": 6,
   "metadata": {
    "executionInfo": {
     "elapsed": 7907,
     "status": "ok",
     "timestamp": 1649846808416,
     "user": {
      "displayName": "Stanislav Chistyakov",
      "userId": "18109881619155439276"
     },
     "user_tz": -180
    },
    "id": "XFaUkkOWMLsO"
   },
   "outputs": [
    {
     "name": "stderr",
     "output_type": "stream",
     "text": [
      "2022-04-13 11:34:32.664461: W tensorflow/stream_executor/platform/default/dso_loader.cc:64] Could not load dynamic library 'libcudart.so.11.0'; dlerror: libcudart.so.11.0: cannot open shared object file: No such file or directory\n",
      "2022-04-13 11:34:32.664492: I tensorflow/stream_executor/cuda/cudart_stub.cc:29] Ignore above cudart dlerror if you do not have a GPU set up on your machine.\n"
     ]
    }
   ],
   "source": [
    "import numpy as np\n",
    "import tensorflow as tf\n",
    "import tensorflow_addons as tfa\n",
    "from tensorflow import keras\n",
    "from tensorflow.keras import layers"
   ]
  },
  {
   "cell_type": "code",
   "execution_count": 7,
   "metadata": {
    "executionInfo": {
     "elapsed": 20,
     "status": "ok",
     "timestamp": 1649846808417,
     "user": {
      "displayName": "Stanislav Chistyakov",
      "userId": "18109881619155439276"
     },
     "user_tz": -180
    },
    "id": "uTW4bvLR1pjc"
   },
   "outputs": [],
   "source": [
    "def read_csv_cached(csv_path, cache_path):\n",
    "    data = pd.read_csv(csv_path)\n",
    "    return data \n",
    "\n",
    "#     print(f'read_csv_cached: csv_path={csv_path} cache_path={cache_path}')\n",
    "\n",
    "#     os.makedirs(cache_path, exist_ok=True)\n",
    "\n",
    "#     csv_path_cached_pickle = Path(cache_path) / (Path(csv_path).name + '.pickle')\n",
    "#     print(f'read_csv_cached: csv_path_cached_pickle={csv_path_cached_pickle}')\n",
    "\n",
    "#     if not(Path(csv_path_cached_pickle).exists()):\n",
    "#         print(f'read_csv_cached: missing cache')\n",
    "#         data = pd.read_csv(csv_path)\n",
    "        \n",
    "#         with open(csv_path_cached_pickle, 'wb') as f:\n",
    "#             pickle.dump(data, f)\n",
    "#     else:\n",
    "#         print(f'read_csv_cached: cached')\n",
    "\n",
    "#     print(f'read_csv_cached: reading from cache')\n",
    "#     with open(csv_path_cached_pickle, 'rb') as f:      \n",
    "#         data = pickle.load(f)\n",
    "    \n",
    "#     print(f'read_csv_cached: done')\n",
    "#     return data\n",
    "\n",
    "def split_train(train_path, cache_path):\n",
    "    print(f'split_train: train_path={train_path} cache_path={cache_path}')\n",
    "\n",
    "    os.makedirs(cache_path, exist_ok=True)\n",
    "\n",
    "    data_path_cached_pickle = Path(cache_path) / ('split_train' + '.pickle')\n",
    "    print(f'split_train: data_path_cached_pickle={data_path_cached_pickle}')\n",
    "\n",
    "    if not(Path(data_path_cached_pickle).exists()):\n",
    "        print(f'split_train: missing cache')\n",
    "\n",
    "        train = read_csv_cached(train_path, cache_path)\n",
    "\n",
    "        uids_list = train['device_id'].unique()\n",
    "        train_train_uids, train_test_uids = train_test_split(uids_list, train_size=0.6, random_state=7)\n",
    "        train_test_uids, train_valid_uids = train_test_split(train_test_uids, train_size=0.5, random_state=7)\n",
    "\n",
    "        train_train_data = train.loc[train['device_id'].isin(train_train_uids)]\n",
    "        train_test_data = train.loc[train['device_id'].isin(train_test_uids)]\n",
    "        train_valid_data = train.loc[train['device_id'].isin(train_valid_uids)]\n",
    "\n",
    "        data = (train_train_data, train_test_data, train_valid_data)\n",
    "        \n",
    "        with open(data_path_cached_pickle, 'wb') as f:\n",
    "            pickle.dump(data, f)\n",
    "    else:\n",
    "        print(f'split_train: cached')\n",
    "\n",
    "    print(f'split_train: reading from cache')\n",
    "    with open(data_path_cached_pickle, 'rb') as f:      \n",
    "        data = pickle.load(f)\n",
    "    \n",
    "    train_train, train_test, train_valid = data\n",
    "    print(f'data size: train={len(train_train)}, test={len(train_test)}, valid={len(train_valid)}')\n",
    "\n",
    "    return data"
   ]
  },
  {
   "cell_type": "markdown",
   "metadata": {
    "id": "Zv3Ue0tmu1VV"
   },
   "source": [
    "# Read data"
   ]
  },
  {
   "cell_type": "code",
   "execution_count": 8,
   "metadata": {
    "colab": {
     "base_uri": "https://localhost:8080/"
    },
    "executionInfo": {
     "elapsed": 24942,
     "status": "ok",
     "timestamp": 1649846840398,
     "user": {
      "displayName": "Stanislav Chistyakov",
      "userId": "18109881619155439276"
     },
     "user_tz": -180
    },
    "id": "-rn-JqF38tBW",
    "outputId": "8ae22ee4-7c6d-4813-83e5-abb5ad52038d"
   },
   "outputs": [
    {
     "name": "stdout",
     "output_type": "stream",
     "text": [
      "split_train: train_path=data/semrush_cup_train_data.csv cache_path=cache\n",
      "split_train: data_path_cached_pickle=cache/split_train.pickle\n",
      "split_train: cached\n",
      "split_train: reading from cache\n",
      "data size: train=7810396, test=2632773, valid=2597474\n"
     ]
    }
   ],
   "source": [
    "train_train, train_test, train_valid = split_train(data_path_train_orig, cache_path)"
   ]
  },
  {
   "cell_type": "code",
   "execution_count": 9,
   "metadata": {
    "colab": {
     "base_uri": "https://localhost:8080/",
     "height": 395
    },
    "executionInfo": {
     "elapsed": 43,
     "status": "ok",
     "timestamp": 1649846840399,
     "user": {
      "displayName": "Stanislav Chistyakov",
      "userId": "18109881619155439276"
     },
     "user_tz": -180
    },
    "id": "c2BK7ot4AyJO",
    "outputId": "3c8f4e54-ea94-49ec-c85f-94fcb72a0dba"
   },
   "outputs": [
    {
     "data": {
      "text/html": [
       "<div>\n",
       "<style scoped>\n",
       "    .dataframe tbody tr th:only-of-type {\n",
       "        vertical-align: middle;\n",
       "    }\n",
       "\n",
       "    .dataframe tbody tr th {\n",
       "        vertical-align: top;\n",
       "    }\n",
       "\n",
       "    .dataframe thead th {\n",
       "        text-align: right;\n",
       "    }\n",
       "</style>\n",
       "<table border=\"1\" class=\"dataframe\">\n",
       "  <thead>\n",
       "    <tr style=\"text-align: right;\">\n",
       "      <th></th>\n",
       "      <th>event_group_id</th>\n",
       "      <th>device_id</th>\n",
       "      <th>timestamp</th>\n",
       "      <th>domain</th>\n",
       "      <th>referrer_domain</th>\n",
       "      <th>url</th>\n",
       "      <th>referrer_url</th>\n",
       "      <th>referrer_num</th>\n",
       "      <th>is_referrer</th>\n",
       "    </tr>\n",
       "  </thead>\n",
       "  <tbody>\n",
       "    <tr>\n",
       "      <th>0</th>\n",
       "      <td>39147</td>\n",
       "      <td>100000</td>\n",
       "      <td>1174857389</td>\n",
       "      <td>ttGJTM.AK</td>\n",
       "      <td>ttNggB.jg</td>\n",
       "      <td>tWAmxZ.ttGJTM.AK/jCYBFH/jlYGps/jjGbCS/jrsypg</td>\n",
       "      <td>tWAmxZ.ttNggB.jg/jdSNxb</td>\n",
       "      <td>0</td>\n",
       "      <td>False</td>\n",
       "    </tr>\n",
       "    <tr>\n",
       "      <th>1</th>\n",
       "      <td>39147</td>\n",
       "      <td>100000</td>\n",
       "      <td>1174857499</td>\n",
       "      <td>ttNggB.jg</td>\n",
       "      <td>NaN</td>\n",
       "      <td>tWAmxZ.ttNggB.jg/jHSjLY</td>\n",
       "      <td>NaN</td>\n",
       "      <td>1</td>\n",
       "      <td>False</td>\n",
       "    </tr>\n",
       "    <tr>\n",
       "      <th>2</th>\n",
       "      <td>39147</td>\n",
       "      <td>100000</td>\n",
       "      <td>1174857514</td>\n",
       "      <td>ttdgZf.jg</td>\n",
       "      <td>ttNggB.jg</td>\n",
       "      <td>ttdgZf.jg/jdSNxb</td>\n",
       "      <td>tWAmxZ.ttNggB.jg/jdSNxb</td>\n",
       "      <td>2</td>\n",
       "      <td>False</td>\n",
       "    </tr>\n",
       "    <tr>\n",
       "      <th>3</th>\n",
       "      <td>39147</td>\n",
       "      <td>100000</td>\n",
       "      <td>1174857523</td>\n",
       "      <td>ttNggB.jg</td>\n",
       "      <td>ttdgZf.jg</td>\n",
       "      <td>tWAmxZ.ttNggB.jg/jHSjLY</td>\n",
       "      <td>ttdgZf.jg/jdSNxb</td>\n",
       "      <td>3</td>\n",
       "      <td>False</td>\n",
       "    </tr>\n",
       "    <tr>\n",
       "      <th>4</th>\n",
       "      <td>39147</td>\n",
       "      <td>100000</td>\n",
       "      <td>1174857529</td>\n",
       "      <td>ttsUFm.MZ</td>\n",
       "      <td>ttNggB.jg</td>\n",
       "      <td>ttsUFm.MZ/jjdsdQ/jHiiZc/jHICvz/jjIijp/jdLZBy/j...</td>\n",
       "      <td>tWAmxZ.ttNggB.jg/jdSNxb</td>\n",
       "      <td>4</td>\n",
       "      <td>False</td>\n",
       "    </tr>\n",
       "    <tr>\n",
       "      <th>5</th>\n",
       "      <td>39147</td>\n",
       "      <td>100000</td>\n",
       "      <td>1174857546</td>\n",
       "      <td>ttBWMn.jg</td>\n",
       "      <td>ttNggB.jg</td>\n",
       "      <td>tWAmxZ.ttBWMn.jg/jHLvKC/jdSNxb</td>\n",
       "      <td>tWAmxZ.ttNggB.jg/jdSNxb</td>\n",
       "      <td>5</td>\n",
       "      <td>True</td>\n",
       "    </tr>\n",
       "    <tr>\n",
       "      <th>6</th>\n",
       "      <td>39147</td>\n",
       "      <td>100000</td>\n",
       "      <td>1174857562</td>\n",
       "      <td>tWxuXo.MZ</td>\n",
       "      <td>ttNggB.jg</td>\n",
       "      <td>ttjvjg.tWxuXo.MZ/jHKZdc/jrbQKv/jjHNIG/jHgCli/j...</td>\n",
       "      <td>tWAmxZ.ttNggB.jg/jdSNxb</td>\n",
       "      <td>6</td>\n",
       "      <td>False</td>\n",
       "    </tr>\n",
       "    <tr>\n",
       "      <th>7</th>\n",
       "      <td>39147</td>\n",
       "      <td>100000</td>\n",
       "      <td>1174857665</td>\n",
       "      <td>ttxgCt.jg</td>\n",
       "      <td>ttBWMn.jg</td>\n",
       "      <td>tWAmxZ.ttxgCt.jg/jjxlps</td>\n",
       "      <td>tWAmxZ.ttBWMn.jg/jjGuNS/jjcbKW</td>\n",
       "      <td>7</td>\n",
       "      <td>False</td>\n",
       "    </tr>\n",
       "    <tr>\n",
       "      <th>8</th>\n",
       "      <td>39147</td>\n",
       "      <td>100000</td>\n",
       "      <td>1174857670</td>\n",
       "      <td>tWzTqL.jg</td>\n",
       "      <td>ttxgCt.jg</td>\n",
       "      <td>ttuNso.tWzTqL.jg/jvjYYW</td>\n",
       "      <td>tWAmxZ.ttxgCt.jg/jjxlps</td>\n",
       "      <td>8</td>\n",
       "      <td>False</td>\n",
       "    </tr>\n",
       "    <tr>\n",
       "      <th>9</th>\n",
       "      <td>39147</td>\n",
       "      <td>100000</td>\n",
       "      <td>1174857671</td>\n",
       "      <td>ttkgWu.jg</td>\n",
       "      <td>tWzTqL.jg</td>\n",
       "      <td>tWAmxZ.ttkgWu.jg/jHcdBZ/jdSNxb</td>\n",
       "      <td>ttuNso.tWzTqL.jg/jvjYYW</td>\n",
       "      <td>9</td>\n",
       "      <td>False</td>\n",
       "    </tr>\n",
       "    <tr>\n",
       "      <th>10</th>\n",
       "      <td>39147</td>\n",
       "      <td>100000</td>\n",
       "      <td>1174857725</td>\n",
       "      <td>ttzFdN.MO</td>\n",
       "      <td>ttBWMn.jg</td>\n",
       "      <td>ttzFdN.MO/jjpbZC</td>\n",
       "      <td>tWAmxZ.ttBWMn.jg/jlvvNg/jHLvKC/jdbjYK</td>\n",
       "      <td>target</td>\n",
       "      <td>False</td>\n",
       "    </tr>\n",
       "  </tbody>\n",
       "</table>\n",
       "</div>"
      ],
      "text/plain": [
       "    event_group_id  device_id   timestamp     domain referrer_domain  \\\n",
       "0            39147     100000  1174857389  ttGJTM.AK       ttNggB.jg   \n",
       "1            39147     100000  1174857499  ttNggB.jg             NaN   \n",
       "2            39147     100000  1174857514  ttdgZf.jg       ttNggB.jg   \n",
       "3            39147     100000  1174857523  ttNggB.jg       ttdgZf.jg   \n",
       "4            39147     100000  1174857529  ttsUFm.MZ       ttNggB.jg   \n",
       "5            39147     100000  1174857546  ttBWMn.jg       ttNggB.jg   \n",
       "6            39147     100000  1174857562  tWxuXo.MZ       ttNggB.jg   \n",
       "7            39147     100000  1174857665  ttxgCt.jg       ttBWMn.jg   \n",
       "8            39147     100000  1174857670  tWzTqL.jg       ttxgCt.jg   \n",
       "9            39147     100000  1174857671  ttkgWu.jg       tWzTqL.jg   \n",
       "10           39147     100000  1174857725  ttzFdN.MO       ttBWMn.jg   \n",
       "\n",
       "                                                  url  \\\n",
       "0        tWAmxZ.ttGJTM.AK/jCYBFH/jlYGps/jjGbCS/jrsypg   \n",
       "1                             tWAmxZ.ttNggB.jg/jHSjLY   \n",
       "2                                    ttdgZf.jg/jdSNxb   \n",
       "3                             tWAmxZ.ttNggB.jg/jHSjLY   \n",
       "4   ttsUFm.MZ/jjdsdQ/jHiiZc/jHICvz/jjIijp/jdLZBy/j...   \n",
       "5                      tWAmxZ.ttBWMn.jg/jHLvKC/jdSNxb   \n",
       "6   ttjvjg.tWxuXo.MZ/jHKZdc/jrbQKv/jjHNIG/jHgCli/j...   \n",
       "7                             tWAmxZ.ttxgCt.jg/jjxlps   \n",
       "8                             ttuNso.tWzTqL.jg/jvjYYW   \n",
       "9                      tWAmxZ.ttkgWu.jg/jHcdBZ/jdSNxb   \n",
       "10                                   ttzFdN.MO/jjpbZC   \n",
       "\n",
       "                             referrer_url referrer_num  is_referrer  \n",
       "0                 tWAmxZ.ttNggB.jg/jdSNxb            0        False  \n",
       "1                                     NaN            1        False  \n",
       "2                 tWAmxZ.ttNggB.jg/jdSNxb            2        False  \n",
       "3                        ttdgZf.jg/jdSNxb            3        False  \n",
       "4                 tWAmxZ.ttNggB.jg/jdSNxb            4        False  \n",
       "5                 tWAmxZ.ttNggB.jg/jdSNxb            5         True  \n",
       "6                 tWAmxZ.ttNggB.jg/jdSNxb            6        False  \n",
       "7          tWAmxZ.ttBWMn.jg/jjGuNS/jjcbKW            7        False  \n",
       "8                 tWAmxZ.ttxgCt.jg/jjxlps            8        False  \n",
       "9                 ttuNso.tWzTqL.jg/jvjYYW            9        False  \n",
       "10  tWAmxZ.ttBWMn.jg/jlvvNg/jHLvKC/jdbjYK       target        False  "
      ]
     },
     "execution_count": 9,
     "metadata": {},
     "output_type": "execute_result"
    }
   ],
   "source": [
    "train_train[train_train.event_group_id==39147]"
   ]
  },
  {
   "cell_type": "code",
   "execution_count": 10,
   "metadata": {
    "executionInfo": {
     "elapsed": 40,
     "status": "ok",
     "timestamp": 1649846840400,
     "user": {
      "displayName": "Stanislav Chistyakov",
      "userId": "18109881619155439276"
     },
     "user_tz": -180
    },
    "id": "jyhSMijMKj_b"
   },
   "outputs": [],
   "source": [
    "# sample = read_csv_cached(data_path_sample_orig, cache_path)"
   ]
  },
  {
   "cell_type": "code",
   "execution_count": 11,
   "metadata": {
    "executionInfo": {
     "elapsed": 39,
     "status": "ok",
     "timestamp": 1649846840400,
     "user": {
      "displayName": "Stanislav Chistyakov",
      "userId": "18109881619155439276"
     },
     "user_tz": -180
    },
    "id": "_MGf21g3K6Uj"
   },
   "outputs": [],
   "source": [
    "# sample"
   ]
  },
  {
   "cell_type": "markdown",
   "metadata": {
    "id": "kAoQtCuWN52h"
   },
   "source": [
    "# Load Domains"
   ]
  },
  {
   "cell_type": "code",
   "execution_count": 12,
   "metadata": {
    "colab": {
     "base_uri": "https://localhost:8080/"
    },
    "executionInfo": {
     "elapsed": 24043,
     "status": "ok",
     "timestamp": 1649846864405,
     "user": {
      "displayName": "Stanislav Chistyakov",
      "userId": "18109881619155439276"
     },
     "user_tz": -180
    },
    "id": "MX8tawvkJMCK",
    "outputId": "fe69df57-06ba-4e80-ad06-8ea3329af71c"
   },
   "outputs": [
    {
     "name": "stdout",
     "output_type": "stream",
     "text": [
      "Loading domains from train.csv\n",
      "domains1: 947918\n",
      "Loading domains from test.csv\n",
      "domains2: 569788\n",
      "domains: 1212771\n"
     ]
    }
   ],
   "source": [
    "print('Loading domains from train.csv')\n",
    "domains1 = read_csv_cached(data_path_train_orig, cache_path)\n",
    "domains1 = domains1[['domain']]\n",
    "domains1['domain'] = domains1['domain'].fillna(\"EMPTY\")\n",
    "domains1 = domains1.drop_duplicates()\n",
    "print(f'domains1: {len(domains1)}')\n",
    "\n",
    "print('Loading domains from test.csv')\n",
    "domains2 = read_csv_cached(data_path_test_orig, cache_path)\n",
    "domains2 = domains2[['domain']]\n",
    "domains2['domain'] = domains2['domain'].fillna(\"EMPTY\")\n",
    "domains2 = domains2.drop_duplicates()\n",
    "print(f'domains2: {len(domains2)}')\n",
    "\n",
    "domains = pd.concat([domains1, domains2])\n",
    "domains = domains.drop_duplicates()\n",
    "# domains = domains.sort_values()\n",
    "domains = domains.reset_index(drop=True)\n",
    "print(f'domains: {len(domains)}')\n",
    "del (domains1, domains2)"
   ]
  },
  {
   "cell_type": "code",
   "execution_count": 13,
   "metadata": {
    "colab": {
     "base_uri": "https://localhost:8080/"
    },
    "executionInfo": {
     "elapsed": 15003,
     "status": "ok",
     "timestamp": 1649846879379,
     "user": {
      "displayName": "Stanislav Chistyakov",
      "userId": "18109881619155439276"
     },
     "user_tz": -180
    },
    "id": "3odvzmfIKsyo",
    "outputId": "e62edc98-826d-4e71-e3f1-277ecf8b803e"
   },
   "outputs": [
    {
     "name": "stdout",
     "output_type": "stream",
     "text": [
      "1\n",
      "2\n",
      "3\n",
      "4\n"
     ]
    }
   ],
   "source": [
    "domains[['domain1', 'domain2', 'domain3', 'domain4']] = domains.domain.apply(lambda x: x[::-1]).str.split(\".\", expand=True).fillna('EMPTY')\n",
    "\n",
    "domains = domains.set_index('domain')\n",
    "for i in range(1,5):\n",
    "    print(i)\n",
    "    domains[f'domain{i}'] = domains.groupby(f'domain{i}').ngroup()\n",
    "    domains = domains.rename(columns={f\"domain{i}\": f\"domain{i}_id\"})\n",
    "\n",
    "domains['domain_id'] = domains.groupby('domain').ngroup()"
   ]
  },
  {
   "cell_type": "code",
   "execution_count": 14,
   "metadata": {
    "colab": {
     "base_uri": "https://localhost:8080/",
     "height": 237
    },
    "executionInfo": {
     "elapsed": 354,
     "status": "ok",
     "timestamp": 1649846888229,
     "user": {
      "displayName": "Stanislav Chistyakov",
      "userId": "18109881619155439276"
     },
     "user_tz": -180
    },
    "id": "jLsEAEi7d49k",
    "outputId": "d0d01c80-f181-4ed5-b28b-8e74aba153af"
   },
   "outputs": [
    {
     "data": {
      "text/html": [
       "<div>\n",
       "<style scoped>\n",
       "    .dataframe tbody tr th:only-of-type {\n",
       "        vertical-align: middle;\n",
       "    }\n",
       "\n",
       "    .dataframe tbody tr th {\n",
       "        vertical-align: top;\n",
       "    }\n",
       "\n",
       "    .dataframe thead th {\n",
       "        text-align: right;\n",
       "    }\n",
       "</style>\n",
       "<table border=\"1\" class=\"dataframe\">\n",
       "  <thead>\n",
       "    <tr style=\"text-align: right;\">\n",
       "      <th></th>\n",
       "      <th>domain1_id</th>\n",
       "      <th>domain2_id</th>\n",
       "      <th>domain3_id</th>\n",
       "      <th>domain4_id</th>\n",
       "      <th>domain_id</th>\n",
       "    </tr>\n",
       "    <tr>\n",
       "      <th>domain</th>\n",
       "      <th></th>\n",
       "      <th></th>\n",
       "      <th></th>\n",
       "      <th></th>\n",
       "      <th></th>\n",
       "    </tr>\n",
       "  </thead>\n",
       "  <tbody>\n",
       "    <tr>\n",
       "      <th>ttGJTM.AK</th>\n",
       "      <td>58</td>\n",
       "      <td>263721</td>\n",
       "      <td>10272</td>\n",
       "      <td>46</td>\n",
       "      <td>410567</td>\n",
       "    </tr>\n",
       "    <tr>\n",
       "      <th>ttNggB.jg</th>\n",
       "      <td>191</td>\n",
       "      <td>51044</td>\n",
       "      <td>10272</td>\n",
       "      <td>46</td>\n",
       "      <td>566993</td>\n",
       "    </tr>\n",
       "    <tr>\n",
       "      <th>ttdgZf.jg</th>\n",
       "      <td>191</td>\n",
       "      <td>584688</td>\n",
       "      <td>10272</td>\n",
       "      <td>46</td>\n",
       "      <td>797192</td>\n",
       "    </tr>\n",
       "    <tr>\n",
       "      <th>ttsUFm.MZ</th>\n",
       "      <td>161</td>\n",
       "      <td>698170</td>\n",
       "      <td>10272</td>\n",
       "      <td>46</td>\n",
       "      <td>1050429</td>\n",
       "    </tr>\n",
       "    <tr>\n",
       "      <th>ttBWMn.jg</th>\n",
       "      <td>191</td>\n",
       "      <td>734745</td>\n",
       "      <td>10272</td>\n",
       "      <td>46</td>\n",
       "      <td>331063</td>\n",
       "    </tr>\n",
       "  </tbody>\n",
       "</table>\n",
       "</div>"
      ],
      "text/plain": [
       "           domain1_id  domain2_id  domain3_id  domain4_id  domain_id\n",
       "domain                                                              \n",
       "ttGJTM.AK          58      263721       10272          46     410567\n",
       "ttNggB.jg         191       51044       10272          46     566993\n",
       "ttdgZf.jg         191      584688       10272          46     797192\n",
       "ttsUFm.MZ         161      698170       10272          46    1050429\n",
       "ttBWMn.jg         191      734745       10272          46     331063"
      ]
     },
     "execution_count": 14,
     "metadata": {},
     "output_type": "execute_result"
    }
   ],
   "source": [
    "domains.head()"
   ]
  },
  {
   "cell_type": "code",
   "execution_count": 15,
   "metadata": {
    "executionInfo": {
     "elapsed": 8174,
     "status": "ok",
     "timestamp": 1649846898451,
     "user": {
      "displayName": "Stanislav Chistyakov",
      "userId": "18109881619155439276"
     },
     "user_tz": -180
    },
    "id": "basWAPD0faVJ"
   },
   "outputs": [],
   "source": [
    "domains_dict_id =  {index:value for index, value in domains.domain_id.items()}\n",
    "domains1_dict_id = {index:value for index, value in domains.domain1_id.items()}\n",
    "domains2_dict_id = {index:value for index, value in domains.domain2_id.items()}\n",
    "domains3_dict_id = {index:value for index, value in domains.domain3_id.items()}\n",
    "domains4_dict_id = {index:value for index, value in domains.domain4_id.items()}\n",
    "# domains_dict_id"
   ]
  },
  {
   "cell_type": "code",
   "execution_count": 16,
   "metadata": {
    "id": "2Bn8XH6AJzQC"
   },
   "outputs": [],
   "source": [
    "# domains = domains.union(set(train.domain.fillna(\"EMPTY\").unique()))"
   ]
  },
  {
   "cell_type": "code",
   "execution_count": 17,
   "metadata": {
    "colab": {
     "base_uri": "https://localhost:8080/"
    },
    "executionInfo": {
     "elapsed": 31323,
     "status": "ok",
     "timestamp": 1649833163815,
     "user": {
      "displayName": "Stanislav Chistyakov",
      "userId": "18109881619155439276"
     },
     "user_tz": -180
    },
    "id": "NKFWXSf_N-_A",
    "outputId": "beec5919-9ac7-4d97-ef81-0bad921d1774"
   },
   "outputs": [],
   "source": [
    "# domains = set()\n",
    "\n",
    "# train = read_csv_cached(data_path_train_orig, cache_path)\n",
    "# domains = domains.union(set(train.domain.fillna(\"EMPTY\").unique()))\n",
    "# del(train)\n",
    "\n",
    "# test = read_csv_cached(data_path_test_orig, cache_path)\n",
    "# domains = domains.union(set(test.domain.fillna(\"EMPTY\").unique()))\n",
    "# del(test)\n",
    "\n",
    "# print(len(domains))"
   ]
  },
  {
   "cell_type": "code",
   "execution_count": 18,
   "metadata": {
    "executionInfo": {
     "elapsed": 434,
     "status": "ok",
     "timestamp": 1649846380877,
     "user": {
      "displayName": "Stanislav Chistyakov",
      "userId": "18109881619155439276"
     },
     "user_tz": -180
    },
    "id": "gmOSzUeoN8op"
   },
   "outputs": [],
   "source": [
    "# # domains = train_train.domain.unique()\n",
    "# domains = list(set(np.concatenate([train_train.domain.fillna(\"EMPTY\").unique(),\n",
    "#                                    train_train.referrer_domain.fillna(\"EMPTY\").unique(),\n",
    "#                                    train_test.domain.fillna(\"EMPTY\").unique(),\n",
    "#                                    train_test.referrer_domain.fillna(\"EMPTY\").unique(),\n",
    "#                                    train_valid.domain.fillna(\"EMPTY\").unique(),\n",
    "#                                    train_valid.referrer_domain.fillna(\"EMPTY\").unique(),                                   \n",
    "#                                    ])))\n",
    "# print(len(domains))\n",
    "# domains_dict_id = {key:value for value, key in enumerate(domains)}"
   ]
  },
  {
   "cell_type": "markdown",
   "metadata": {
    "id": "9YpO5jTaWW62"
   },
   "source": [
    "# Process data"
   ]
  },
  {
   "cell_type": "code",
   "execution_count": 19,
   "metadata": {
    "executionInfo": {
     "elapsed": 354,
     "status": "ok",
     "timestamp": 1649847218919,
     "user": {
      "displayName": "Stanislav Chistyakov",
      "userId": "18109881619155439276"
     },
     "user_tz": -180
    },
    "id": "CyAtj6RRjZN_"
   },
   "outputs": [],
   "source": [
    "def preprocess_data(data_raw):\n",
    "    print('Processing history')\n",
    "    data1 = data_raw[data_raw.referrer_num!='target'].copy()\n",
    "\n",
    "    data1_domain = data1.domain.fillna('EMPTY').copy()\n",
    "    data1['domain1'] = data1_domain.map(domains1_dict_id).astype('int')\n",
    "    data1['domain2'] = data1_domain.map(domains2_dict_id).astype('int')\n",
    "    data1['domain3'] = data1_domain.map(domains3_dict_id).astype('int')\n",
    "    data1['domain4'] = data1_domain.map(domains4_dict_id).astype('int')    \n",
    "    data1['domain']  = data1_domain.map(domains_dict_id).astype('int')\n",
    "\n",
    "    # data1 = data1[['event_group_id', 'timestamp', 'domain', 'is_referrer', 'referrer_num']]\n",
    "\n",
    "    print('. Pivoting history')\n",
    "    data1 = data1.pivot(index='event_group_id', columns='referrer_num', values=['timestamp', 'domain', 'is_referrer', 'domain1', 'domain2', 'domain3', 'domain4'])\n",
    "\n",
    "    print('. Updating pivot dtypes')\n",
    "    data1.iloc[:,:70] = data1.iloc[:,:70].astype('int')\n",
    "    # print(data1.columns)\n",
    "\n",
    "    print('Processing target')\n",
    "    data2 = data_raw[data_raw.referrer_num == 'target']\n",
    "    data2 = data2[['event_group_id', 'timestamp', 'domain']]\n",
    "\n",
    "    data2_domain = data2.domain.fillna('EMPTY').copy()\n",
    "    data2['domain1'] = data2_domain.map(domains1_dict_id).astype('int')\n",
    "    data2['domain2'] = data2_domain.map(domains2_dict_id).astype('int')\n",
    "    data2['domain3'] = data2_domain.map(domains3_dict_id).astype('int')\n",
    "    data2['domain4'] = data2_domain.map(domains4_dict_id).astype('int')\n",
    "    data2['domain']  = data2_domain.map(domains_dict_id).astype('int')\n",
    "\n",
    "    data2 = data2.set_index('event_group_id')    \n",
    "    # print(data2.columns)\n",
    "\n",
    "    print('. Merging results')\n",
    "    data_new = data1.join(data2)\n",
    "    data_new.iloc[:,:10] = np.repeat(np.expand_dims(data_new['timestamp'].values, axis=1), 10, axis=1) - data_new.iloc[:,:10].values\n",
    "    data_new = data_new.drop(columns='timestamp')\n",
    "    # print(data_new.columns)\n",
    "\n",
    "    return data_new"
   ]
  },
  {
   "cell_type": "code",
   "execution_count": 20,
   "metadata": {
    "colab": {
     "base_uri": "https://localhost:8080/"
    },
    "executionInfo": {
     "elapsed": 287846,
     "status": "ok",
     "timestamp": 1649847511459,
     "user": {
      "displayName": "Stanislav Chistyakov",
      "userId": "18109881619155439276"
     },
     "user_tz": -180
    },
    "id": "f2JGk2tZkbL7",
    "outputId": "5a5847a2-beb8-4106-c286-9d846e294ccc"
   },
   "outputs": [
    {
     "name": "stdout",
     "output_type": "stream",
     "text": [
      "Processing history\n",
      ". Pivoting history\n",
      ". Updating pivot dtypes\n",
      "Processing target\n",
      ". Merging results\n"
     ]
    },
    {
     "name": "stderr",
     "output_type": "stream",
     "text": [
      "/home/studio-lab-user/.conda/envs/d2l/lib/python3.9/site-packages/pandas/core/frame.py:9130: FutureWarning: merging between different levels is deprecated and will be removed in a future version. (2 levels on the left,1 on the right)\n",
      "  return merge(\n"
     ]
    },
    {
     "name": "stdout",
     "output_type": "stream",
     "text": [
      "Processing history\n",
      ". Pivoting history\n",
      ". Updating pivot dtypes\n",
      "Processing target\n",
      ". Merging results\n"
     ]
    }
   ],
   "source": [
    "train_train = preprocess_data(train_train)\n",
    "train_test = preprocess_data(train_test)\n",
    "# train_valid = preprocess_data(train_valid)"
   ]
  },
  {
   "cell_type": "markdown",
   "metadata": {
    "id": "O00RHgL0b9tk"
   },
   "source": [
    "# Get Dataset"
   ]
  },
  {
   "cell_type": "code",
   "execution_count": 21,
   "metadata": {
    "colab": {
     "base_uri": "https://localhost:8080/"
    },
    "executionInfo": {
     "elapsed": 1736,
     "status": "ok",
     "timestamp": 1649847526671,
     "user": {
      "displayName": "Stanislav Chistyakov",
      "userId": "18109881619155439276"
     },
     "user_tz": -180
    },
    "id": "lu4LF3hScAc1",
    "outputId": "fa7937f9-59bd-4c26-b9b1-0f869c85994a"
   },
   "outputs": [
    {
     "name": "stderr",
     "output_type": "stream",
     "text": [
      "2022-04-13 11:38:13.608933: W tensorflow/stream_executor/platform/default/dso_loader.cc:64] Could not load dynamic library 'libcuda.so.1'; dlerror: libcuda.so.1: cannot open shared object file: No such file or directory\n",
      "2022-04-13 11:38:13.608967: W tensorflow/stream_executor/cuda/cuda_driver.cc:269] failed call to cuInit: UNKNOWN ERROR (303)\n",
      "2022-04-13 11:38:13.608994: I tensorflow/stream_executor/cuda/cuda_diagnostics.cc:156] kernel driver does not appear to be running on this host (default): /proc/driver/nvidia/version does not exist\n",
      "2022-04-13 11:38:13.613905: I tensorflow/core/platform/cpu_feature_guard.cc:151] This TensorFlow binary is optimized with oneAPI Deep Neural Network Library (oneDNN) to use the following CPU instructions in performance-critical operations:  AVX2 AVX512F FMA\n",
      "To enable them in other operations, rebuild TensorFlow with the appropriate compiler flags.\n"
     ]
    },
    {
     "name": "stdout",
     "output_type": "stream",
     "text": [
      "((<tf.Tensor: shape=(1, 10), dtype=int64, numpy=array([[118, 117, 117, 116, 110, 105, 101,  98,  79,   2]])>, <tf.Tensor: shape=(1, 10), dtype=int64, numpy=\n",
      "array([[830860, 234725, 562463,  69133, 234725, 706371, 561235, 549981,\n",
      "        566993, 346652]])>, <tf.Tensor: shape=(1, 10), dtype=int64, numpy=array([[191, 191, 191, 191, 191, 191, 191, 191, 191, 210]])>, <tf.Tensor: shape=(1, 10), dtype=int64, numpy=\n",
      "array([[151945, 588159, 908767, 314255, 588159, 741681, 170296, 217123,\n",
      "         51044, 306111]])>, <tf.Tensor: shape=(1, 10), dtype=int64, numpy=\n",
      "array([[10272, 10272, 10272, 10272, 10272, 10272, 10272, 10272, 10272,\n",
      "         1180]])>, <tf.Tensor: shape=(1, 10), dtype=int64, numpy=array([[46, 46, 46, 46, 46, 46, 46, 46, 46, 46]])>, <tf.Tensor: shape=(), dtype=int64, numpy=1168608>), <tf.Tensor: shape=(10,), dtype=int64, numpy=array([0, 0, 0, 0, 0, 0, 0, 0, 0, 1])>)\n"
     ]
    }
   ],
   "source": [
    "def get_raw_dataset(data):\n",
    "    timeframe_history = tf.data.Dataset.from_tensor_slices(np.expand_dims(data.iloc[:,:10].values, axis=1))\n",
    "    domain_history = tf.data.Dataset.from_tensor_slices(np.expand_dims(data.iloc[:,10:20].values, axis=1))\n",
    "\n",
    "    domain1_history = tf.data.Dataset.from_tensor_slices(np.expand_dims(data.iloc[:,30:40].values, axis=1))\n",
    "    domain2_history = tf.data.Dataset.from_tensor_slices(np.expand_dims(data.iloc[:,40:50].values, axis=1))\n",
    "    domain3_history = tf.data.Dataset.from_tensor_slices(np.expand_dims(data.iloc[:,50:60].values, axis=1))\n",
    "    domain4_history = tf.data.Dataset.from_tensor_slices(np.expand_dims(data.iloc[:,60:70].values, axis=1))\n",
    "\n",
    "    domain = tf.data.Dataset.from_tensor_slices(data.domain.values)    \n",
    "    labels = tf.data.Dataset.from_tensor_slices(data.iloc[:,20:30].values)\n",
    "\n",
    "    features_dataset = tf.data.Dataset.zip((timeframe_history, domain_history, \n",
    "                                            domain1_history, domain2_history, domain3_history, domain4_history,\n",
    "                                            domain))\n",
    "    dataset = tf.data.Dataset.zip((features_dataset, labels))\n",
    "\n",
    "    return dataset\n",
    "\n",
    "def get_train_dataset(data):\n",
    "    dataset = get_raw_dataset(data)\n",
    "    dataset = dataset.shuffle(64*20)    \n",
    "    dataset = dataset.batch(64)\n",
    "    dataset = dataset.prefetch(buffer_size=tf.data.AUTOTUNE)   \n",
    "\n",
    "    return dataset\n",
    "\n",
    "def get_test_dataset(data):\n",
    "    dataset = get_raw_dataset(data)\n",
    "    dataset = dataset.batch(64)\n",
    "    dataset = dataset.prefetch(buffer_size=tf.data.AUTOTUNE)\n",
    "\n",
    "    return dataset\n",
    "\n",
    "train_train_dataset = get_train_dataset(train_train)\n",
    "train_test_dataset = get_test_dataset(train_test)\n",
    "\n",
    "for i in get_raw_dataset(train_train).take(1):\n",
    "    print(i)"
   ]
  },
  {
   "cell_type": "markdown",
   "metadata": {
    "id": "9ULuzEhdg-dP"
   },
   "source": [
    "# Create model"
   ]
  },
  {
   "cell_type": "code",
   "execution_count": 22,
   "metadata": {
    "colab": {
     "base_uri": "https://localhost:8080/"
    },
    "executionInfo": {
     "elapsed": 5855,
     "status": "ok",
     "timestamp": 1649847747101,
     "user": {
      "displayName": "Stanislav Chistyakov",
      "userId": "18109881619155439276"
     },
     "user_tz": -180
    },
    "id": "hsvXLGDVOLKh",
    "outputId": "ca6cc463-bfb7-4f0a-d19f-0317fc47e5a8"
   },
   "outputs": [
    {
     "name": "stdout",
     "output_type": "stream",
     "text": [
      "Model: \"model\"\n",
      "__________________________________________________________________________________________________\n",
      " Layer (type)                   Output Shape         Param #     Connected to                     \n",
      "==================================================================================================\n",
      " timestamp_history (InputLayer)  [(None, 1, 10)]     0           []                               \n",
      "                                                                                                  \n",
      " tf.cast (TFOpLambda)           (None, 1, 10)        0           ['timestamp_history[0][0]']      \n",
      "                                                                                                  \n",
      " tf.math.truediv (TFOpLambda)   (None, 1, 10)        0           ['tf.cast[0][0]']                \n",
      "                                                                                                  \n",
      " domain_history (InputLayer)    [(None, 1, 10)]      0           []                               \n",
      "                                                                                                  \n",
      " tf.expand_dims (TFOpLambda)    (None, 1, 10, 1)     0           ['tf.math.truediv[0][0]']        \n",
      "                                                                                                  \n",
      " embedding (Embedding)          multiple             9702168     ['domain_history[0][0]',         \n",
      "                                                                  'domain[0][0]']                 \n",
      "                                                                                                  \n",
      " concatenate (Concatenate)      (None, 1, 10, 9)     0           ['tf.expand_dims[0][0]',         \n",
      "                                                                  'embedding[0][0]']              \n",
      "                                                                                                  \n",
      " tf.compat.v1.squeeze (TFOpLamb  (None, 10, 9)       0           ['concatenate[0][0]']            \n",
      " da)                                                                                              \n",
      "                                                                                                  \n",
      " spatial_dropout1d (SpatialDrop  (None, 10, 9)       0           ['tf.compat.v1.squeeze[0][0]']   \n",
      " out1D)                                                                                           \n",
      "                                                                                                  \n",
      " gru (GRU)                      (None, 10, 256)      205056      ['spatial_dropout1d[0][0]']      \n",
      "                                                                                                  \n",
      " domain (InputLayer)            [(None,)]            0           []                               \n",
      "                                                                                                  \n",
      " gru_1 (GRU)                    (None, 128)          148224      ['gru[0][0]']                    \n",
      "                                                                                                  \n",
      " concatenate_1 (Concatenate)    (None, 136)          0           ['gru_1[0][0]',                  \n",
      "                                                                  'embedding[1][0]']              \n",
      "                                                                                                  \n",
      " dense (Dense)                  (None, 128)          17536       ['concatenate_1[0][0]']          \n",
      "                                                                                                  \n",
      " domain1_history (InputLayer)   [(None, 1, 10)]      0           []                               \n",
      "                                                                                                  \n",
      " domain2_history (InputLayer)   [(None, 1, 10)]      0           []                               \n",
      "                                                                                                  \n",
      " domain3_history (InputLayer)   [(None, 1, 10)]      0           []                               \n",
      "                                                                                                  \n",
      " domain4_history (InputLayer)   [(None, 1, 10)]      0           []                               \n",
      "                                                                                                  \n",
      " dense_1 (Dense)                (None, 10)           1290        ['dense[0][0]']                  \n",
      "                                                                                                  \n",
      "==================================================================================================\n",
      "Total params: 10,074,274\n",
      "Trainable params: 10,074,274\n",
      "Non-trainable params: 0\n",
      "__________________________________________________________________________________________________\n"
     ]
    },
    {
     "data": {
      "text/plain": [
       "array([[0.0991885 , 0.10079766, 0.10089838, ..., 0.09884706, 0.10079177,\n",
       "        0.10191014],\n",
       "       [0.09975296, 0.10237639, 0.09938625, ..., 0.09942356, 0.09849713,\n",
       "        0.10250196],\n",
       "       [0.10008019, 0.10149033, 0.0998697 , ..., 0.09854023, 0.10003991,\n",
       "        0.10090977],\n",
       "       ...,\n",
       "       [0.09956571, 0.10067805, 0.09967744, ..., 0.10072471, 0.10010724,\n",
       "        0.1012039 ],\n",
       "       [0.09926265, 0.1016297 , 0.10039549, ..., 0.0988146 , 0.09992678,\n",
       "        0.10201303],\n",
       "       [0.09941099, 0.09969334, 0.10044973, ..., 0.09963947, 0.10026305,\n",
       "        0.1002931 ]], dtype=float32)"
      ]
     },
     "execution_count": 22,
     "metadata": {},
     "output_type": "execute_result"
    }
   ],
   "source": [
    "input_timestamp_history = tf.keras.layers.Input(shape=(1,10), dtype=tf.int32, name='timestamp_history')\n",
    "timestamp_history = tf.cast(input_timestamp_history, tf.float32)  / 1000\n",
    "timestamp_history = tf.expand_dims(timestamp_history, 3)\n",
    "\n",
    "domain_embedding = tf.keras.layers.Embedding(input_dim=len(domains_dict_id), output_dim=8)\n",
    "domain1_embedding = tf.keras.layers.Embedding(input_dim=len(domains1_dict_id), output_dim=8)\n",
    "domain2_embedding = tf.keras.layers.Embedding(input_dim=len(domains2_dict_id), output_dim=8)\n",
    "domain3_embedding = tf.keras.layers.Embedding(input_dim=len(domains3_dict_id), output_dim=8)\n",
    "domain4_embedding = tf.keras.layers.Embedding(input_dim=len(domains4_dict_id), output_dim=8)\n",
    "\n",
    "\n",
    "input_domain_history = tf.keras.layers.Input(shape=(1,10), dtype=tf.int32, name='domain_history')\n",
    "domain_history = domain_embedding(input_domain_history)\n",
    "\n",
    "input_domain1_history = tf.keras.layers.Input(shape=(1,10), dtype=tf.int32, name='domain1_history')\n",
    "domain1_history = domain1_embedding(input_domain1_history)\n",
    "\n",
    "input_domain2_history = tf.keras.layers.Input(shape=(1,10), dtype=tf.int32, name='domain2_history')\n",
    "domain2_history = domain2_embedding(input_domain2_history)\n",
    "\n",
    "input_domain3_history = tf.keras.layers.Input(shape=(1,10), dtype=tf.int32, name='domain3_history')\n",
    "domain3_history = domain3_embedding(input_domain3_history)\n",
    "\n",
    "input_domain4_history = tf.keras.layers.Input(shape=(1,10), dtype=tf.int32, name='domain4_history')\n",
    "domain4_history = domain4_embedding(input_domain4_history)\n",
    "\n",
    "# input_referrer_domain_history = tf.keras.layers.Input(shape=(1,10), dtype=tf.int32, name='referrer_domain_history')\n",
    "# referrer_domain_history = domain_embedding(input_referrer_domain_history)\n",
    "\n",
    "history = tf.keras.layers.Concatenate()([timestamp_history, domain_history])\n",
    "history = tf.squeeze(history, 1)\n",
    "history = layers.SpatialDropout1D(0.20)(history)\n",
    "\n",
    "history = tf.keras.layers.GRU(256, return_sequences=True)(history)\n",
    "history = tf.keras.layers.GRU(128, return_sequences=False)(history)\n",
    "\n",
    "##\n",
    "# history_max = tf.keras.layers.GlobalMaxPooling1D()(history)\n",
    "# history_avg = tf.keras.layers.GlobalAveragePooling1D()(history)\n",
    "# history = tf.keras.layers.Concatenate()([history_max, history_avg])\n",
    "##\n",
    "\n",
    "input_domain = tf.keras.layers.Input(shape=(), dtype=tf.int32, name='domain')\n",
    "domain = domain_embedding(input_domain)\n",
    "output = tf.keras.layers.Concatenate()([history, domain])\n",
    "\n",
    "output = tf.keras.layers.Dense(128, activation='relu', kernel_regularizer=keras.regularizers.L1L2(1e-7, 1e-5))(output)\n",
    "output = tf.keras.layers.Dense(10, activation='softmax')(output)\n",
    "\n",
    "model = tf.keras.Model(inputs=(input_timestamp_history, input_domain_history,\n",
    "                               input_domain1_history, input_domain2_history, input_domain3_history, input_domain4_history,\n",
    "                               input_domain), outputs=output)\n",
    "model.summary()\n",
    "\n",
    "model.predict(train_train_dataset.take(2))"
   ]
  },
  {
   "cell_type": "code",
   "execution_count": 23,
   "metadata": {
    "executionInfo": {
     "elapsed": 254,
     "status": "ok",
     "timestamp": 1649847750946,
     "user": {
      "displayName": "Stanislav Chistyakov",
      "userId": "18109881619155439276"
     },
     "user_tz": -180
    },
    "id": "p7W07Pr6OLNX"
   },
   "outputs": [],
   "source": [
    "model.compile(\n",
    "    loss=keras.losses.CategoricalCrossentropy(),\n",
    "    optimizer=tf.keras.optimizers.Adam(0.001),\n",
    "    metrics=tfa.metrics.F1Score(num_classes=10, average='macro')\n",
    ")"
   ]
  },
  {
   "cell_type": "markdown",
   "metadata": {
    "id": "iWY40hwTqH9f"
   },
   "source": [
    "# Fit the model"
   ]
  },
  {
   "cell_type": "code",
   "execution_count": 24,
   "metadata": {
    "colab": {
     "base_uri": "https://localhost:8080/",
     "height": 381
    },
    "executionInfo": {
     "elapsed": 353158,
     "status": "error",
     "timestamp": 1649848106303,
     "user": {
      "displayName": "Stanislav Chistyakov",
      "userId": "18109881619155439276"
     },
     "user_tz": -180
    },
    "id": "M5vR7aGmRe5r",
    "outputId": "13de5660-60bd-46e9-98db-308c0e3ece60"
   },
   "outputs": [
    {
     "name": "stdout",
     "output_type": "stream",
     "text": [
      "Epoch 1/5\n",
      "11095/11095 [==============================] - 1611s 145ms/step - loss: 1.1843 - f1_score: 0.3844 - val_loss: 0.9963 - val_f1_score: 0.4768\n",
      "Epoch 2/5\n",
      "11095/11095 [==============================] - 1614s 146ms/step - loss: 0.8667 - f1_score: 0.5439 - val_loss: 0.9677 - val_f1_score: 0.5025\n",
      "Epoch 3/5\n",
      "11095/11095 [==============================] - 1626s 147ms/step - loss: 0.7125 - f1_score: 0.6144 - val_loss: 1.0082 - val_f1_score: 0.5066\n",
      "Epoch 4/5\n",
      "11095/11095 [==============================] - 1643s 148ms/step - loss: 0.6192 - f1_score: 0.6591 - val_loss: 1.0657 - val_f1_score: 0.4998\n",
      "Epoch 5/5\n",
      "  951/11095 [=>............................] - ETA: 24:29 - loss: 0.5767 - f1_score: 0.6705"
     ]
    },
    {
     "ename": "KeyboardInterrupt",
     "evalue": "",
     "output_type": "error",
     "traceback": [
      "\u001b[0;31m---------------------------------------------------------------------------\u001b[0m",
      "\u001b[0;31mKeyboardInterrupt\u001b[0m                         Traceback (most recent call last)",
      "\u001b[0;32m/tmp/ipykernel_73/403802514.py\u001b[0m in \u001b[0;36m<module>\u001b[0;34m\u001b[0m\n\u001b[0;32m----> 1\u001b[0;31m train_history = model.fit(train_train_dataset,\n\u001b[0m\u001b[1;32m      2\u001b[0m                           \u001b[0mvalidation_data\u001b[0m\u001b[0;34m=\u001b[0m\u001b[0mtrain_test_dataset\u001b[0m\u001b[0;34m,\u001b[0m\u001b[0;34m\u001b[0m\u001b[0;34m\u001b[0m\u001b[0m\n\u001b[1;32m      3\u001b[0m                           epochs=5)\n",
      "\u001b[0;32m~/.conda/envs/d2l/lib/python3.9/site-packages/keras/utils/traceback_utils.py\u001b[0m in \u001b[0;36merror_handler\u001b[0;34m(*args, **kwargs)\u001b[0m\n\u001b[1;32m     62\u001b[0m     \u001b[0mfiltered_tb\u001b[0m \u001b[0;34m=\u001b[0m \u001b[0;32mNone\u001b[0m\u001b[0;34m\u001b[0m\u001b[0;34m\u001b[0m\u001b[0m\n\u001b[1;32m     63\u001b[0m     \u001b[0;32mtry\u001b[0m\u001b[0;34m:\u001b[0m\u001b[0;34m\u001b[0m\u001b[0;34m\u001b[0m\u001b[0m\n\u001b[0;32m---> 64\u001b[0;31m       \u001b[0;32mreturn\u001b[0m \u001b[0mfn\u001b[0m\u001b[0;34m(\u001b[0m\u001b[0;34m*\u001b[0m\u001b[0margs\u001b[0m\u001b[0;34m,\u001b[0m \u001b[0;34m**\u001b[0m\u001b[0mkwargs\u001b[0m\u001b[0;34m)\u001b[0m\u001b[0;34m\u001b[0m\u001b[0;34m\u001b[0m\u001b[0m\n\u001b[0m\u001b[1;32m     65\u001b[0m     \u001b[0;32mexcept\u001b[0m \u001b[0mException\u001b[0m \u001b[0;32mas\u001b[0m \u001b[0me\u001b[0m\u001b[0;34m:\u001b[0m  \u001b[0;31m# pylint: disable=broad-except\u001b[0m\u001b[0;34m\u001b[0m\u001b[0;34m\u001b[0m\u001b[0m\n\u001b[1;32m     66\u001b[0m       \u001b[0mfiltered_tb\u001b[0m \u001b[0;34m=\u001b[0m \u001b[0m_process_traceback_frames\u001b[0m\u001b[0;34m(\u001b[0m\u001b[0me\u001b[0m\u001b[0;34m.\u001b[0m\u001b[0m__traceback__\u001b[0m\u001b[0;34m)\u001b[0m\u001b[0;34m\u001b[0m\u001b[0;34m\u001b[0m\u001b[0m\n",
      "\u001b[0;32m~/.conda/envs/d2l/lib/python3.9/site-packages/keras/engine/training.py\u001b[0m in \u001b[0;36mfit\u001b[0;34m(self, x, y, batch_size, epochs, verbose, callbacks, validation_split, validation_data, shuffle, class_weight, sample_weight, initial_epoch, steps_per_epoch, validation_steps, validation_batch_size, validation_freq, max_queue_size, workers, use_multiprocessing)\u001b[0m\n\u001b[1;32m   1382\u001b[0m                 _r=1):\n\u001b[1;32m   1383\u001b[0m               \u001b[0mcallbacks\u001b[0m\u001b[0;34m.\u001b[0m\u001b[0mon_train_batch_begin\u001b[0m\u001b[0;34m(\u001b[0m\u001b[0mstep\u001b[0m\u001b[0;34m)\u001b[0m\u001b[0;34m\u001b[0m\u001b[0;34m\u001b[0m\u001b[0m\n\u001b[0;32m-> 1384\u001b[0;31m               \u001b[0mtmp_logs\u001b[0m \u001b[0;34m=\u001b[0m \u001b[0mself\u001b[0m\u001b[0;34m.\u001b[0m\u001b[0mtrain_function\u001b[0m\u001b[0;34m(\u001b[0m\u001b[0miterator\u001b[0m\u001b[0;34m)\u001b[0m\u001b[0;34m\u001b[0m\u001b[0;34m\u001b[0m\u001b[0m\n\u001b[0m\u001b[1;32m   1385\u001b[0m               \u001b[0;32mif\u001b[0m \u001b[0mdata_handler\u001b[0m\u001b[0;34m.\u001b[0m\u001b[0mshould_sync\u001b[0m\u001b[0;34m:\u001b[0m\u001b[0;34m\u001b[0m\u001b[0;34m\u001b[0m\u001b[0m\n\u001b[1;32m   1386\u001b[0m                 \u001b[0mcontext\u001b[0m\u001b[0;34m.\u001b[0m\u001b[0masync_wait\u001b[0m\u001b[0;34m(\u001b[0m\u001b[0;34m)\u001b[0m\u001b[0;34m\u001b[0m\u001b[0;34m\u001b[0m\u001b[0m\n",
      "\u001b[0;32m~/.conda/envs/d2l/lib/python3.9/site-packages/tensorflow/python/util/traceback_utils.py\u001b[0m in \u001b[0;36merror_handler\u001b[0;34m(*args, **kwargs)\u001b[0m\n\u001b[1;32m    148\u001b[0m     \u001b[0mfiltered_tb\u001b[0m \u001b[0;34m=\u001b[0m \u001b[0;32mNone\u001b[0m\u001b[0;34m\u001b[0m\u001b[0;34m\u001b[0m\u001b[0m\n\u001b[1;32m    149\u001b[0m     \u001b[0;32mtry\u001b[0m\u001b[0;34m:\u001b[0m\u001b[0;34m\u001b[0m\u001b[0;34m\u001b[0m\u001b[0m\n\u001b[0;32m--> 150\u001b[0;31m       \u001b[0;32mreturn\u001b[0m \u001b[0mfn\u001b[0m\u001b[0;34m(\u001b[0m\u001b[0;34m*\u001b[0m\u001b[0margs\u001b[0m\u001b[0;34m,\u001b[0m \u001b[0;34m**\u001b[0m\u001b[0mkwargs\u001b[0m\u001b[0;34m)\u001b[0m\u001b[0;34m\u001b[0m\u001b[0;34m\u001b[0m\u001b[0m\n\u001b[0m\u001b[1;32m    151\u001b[0m     \u001b[0;32mexcept\u001b[0m \u001b[0mException\u001b[0m \u001b[0;32mas\u001b[0m \u001b[0me\u001b[0m\u001b[0;34m:\u001b[0m\u001b[0;34m\u001b[0m\u001b[0;34m\u001b[0m\u001b[0m\n\u001b[1;32m    152\u001b[0m       \u001b[0mfiltered_tb\u001b[0m \u001b[0;34m=\u001b[0m \u001b[0m_process_traceback_frames\u001b[0m\u001b[0;34m(\u001b[0m\u001b[0me\u001b[0m\u001b[0;34m.\u001b[0m\u001b[0m__traceback__\u001b[0m\u001b[0;34m)\u001b[0m\u001b[0;34m\u001b[0m\u001b[0;34m\u001b[0m\u001b[0m\n",
      "\u001b[0;32m~/.conda/envs/d2l/lib/python3.9/site-packages/tensorflow/python/eager/def_function.py\u001b[0m in \u001b[0;36m__call__\u001b[0;34m(self, *args, **kwds)\u001b[0m\n\u001b[1;32m    913\u001b[0m \u001b[0;34m\u001b[0m\u001b[0m\n\u001b[1;32m    914\u001b[0m       \u001b[0;32mwith\u001b[0m \u001b[0mOptionalXlaContext\u001b[0m\u001b[0;34m(\u001b[0m\u001b[0mself\u001b[0m\u001b[0;34m.\u001b[0m\u001b[0m_jit_compile\u001b[0m\u001b[0;34m)\u001b[0m\u001b[0;34m:\u001b[0m\u001b[0;34m\u001b[0m\u001b[0;34m\u001b[0m\u001b[0m\n\u001b[0;32m--> 915\u001b[0;31m         \u001b[0mresult\u001b[0m \u001b[0;34m=\u001b[0m \u001b[0mself\u001b[0m\u001b[0;34m.\u001b[0m\u001b[0m_call\u001b[0m\u001b[0;34m(\u001b[0m\u001b[0;34m*\u001b[0m\u001b[0margs\u001b[0m\u001b[0;34m,\u001b[0m \u001b[0;34m**\u001b[0m\u001b[0mkwds\u001b[0m\u001b[0;34m)\u001b[0m\u001b[0;34m\u001b[0m\u001b[0;34m\u001b[0m\u001b[0m\n\u001b[0m\u001b[1;32m    916\u001b[0m \u001b[0;34m\u001b[0m\u001b[0m\n\u001b[1;32m    917\u001b[0m       \u001b[0mnew_tracing_count\u001b[0m \u001b[0;34m=\u001b[0m \u001b[0mself\u001b[0m\u001b[0;34m.\u001b[0m\u001b[0mexperimental_get_tracing_count\u001b[0m\u001b[0;34m(\u001b[0m\u001b[0;34m)\u001b[0m\u001b[0;34m\u001b[0m\u001b[0;34m\u001b[0m\u001b[0m\n",
      "\u001b[0;32m~/.conda/envs/d2l/lib/python3.9/site-packages/tensorflow/python/eager/def_function.py\u001b[0m in \u001b[0;36m_call\u001b[0;34m(self, *args, **kwds)\u001b[0m\n\u001b[1;32m    945\u001b[0m       \u001b[0;31m# In this case we have created variables on the first call, so we run the\u001b[0m\u001b[0;34m\u001b[0m\u001b[0;34m\u001b[0m\u001b[0m\n\u001b[1;32m    946\u001b[0m       \u001b[0;31m# defunned version which is guaranteed to never create variables.\u001b[0m\u001b[0;34m\u001b[0m\u001b[0;34m\u001b[0m\u001b[0m\n\u001b[0;32m--> 947\u001b[0;31m       \u001b[0;32mreturn\u001b[0m \u001b[0mself\u001b[0m\u001b[0;34m.\u001b[0m\u001b[0m_stateless_fn\u001b[0m\u001b[0;34m(\u001b[0m\u001b[0;34m*\u001b[0m\u001b[0margs\u001b[0m\u001b[0;34m,\u001b[0m \u001b[0;34m**\u001b[0m\u001b[0mkwds\u001b[0m\u001b[0;34m)\u001b[0m  \u001b[0;31m# pylint: disable=not-callable\u001b[0m\u001b[0;34m\u001b[0m\u001b[0;34m\u001b[0m\u001b[0m\n\u001b[0m\u001b[1;32m    948\u001b[0m     \u001b[0;32melif\u001b[0m \u001b[0mself\u001b[0m\u001b[0;34m.\u001b[0m\u001b[0m_stateful_fn\u001b[0m \u001b[0;32mis\u001b[0m \u001b[0;32mnot\u001b[0m \u001b[0;32mNone\u001b[0m\u001b[0;34m:\u001b[0m\u001b[0;34m\u001b[0m\u001b[0;34m\u001b[0m\u001b[0m\n\u001b[1;32m    949\u001b[0m       \u001b[0;31m# Release the lock early so that multiple threads can perform the call\u001b[0m\u001b[0;34m\u001b[0m\u001b[0;34m\u001b[0m\u001b[0m\n",
      "\u001b[0;32m~/.conda/envs/d2l/lib/python3.9/site-packages/tensorflow/python/eager/function.py\u001b[0m in \u001b[0;36m__call__\u001b[0;34m(self, *args, **kwargs)\u001b[0m\n\u001b[1;32m   2954\u001b[0m       (graph_function,\n\u001b[1;32m   2955\u001b[0m        filtered_flat_args) = self._maybe_define_function(args, kwargs)\n\u001b[0;32m-> 2956\u001b[0;31m     return graph_function._call_flat(\n\u001b[0m\u001b[1;32m   2957\u001b[0m         filtered_flat_args, captured_inputs=graph_function.captured_inputs)  # pylint: disable=protected-access\n\u001b[1;32m   2958\u001b[0m \u001b[0;34m\u001b[0m\u001b[0m\n",
      "\u001b[0;32m~/.conda/envs/d2l/lib/python3.9/site-packages/tensorflow/python/eager/function.py\u001b[0m in \u001b[0;36m_call_flat\u001b[0;34m(self, args, captured_inputs, cancellation_manager)\u001b[0m\n\u001b[1;32m   1851\u001b[0m         and executing_eagerly):\n\u001b[1;32m   1852\u001b[0m       \u001b[0;31m# No tape is watching; skip to running the function.\u001b[0m\u001b[0;34m\u001b[0m\u001b[0;34m\u001b[0m\u001b[0m\n\u001b[0;32m-> 1853\u001b[0;31m       return self._build_call_outputs(self._inference_function.call(\n\u001b[0m\u001b[1;32m   1854\u001b[0m           ctx, args, cancellation_manager=cancellation_manager))\n\u001b[1;32m   1855\u001b[0m     forward_backward = self._select_forward_and_backward_functions(\n",
      "\u001b[0;32m~/.conda/envs/d2l/lib/python3.9/site-packages/tensorflow/python/eager/function.py\u001b[0m in \u001b[0;36mcall\u001b[0;34m(self, ctx, args, cancellation_manager)\u001b[0m\n\u001b[1;32m    497\u001b[0m       \u001b[0;32mwith\u001b[0m \u001b[0m_InterpolateFunctionError\u001b[0m\u001b[0;34m(\u001b[0m\u001b[0mself\u001b[0m\u001b[0;34m)\u001b[0m\u001b[0;34m:\u001b[0m\u001b[0;34m\u001b[0m\u001b[0;34m\u001b[0m\u001b[0m\n\u001b[1;32m    498\u001b[0m         \u001b[0;32mif\u001b[0m \u001b[0mcancellation_manager\u001b[0m \u001b[0;32mis\u001b[0m \u001b[0;32mNone\u001b[0m\u001b[0;34m:\u001b[0m\u001b[0;34m\u001b[0m\u001b[0;34m\u001b[0m\u001b[0m\n\u001b[0;32m--> 499\u001b[0;31m           outputs = execute.execute(\n\u001b[0m\u001b[1;32m    500\u001b[0m               \u001b[0mstr\u001b[0m\u001b[0;34m(\u001b[0m\u001b[0mself\u001b[0m\u001b[0;34m.\u001b[0m\u001b[0msignature\u001b[0m\u001b[0;34m.\u001b[0m\u001b[0mname\u001b[0m\u001b[0;34m)\u001b[0m\u001b[0;34m,\u001b[0m\u001b[0;34m\u001b[0m\u001b[0;34m\u001b[0m\u001b[0m\n\u001b[1;32m    501\u001b[0m               \u001b[0mnum_outputs\u001b[0m\u001b[0;34m=\u001b[0m\u001b[0mself\u001b[0m\u001b[0;34m.\u001b[0m\u001b[0m_num_outputs\u001b[0m\u001b[0;34m,\u001b[0m\u001b[0;34m\u001b[0m\u001b[0;34m\u001b[0m\u001b[0m\n",
      "\u001b[0;32m~/.conda/envs/d2l/lib/python3.9/site-packages/tensorflow/python/eager/execute.py\u001b[0m in \u001b[0;36mquick_execute\u001b[0;34m(op_name, num_outputs, inputs, attrs, ctx, name)\u001b[0m\n\u001b[1;32m     52\u001b[0m   \u001b[0;32mtry\u001b[0m\u001b[0;34m:\u001b[0m\u001b[0;34m\u001b[0m\u001b[0;34m\u001b[0m\u001b[0m\n\u001b[1;32m     53\u001b[0m     \u001b[0mctx\u001b[0m\u001b[0;34m.\u001b[0m\u001b[0mensure_initialized\u001b[0m\u001b[0;34m(\u001b[0m\u001b[0;34m)\u001b[0m\u001b[0;34m\u001b[0m\u001b[0;34m\u001b[0m\u001b[0m\n\u001b[0;32m---> 54\u001b[0;31m     tensors = pywrap_tfe.TFE_Py_Execute(ctx._handle, device_name, op_name,\n\u001b[0m\u001b[1;32m     55\u001b[0m                                         inputs, attrs, num_outputs)\n\u001b[1;32m     56\u001b[0m   \u001b[0;32mexcept\u001b[0m \u001b[0mcore\u001b[0m\u001b[0;34m.\u001b[0m\u001b[0m_NotOkStatusException\u001b[0m \u001b[0;32mas\u001b[0m \u001b[0me\u001b[0m\u001b[0;34m:\u001b[0m\u001b[0;34m\u001b[0m\u001b[0;34m\u001b[0m\u001b[0m\n",
      "\u001b[0;31mKeyboardInterrupt\u001b[0m: "
     ]
    }
   ],
   "source": [
    "train_history = model.fit(train_train_dataset,\n",
    "                          validation_data=train_test_dataset,\n",
    "                          epochs=5)"
   ]
  },
  {
   "cell_type": "markdown",
   "metadata": {
    "id": "-PHwr_qTLTTy"
   },
   "source": [
    "# Validate on train_test"
   ]
  },
  {
   "cell_type": "code",
   "execution_count": null,
   "metadata": {
    "colab": {
     "base_uri": "https://localhost:8080/"
    },
    "executionInfo": {
     "elapsed": 19366,
     "status": "ok",
     "timestamp": 1649834187273,
     "user": {
      "displayName": "Stanislav Chistyakov",
      "userId": "18109881619155439276"
     },
     "user_tz": -180
    },
    "id": "KF6dFlWvRe8Z",
    "outputId": "c86eecd7-161e-4622-bcdc-a317a6afcc4a"
   },
   "outputs": [],
   "source": [
    "train_test_pred = model.predict(train_test_dataset, verbose=1)"
   ]
  },
  {
   "cell_type": "code",
   "execution_count": null,
   "metadata": {
    "executionInfo": {
     "elapsed": 17,
     "status": "ok",
     "timestamp": 1649834187274,
     "user": {
      "displayName": "Stanislav Chistyakov",
      "userId": "18109881619155439276"
     },
     "user_tz": -180
    },
    "id": "lWtHZo4P4xue"
   },
   "outputs": [],
   "source": [
    "train_test_fact = train_test.iloc[:,20:30].values"
   ]
  },
  {
   "cell_type": "code",
   "execution_count": null,
   "metadata": {
    "executionInfo": {
     "elapsed": 16,
     "status": "ok",
     "timestamp": 1649834187274,
     "user": {
      "displayName": "Stanislav Chistyakov",
      "userId": "18109881619155439276"
     },
     "user_tz": -180
    },
    "id": "1I4oUWJYOLQD"
   },
   "outputs": [],
   "source": [
    "from sklearn.metrics import f1_score  "
   ]
  },
  {
   "cell_type": "code",
   "execution_count": null,
   "metadata": {
    "colab": {
     "base_uri": "https://localhost:8080/",
     "height": 331
    },
    "executionInfo": {
     "elapsed": 4622,
     "status": "ok",
     "timestamp": 1649834191880,
     "user": {
      "displayName": "Stanislav Chistyakov",
      "userId": "18109881619155439276"
     },
     "user_tz": -180
    },
    "id": "1hN4BmXs485A",
    "outputId": "58ad982c-3588-4041-af03-3a0aee1a6b18"
   },
   "outputs": [],
   "source": [
    "th_list = np.arange(0.1, 0.51, 0.05)\n",
    "f1_list = []\n",
    "for th in th_list:\n",
    "    f1_list.append(f1_score(train_test_fact, train_test_pred >= th, average='macro'))\n",
    "\n",
    "pd.DataFrame({'th':th_list, 'f1':f1_list}).sort_values('f1', ascending=False)"
   ]
  },
  {
   "cell_type": "code",
   "execution_count": null,
   "metadata": {
    "colab": {
     "base_uri": "https://localhost:8080/"
    },
    "executionInfo": {
     "elapsed": 365,
     "status": "ok",
     "timestamp": 1649834192240,
     "user": {
      "displayName": "Stanislav Chistyakov",
      "userId": "18109881619155439276"
     },
     "user_tz": -180
    },
    "id": "kbUUmutQ62U-",
    "outputId": "54a8b028-1f2f-4939-bdfd-d57645389a50"
   },
   "outputs": [],
   "source": [
    "train_test_pred_max = np.zeros_like(train_test_pred)\n",
    "arg_max_result = np.argmax(train_test_pred, axis=1)\n",
    "for i,j in enumerate(arg_max_result):\n",
    "    train_test_pred_max[i][j] = 1\n",
    "f1_score(train_test_fact, train_test_pred_max, average='macro')"
   ]
  },
  {
   "cell_type": "code",
   "execution_count": null,
   "metadata": {
    "colab": {
     "base_uri": "https://localhost:8080/"
    },
    "executionInfo": {
     "elapsed": 210,
     "status": "ok",
     "timestamp": 1649834192446,
     "user": {
      "displayName": "Stanislav Chistyakov",
      "userId": "18109881619155439276"
     },
     "user_tz": -180
    },
    "id": "_qmuS5iWLRJW",
    "outputId": "e6141bc7-6160-4a93-ad73-3d4fbff3946d"
   },
   "outputs": [],
   "source": [
    "train_test_fact_v2 = np.argmax(train_test_fact, axis=1)\n",
    "train_test_fact_v2\n",
    "\n",
    "train_test_pred_v2 = np.argmax(train_test_pred, axis=1)\n",
    "train_test_pred_v2\n",
    "\n",
    "f1_score(train_test_fact_v2, train_test_pred_v2, average='macro')"
   ]
  },
  {
   "cell_type": "markdown",
   "metadata": {
    "id": "8j7mRDrjLXnD"
   },
   "source": [
    "# Validate on train_valid"
   ]
  },
  {
   "cell_type": "code",
   "execution_count": null,
   "metadata": {
    "colab": {
     "base_uri": "https://localhost:8080/",
     "height": 363
    },
    "executionInfo": {
     "elapsed": 5784,
     "status": "error",
     "timestamp": 1649834198225,
     "user": {
      "displayName": "Stanislav Chistyakov",
      "userId": "18109881619155439276"
     },
     "user_tz": -180
    },
    "id": "bnmCF3MJ74SX",
    "outputId": "9712c039-b011-4592-e81b-fc686a8f2bfe"
   },
   "outputs": [],
   "source": [
    "train_valid_dataset = get_test_dataset(train_valid)\n",
    "train_valid_pred = model.predict(train_valid_dataset, verbose=1)\n",
    "train_valid_fact = train_valid.iloc[:,20:30].values"
   ]
  },
  {
   "cell_type": "code",
   "execution_count": null,
   "metadata": {
    "executionInfo": {
     "elapsed": 367,
     "status": "aborted",
     "timestamp": 1649834197991,
     "user": {
      "displayName": "Stanislav Chistyakov",
      "userId": "18109881619155439276"
     },
     "user_tz": -180
    },
    "id": "aK7VyWh2-fO_"
   },
   "outputs": [],
   "source": [
    "th_list = np.arange(0.1, 0.51, 0.05)\n",
    "f1_list = []\n",
    "for th in th_list:\n",
    "    f1_list.append(f1_score(train_valid_fact, train_valid_pred >= th, average='macro'))\n",
    "\n",
    "pd.DataFrame({'th':th_list, 'f1':f1_list}).sort_values('f1', ascending=False)"
   ]
  },
  {
   "cell_type": "markdown",
   "metadata": {
    "id": "yeBGiy0JMvmv"
   },
   "source": [
    "# Prediction"
   ]
  },
  {
   "cell_type": "code",
   "execution_count": null,
   "metadata": {
    "colab": {
     "base_uri": "https://localhost:8080/"
    },
    "executionInfo": {
     "elapsed": 4357,
     "status": "ok",
     "timestamp": 1649839049317,
     "user": {
      "displayName": "Stanislav Chistyakov",
      "userId": "18109881619155439276"
     },
     "user_tz": -180
    },
    "id": "aVhrXD9QMxZ2",
    "outputId": "764a08b3-70bb-4277-da61-cceb737248a5"
   },
   "outputs": [],
   "source": [
    "test = read_csv_cached(data_path_test_orig, cache_path)"
   ]
  },
  {
   "cell_type": "code",
   "execution_count": null,
   "metadata": {
    "executionInfo": {
     "elapsed": 369,
     "status": "aborted",
     "timestamp": 1649834197993,
     "user": {
      "displayName": "Stanislav Chistyakov",
      "userId": "18109881619155439276"
     },
     "user_tz": -180
    },
    "id": "KYxxNi7bNEpn"
   },
   "outputs": [],
   "source": [
    "test = preprocess_data(test, domains_dict_id)"
   ]
  },
  {
   "cell_type": "code",
   "execution_count": null,
   "metadata": {},
   "outputs": [],
   "source": []
  }
 ],
 "metadata": {
  "accelerator": "GPU",
  "colab": {
   "authorship_tag": "ABX9TyM8AuOBsOvxcycAmDdzcrgq",
   "collapsed_sections": [],
   "mount_file_id": "1NIC_IZhoamTh--AEbcRHFt7J0vbXmF0y",
   "name": "baseline_v1.ipynb",
   "provenance": [],
   "toc_visible": true
  },
  "kernelspec": {
   "display_name": "d2l:Python",
   "language": "python",
   "name": "conda-env-d2l-py"
  },
  "language_info": {
   "codemirror_mode": {
    "name": "ipython",
    "version": 3
   },
   "file_extension": ".py",
   "mimetype": "text/x-python",
   "name": "python",
   "nbconvert_exporter": "python",
   "pygments_lexer": "ipython3",
   "version": "3.9.7"
  }
 },
 "nbformat": 4,
 "nbformat_minor": 4
}
