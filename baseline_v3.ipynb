{
 "cells": [
  {
   "cell_type": "code",
   "execution_count": 1,
   "metadata": {
    "executionInfo": {
     "elapsed": 14,
     "status": "ok",
     "timestamp": 1650049219422,
     "user": {
      "displayName": "Stanislav Chistyakov",
      "userId": "18109881619155439276"
     },
     "user_tz": -180
    },
    "id": "SqG_RLVTdvRS"
   },
   "outputs": [],
   "source": [
    "data_path_train_orig = 'data/semrush_cup_train_data.csv'\n",
    "data_path_test_orig = 'data/semrush_cup_test_data.csv'\n",
    "data_path_sample_orig = 'data/semrush_cup_sub.csv'\n",
    "data_path_dict_orig = 'data/semrush_cup_categories_and_demo.csv'\n",
    "\n",
    "cache_path = 'cache'"
   ]
  },
  {
   "cell_type": "code",
   "execution_count": 2,
   "metadata": {
    "executionInfo": {
     "elapsed": 12,
     "status": "ok",
     "timestamp": 1650049219422,
     "user": {
      "displayName": "Stanislav Chistyakov",
      "userId": "18109881619155439276"
     },
     "user_tz": -180
    },
    "id": "U2DRkkv_d_qT"
   },
   "outputs": [],
   "source": [
    "# data_path_train_orig = '/content/drive/MyDrive/boosters_semrush/data/semrush_cup_train_data.csv'\n",
    "# data_path_test_orig = '/content/drive/MyDrive/boosters_semrush/data/semrush_cup_test_data.csv'\n",
    "# data_path_sample_orig = '/content/drive/MyDrive/boosters_semrush/data/semrush_cup_sub.csv'\n",
    "# data_path_dict_orig = '/content/drive/MyDrive/boosters_semrush/data/semrush_cup_categories_and_demo.csv'\n",
    "\n",
    "# cache_path = '/content/drive/MyDrive/boosters_semrush/cache'"
   ]
  },
  {
   "cell_type": "code",
   "execution_count": 3,
   "metadata": {
    "executionInfo": {
     "elapsed": 392,
     "status": "ok",
     "timestamp": 1650049219803,
     "user": {
      "displayName": "Stanislav Chistyakov",
      "userId": "18109881619155439276"
     },
     "user_tz": -180
    },
    "id": "_VJ_LPNVhp-a"
   },
   "outputs": [],
   "source": [
    "train_data1_path = cache_path+ '/train_data1'\n",
    "train_data2_path = cache_path+ '/train_data2'"
   ]
  },
  {
   "cell_type": "code",
   "execution_count": 4,
   "metadata": {},
   "outputs": [
    {
     "name": "stdout",
     "output_type": "stream",
     "text": [
      "Requirement already satisfied: lightgbm in /home/studio-lab-user/.conda/envs/d2l/lib/python3.9/site-packages (3.3.2)\n",
      "Requirement already satisfied: scikit-learn!=0.22.0 in /home/studio-lab-user/.conda/envs/d2l/lib/python3.9/site-packages (from lightgbm) (1.0.2)\n",
      "Requirement already satisfied: scipy in /home/studio-lab-user/.conda/envs/d2l/lib/python3.9/site-packages (from lightgbm) (1.8.0)\n",
      "Requirement already satisfied: numpy in /home/studio-lab-user/.conda/envs/d2l/lib/python3.9/site-packages (from lightgbm) (1.21.4)\n",
      "Requirement already satisfied: wheel in /home/studio-lab-user/.conda/envs/d2l/lib/python3.9/site-packages (from lightgbm) (0.37.0)\n",
      "Requirement already satisfied: joblib>=0.11 in /home/studio-lab-user/.conda/envs/d2l/lib/python3.9/site-packages (from scikit-learn!=0.22.0->lightgbm) (1.1.0)\n",
      "Requirement already satisfied: threadpoolctl>=2.0.0 in /home/studio-lab-user/.conda/envs/d2l/lib/python3.9/site-packages (from scikit-learn!=0.22.0->lightgbm) (3.1.0)\n",
      "Note: you may need to restart the kernel to use updated packages.\n"
     ]
    }
   ],
   "source": [
    "%pip install lightgbm"
   ]
  },
  {
   "cell_type": "code",
   "execution_count": 5,
   "metadata": {
    "executionInfo": {
     "elapsed": 2269,
     "status": "ok",
     "timestamp": 1650049222065,
     "user": {
      "displayName": "Stanislav Chistyakov",
      "userId": "18109881619155439276"
     },
     "user_tz": -180
    },
    "id": "S7ncuwJ-eOH3"
   },
   "outputs": [],
   "source": [
    "import numpy as np\n",
    "import pandas as pd\n",
    "\n",
    "from sklearn.metrics import f1_score  \n",
    "from sklearn.model_selection import train_test_split"
   ]
  },
  {
   "cell_type": "code",
   "execution_count": 6,
   "metadata": {},
   "outputs": [],
   "source": [
    "def del_vars_if_exists(var_list):\n",
    "    for variable in var_list:\n",
    "        if variable in globals():\n",
    "            del globals()[variable]"
   ]
  },
  {
   "cell_type": "markdown",
   "metadata": {
    "id": "FB89PIF-jPZv"
   },
   "source": [
    "# Load data"
   ]
  },
  {
   "cell_type": "code",
   "execution_count": 7,
   "metadata": {
    "executionInfo": {
     "elapsed": 12,
     "status": "ok",
     "timestamp": 1650049222066,
     "user": {
      "displayName": "Stanislav Chistyakov",
      "userId": "18109881619155439276"
     },
     "user_tz": -180
    },
    "id": "bx6YNvigeuoH"
   },
   "outputs": [],
   "source": [
    "# train_data = pd.read_csv(data_path_train_orig)\n",
    "\n",
    "# train_data1 = train_data[train_data.referrer_num != 'target'].copy()\n",
    "# train_data1.referrer_num = train_data1.referrer_num.astype('int')\n",
    "# train_data1.to_parquet(train_data1_path)\n",
    "\n",
    "# train_data2 = train_data[train_data.referrer_num == 'target'].copy().drop(columns=['referrer_num','is_referrer'])\n",
    "# train_data2.to_parquet(train_data2_path)"
   ]
  },
  {
   "cell_type": "code",
   "execution_count": 8,
   "metadata": {
    "executionInfo": {
     "elapsed": 10,
     "status": "ok",
     "timestamp": 1650049222066,
     "user": {
      "displayName": "Stanislav Chistyakov",
      "userId": "18109881619155439276"
     },
     "user_tz": -180
    },
    "id": "VHQkJ63HihJC"
   },
   "outputs": [],
   "source": [
    "# train_data1 = pd.read_parquet(train_data1_path, columns=['event_group_id', 'device_id', 'timestamp', 'domain', 'referrer_domain', 'referrer_num', 'is_referrer'])\n",
    "# train_data2 = pd.read_parquet(train_data2_path, columns=['event_group_id', 'device_id', 'timestamp', 'domain', 'referrer_domain'])"
   ]
  },
  {
   "cell_type": "code",
   "execution_count": 9,
   "metadata": {
    "executionInfo": {
     "elapsed": 53387,
     "status": "ok",
     "timestamp": 1650049275444,
     "user": {
      "displayName": "Stanislav Chistyakov",
      "userId": "18109881619155439276"
     },
     "user_tz": -180
    },
    "id": "0yYyBoG_vfIs"
   },
   "outputs": [],
   "source": [
    "train_data = pd.read_csv(data_path_train_orig)"
   ]
  },
  {
   "cell_type": "markdown",
   "metadata": {
    "id": "6AbdbKVnjX-K"
   },
   "source": [
    "# Split train data"
   ]
  },
  {
   "cell_type": "code",
   "execution_count": 10,
   "metadata": {
    "executionInfo": {
     "elapsed": 27,
     "status": "ok",
     "timestamp": 1650049275449,
     "user": {
      "displayName": "Stanislav Chistyakov",
      "userId": "18109881619155439276"
     },
     "user_tz": -180
    },
    "id": "IV2Jz3BFjcJh"
   },
   "outputs": [],
   "source": [
    "# train_device_id_list = train_data2.device_id.unique()\n",
    "# print(f'train_device_id_list: {len(train_device_id_list)}')\n",
    "\n",
    "# train_train_device_id_list, train_test_device_id_list = train_test_split(train_device_id_list, train_size=0.7, random_state=0)\n",
    "\n",
    "# print(f'train_train_device_id_list: {len(train_train_device_id_list)}')\n",
    "# train_train_data1 = train_data1.loc[train_data1.device_id.isin(train_train_device_id_list)]\n",
    "# print(f'train_train_data1: {len(train_train_data1)}')\n",
    "# train_train_data2 = train_data2.loc[train_data2.device_id.isin(train_train_device_id_list)]\n",
    "# print(f'train_train_data2: {len(train_train_data2)}')\n",
    "\n",
    "# print(f'train_test_device_id_list: {len(train_test_device_id_list)}')\n",
    "# train_test_data1 = train_data1.loc[train_data1.device_id.isin(train_test_device_id_list)]\n",
    "# print(f'train_test_data1: {len(train_test_data1)}')\n",
    "# train_test_data2 = train_data2.loc[train_data2.device_id.isin(train_test_device_id_list)]\n",
    "# print(f'train_test_data2: {len(train_test_data2)}')"
   ]
  },
  {
   "cell_type": "code",
   "execution_count": 11,
   "metadata": {
    "colab": {
     "base_uri": "https://localhost:8080/"
    },
    "executionInfo": {
     "elapsed": 1750,
     "status": "ok",
     "timestamp": 1650049277174,
     "user": {
      "displayName": "Stanislav Chistyakov",
      "userId": "18109881619155439276"
     },
     "user_tz": -180
    },
    "id": "_D3bpYJkwnTJ",
    "outputId": "44b34196-09af-45dd-ec39-f9985561f577"
   },
   "outputs": [
    {
     "name": "stdout",
     "output_type": "stream",
     "text": [
      "train_device_id_list: 200000\n",
      "train_train_device_id_list: 140000\n",
      "train_train: 9095130\n",
      "train_test_device_id_list: 60000\n",
      "train_test: 3945513\n"
     ]
    }
   ],
   "source": [
    "train_device_id_list = train_data.device_id.unique()\n",
    "print(f'train_device_id_list: {len(train_device_id_list)}')\n",
    "\n",
    "train_train_device_id_list, train_test_device_id_list = train_test_split(train_device_id_list, train_size=0.7, random_state=17)\n",
    "\n",
    "print(f'train_train_device_id_list: {len(train_train_device_id_list)}')\n",
    "train_train = train_data.loc[train_data.device_id.isin(train_train_device_id_list)]\n",
    "print(f'train_train: {len(train_train)}')\n",
    "\n",
    "print(f'train_test_device_id_list: {len(train_test_device_id_list)}')\n",
    "train_test = train_data.loc[train_data.device_id.isin(train_test_device_id_list)]\n",
    "print(f'train_test: {len(train_test)}')\n",
    "\n",
    "del_vars_if_exists('train_data')"
   ]
  },
  {
   "cell_type": "code",
   "execution_count": 12,
   "metadata": {
    "executionInfo": {
     "elapsed": 1286,
     "status": "ok",
     "timestamp": 1650049278451,
     "user": {
      "displayName": "Stanislav Chistyakov",
      "userId": "18109881619155439276"
     },
     "user_tz": -180
    },
    "id": "Ap_f1QV9l-dS"
   },
   "outputs": [],
   "source": [
    "train_train_with_ref = train_train[~train_train.referrer_domain.isna()]"
   ]
  },
  {
   "cell_type": "code",
   "execution_count": 13,
   "metadata": {
    "colab": {
     "base_uri": "https://localhost:8080/",
     "height": 424
    },
    "executionInfo": {
     "elapsed": 17,
     "status": "ok",
     "timestamp": 1650049278451,
     "user": {
      "displayName": "Stanislav Chistyakov",
      "userId": "18109881619155439276"
     },
     "user_tz": -180
    },
    "id": "dyq95MDEz8BB",
    "outputId": "e8fa9b0d-460f-46d9-ab54-c0c863757ddc"
   },
   "outputs": [
    {
     "data": {
      "text/html": [
       "<div>\n",
       "<style scoped>\n",
       "    .dataframe tbody tr th:only-of-type {\n",
       "        vertical-align: middle;\n",
       "    }\n",
       "\n",
       "    .dataframe tbody tr th {\n",
       "        vertical-align: top;\n",
       "    }\n",
       "\n",
       "    .dataframe thead th {\n",
       "        text-align: right;\n",
       "    }\n",
       "</style>\n",
       "<table border=\"1\" class=\"dataframe\">\n",
       "  <thead>\n",
       "    <tr style=\"text-align: right;\">\n",
       "      <th></th>\n",
       "      <th>event_group_id</th>\n",
       "      <th>device_id</th>\n",
       "      <th>timestamp</th>\n",
       "      <th>domain</th>\n",
       "      <th>referrer_domain</th>\n",
       "      <th>url</th>\n",
       "      <th>referrer_url</th>\n",
       "      <th>referrer_num</th>\n",
       "      <th>is_referrer</th>\n",
       "    </tr>\n",
       "  </thead>\n",
       "  <tbody>\n",
       "    <tr>\n",
       "      <th>165</th>\n",
       "      <td>517093</td>\n",
       "      <td>100001</td>\n",
       "      <td>1174504953</td>\n",
       "      <td>tWANuR.Me</td>\n",
       "      <td>ttNggB.Me</td>\n",
       "      <td>tWANuR.Me/jliCFf/jdSNxb</td>\n",
       "      <td>tWAmxZ.ttNggB.Me/jruHgx/jHSjLY</td>\n",
       "      <td>0</td>\n",
       "      <td>False</td>\n",
       "    </tr>\n",
       "    <tr>\n",
       "      <th>166</th>\n",
       "      <td>517093</td>\n",
       "      <td>100001</td>\n",
       "      <td>1174505169</td>\n",
       "      <td>ttsquu.jl</td>\n",
       "      <td>ttNggB.Me</td>\n",
       "      <td>tWAmxZ.ttsquu.jl/jjrSCv</td>\n",
       "      <td>tWAmxZ.ttNggB.Me/jdSNxb</td>\n",
       "      <td>1</td>\n",
       "      <td>False</td>\n",
       "    </tr>\n",
       "    <tr>\n",
       "      <th>167</th>\n",
       "      <td>517093</td>\n",
       "      <td>100001</td>\n",
       "      <td>1174505190</td>\n",
       "      <td>tWzuUA.jg</td>\n",
       "      <td>ttNggB.Me</td>\n",
       "      <td>tWAmxZ.tWzuUA.jg/jHzidN/jCzYiY/jrbuyu/jdSNxb</td>\n",
       "      <td>tWAmxZ.ttNggB.Me/jdSNxb</td>\n",
       "      <td>2</td>\n",
       "      <td>False</td>\n",
       "    </tr>\n",
       "    <tr>\n",
       "      <th>168</th>\n",
       "      <td>517093</td>\n",
       "      <td>100001</td>\n",
       "      <td>1174505469</td>\n",
       "      <td>ttqBjT.jg</td>\n",
       "      <td>ttNggB.Me</td>\n",
       "      <td>ttggCN.ttqBjT.jg/jvufBK/jryGlY/jjlUSd</td>\n",
       "      <td>tWAmxZ.ttNggB.Me/jlByly/jHCluf</td>\n",
       "      <td>3</td>\n",
       "      <td>False</td>\n",
       "    </tr>\n",
       "    <tr>\n",
       "      <th>169</th>\n",
       "      <td>517093</td>\n",
       "      <td>100001</td>\n",
       "      <td>1174505589</td>\n",
       "      <td>tWNTWj.Me</td>\n",
       "      <td>ttNggB.Me</td>\n",
       "      <td>tWAmxZ.tWNTWj.Me/jCQcvL/jCvylg/jdHCyg/jjpIby</td>\n",
       "      <td>tWAmxZ.ttNggB.Me/jdSNxb</td>\n",
       "      <td>4</td>\n",
       "      <td>False</td>\n",
       "    </tr>\n",
       "    <tr>\n",
       "      <th>...</th>\n",
       "      <td>...</td>\n",
       "      <td>...</td>\n",
       "      <td>...</td>\n",
       "      <td>...</td>\n",
       "      <td>...</td>\n",
       "      <td>...</td>\n",
       "      <td>...</td>\n",
       "      <td>...</td>\n",
       "      <td>...</td>\n",
       "    </tr>\n",
       "    <tr>\n",
       "      <th>13040637</th>\n",
       "      <td>1440363</td>\n",
       "      <td>299999</td>\n",
       "      <td>1183218195</td>\n",
       "      <td>ttnTCG.MB</td>\n",
       "      <td>ttMnJG.Xv</td>\n",
       "      <td>ttnTCG.MB/jdSNxb</td>\n",
       "      <td>ttMnJG.Xv/jHHryg/jlUCbv</td>\n",
       "      <td>5</td>\n",
       "      <td>False</td>\n",
       "    </tr>\n",
       "    <tr>\n",
       "      <th>13040639</th>\n",
       "      <td>1440363</td>\n",
       "      <td>299999</td>\n",
       "      <td>1183218436</td>\n",
       "      <td>ttsznR.jg</td>\n",
       "      <td>ttBzRA.jg</td>\n",
       "      <td>tWAmxZ.ttsznR.jg/jCKrWd/jjbsBr/jCLCcH/jCFSIY/j...</td>\n",
       "      <td>tttWAt.ttBzRA.jg/jCxBzU/jrsszB/jdKKIW</td>\n",
       "      <td>7</td>\n",
       "      <td>False</td>\n",
       "    </tr>\n",
       "    <tr>\n",
       "      <th>13040640</th>\n",
       "      <td>1440363</td>\n",
       "      <td>299999</td>\n",
       "      <td>1183218441</td>\n",
       "      <td>ttBzRA.jg</td>\n",
       "      <td>ttNggB.jg</td>\n",
       "      <td>tttWAt.ttBzRA.jg/jCxBzU/jrsszB/jdKKIW</td>\n",
       "      <td>tWAmxZ.ttNggB.jg/jdSNxb</td>\n",
       "      <td>8</td>\n",
       "      <td>False</td>\n",
       "    </tr>\n",
       "    <tr>\n",
       "      <th>13040641</th>\n",
       "      <td>1440363</td>\n",
       "      <td>299999</td>\n",
       "      <td>1183218461</td>\n",
       "      <td>ttCVLL.jg</td>\n",
       "      <td>ttNggB.jg</td>\n",
       "      <td>tWAmxZ.ttCVLL.jg/jjSQNC</td>\n",
       "      <td>tWAmxZ.ttNggB.jg/jdSNxb</td>\n",
       "      <td>9</td>\n",
       "      <td>True</td>\n",
       "    </tr>\n",
       "    <tr>\n",
       "      <th>13040642</th>\n",
       "      <td>1440363</td>\n",
       "      <td>299999</td>\n",
       "      <td>1183218486</td>\n",
       "      <td>ttTVCv.jl</td>\n",
       "      <td>ttCVLL.jg</td>\n",
       "      <td>tWAmxZ.ttTVCv.jl/jvlCyI</td>\n",
       "      <td>tWAmxZ.ttCVLL.jg/jdSNxb</td>\n",
       "      <td>target</td>\n",
       "      <td>False</td>\n",
       "    </tr>\n",
       "  </tbody>\n",
       "</table>\n",
       "<p>6211010 rows × 9 columns</p>\n",
       "</div>"
      ],
      "text/plain": [
       "          event_group_id  device_id   timestamp     domain referrer_domain  \\\n",
       "165               517093     100001  1174504953  tWANuR.Me       ttNggB.Me   \n",
       "166               517093     100001  1174505169  ttsquu.jl       ttNggB.Me   \n",
       "167               517093     100001  1174505190  tWzuUA.jg       ttNggB.Me   \n",
       "168               517093     100001  1174505469  ttqBjT.jg       ttNggB.Me   \n",
       "169               517093     100001  1174505589  tWNTWj.Me       ttNggB.Me   \n",
       "...                  ...        ...         ...        ...             ...   \n",
       "13040637         1440363     299999  1183218195  ttnTCG.MB       ttMnJG.Xv   \n",
       "13040639         1440363     299999  1183218436  ttsznR.jg       ttBzRA.jg   \n",
       "13040640         1440363     299999  1183218441  ttBzRA.jg       ttNggB.jg   \n",
       "13040641         1440363     299999  1183218461  ttCVLL.jg       ttNggB.jg   \n",
       "13040642         1440363     299999  1183218486  ttTVCv.jl       ttCVLL.jg   \n",
       "\n",
       "                                                        url  \\\n",
       "165                                 tWANuR.Me/jliCFf/jdSNxb   \n",
       "166                                 tWAmxZ.ttsquu.jl/jjrSCv   \n",
       "167            tWAmxZ.tWzuUA.jg/jHzidN/jCzYiY/jrbuyu/jdSNxb   \n",
       "168                   ttggCN.ttqBjT.jg/jvufBK/jryGlY/jjlUSd   \n",
       "169            tWAmxZ.tWNTWj.Me/jCQcvL/jCvylg/jdHCyg/jjpIby   \n",
       "...                                                     ...   \n",
       "13040637                                   ttnTCG.MB/jdSNxb   \n",
       "13040639  tWAmxZ.ttsznR.jg/jCKrWd/jjbsBr/jCLCcH/jCFSIY/j...   \n",
       "13040640              tttWAt.ttBzRA.jg/jCxBzU/jrsszB/jdKKIW   \n",
       "13040641                            tWAmxZ.ttCVLL.jg/jjSQNC   \n",
       "13040642                            tWAmxZ.ttTVCv.jl/jvlCyI   \n",
       "\n",
       "                                   referrer_url referrer_num  is_referrer  \n",
       "165              tWAmxZ.ttNggB.Me/jruHgx/jHSjLY            0        False  \n",
       "166                     tWAmxZ.ttNggB.Me/jdSNxb            1        False  \n",
       "167                     tWAmxZ.ttNggB.Me/jdSNxb            2        False  \n",
       "168              tWAmxZ.ttNggB.Me/jlByly/jHCluf            3        False  \n",
       "169                     tWAmxZ.ttNggB.Me/jdSNxb            4        False  \n",
       "...                                         ...          ...          ...  \n",
       "13040637                ttMnJG.Xv/jHHryg/jlUCbv            5        False  \n",
       "13040639  tttWAt.ttBzRA.jg/jCxBzU/jrsszB/jdKKIW            7        False  \n",
       "13040640                tWAmxZ.ttNggB.jg/jdSNxb            8        False  \n",
       "13040641                tWAmxZ.ttNggB.jg/jdSNxb            9         True  \n",
       "13040642                tWAmxZ.ttCVLL.jg/jdSNxb       target        False  \n",
       "\n",
       "[6211010 rows x 9 columns]"
      ]
     },
     "execution_count": 13,
     "metadata": {},
     "output_type": "execute_result"
    }
   ],
   "source": [
    "train_train_with_ref"
   ]
  },
  {
   "cell_type": "code",
   "execution_count": 14,
   "metadata": {
    "colab": {
     "base_uri": "https://localhost:8080/"
    },
    "executionInfo": {
     "elapsed": 4002,
     "status": "ok",
     "timestamp": 1650049287313,
     "user": {
      "displayName": "Stanislav Chistyakov",
      "userId": "18109881619155439276"
     },
     "user_tz": -180
    },
    "id": "wyRQpUCAybt8",
    "outputId": "dec296e3-8a06-466f-9806-f6a43c7b8a07"
   },
   "outputs": [
    {
     "name": "stdout",
     "output_type": "stream",
     "text": [
      "count    644648.000000\n",
      "mean          9.634729\n",
      "std         334.563259\n",
      "min           1.000000\n",
      "25%           1.000000\n",
      "50%           1.000000\n",
      "75%           2.000000\n",
      "max      126688.000000\n",
      "dtype: float64\n"
     ]
    }
   ],
   "source": [
    "domain_count_ref = train_train_with_ref.groupby('domain').size()\n",
    "print(domain_count_ref.describe())\n",
    "domain_count_ref = domain_count_ref.to_dict()"
   ]
  },
  {
   "cell_type": "code",
   "execution_count": 15,
   "metadata": {
    "colab": {
     "base_uri": "https://localhost:8080/"
    },
    "executionInfo": {
     "elapsed": 5435,
     "status": "ok",
     "timestamp": 1650049292975,
     "user": {
      "displayName": "Stanislav Chistyakov",
      "userId": "18109881619155439276"
     },
     "user_tz": -180
    },
    "id": "Wx6mSfRtzRK8",
    "outputId": "bc0465dc-d90a-439c-83eb-6d6ef014b3e3"
   },
   "outputs": [
    {
     "name": "stdout",
     "output_type": "stream",
     "text": [
      "count    644648.000000\n",
      "mean          6.361489\n",
      "std         122.892896\n",
      "min           1.000000\n",
      "25%           1.000000\n",
      "50%           1.000000\n",
      "75%           2.000000\n",
      "max       52595.000000\n",
      "Name: device_id, dtype: float64\n"
     ]
    }
   ],
   "source": [
    "domain_count_device = train_train_with_ref.groupby('domain').device_id.nunique()\n",
    "print(domain_count_device.describe())\n",
    "domain_count_device = domain_count_device.to_dict()"
   ]
  },
  {
   "cell_type": "code",
   "execution_count": 16,
   "metadata": {
    "colab": {
     "base_uri": "https://localhost:8080/"
    },
    "executionInfo": {
     "elapsed": 7979,
     "status": "ok",
     "timestamp": 1650049302915,
     "user": {
      "displayName": "Stanislav Chistyakov",
      "userId": "18109881619155439276"
     },
     "user_tz": -180
    },
    "id": "LvRQPlh9zrjO",
    "outputId": "43d6ab7f-b39b-4728-881e-ad2ef9aca92d"
   },
   "outputs": [
    {
     "name": "stdout",
     "output_type": "stream",
     "text": [
      "count    644648.000000\n",
      "mean          2.904833\n",
      "std          41.127704\n",
      "min           1.000000\n",
      "25%           1.000000\n",
      "50%           1.000000\n",
      "75%           2.000000\n",
      "max       18017.000000\n",
      "Name: referrer_domain, dtype: float64\n"
     ]
    }
   ],
   "source": [
    "domain_count_referrer_domain = train_train_with_ref.groupby('domain').referrer_domain.nunique()\n",
    "print(domain_count_referrer_domain.describe())\n",
    "domain_count_referrer_domain = domain_count_referrer_domain.to_dict()"
   ]
  },
  {
   "cell_type": "code",
   "execution_count": 17,
   "metadata": {
    "colab": {
     "base_uri": "https://localhost:8080/"
    },
    "executionInfo": {
     "elapsed": 1870,
     "status": "ok",
     "timestamp": 1650049304767,
     "user": {
      "displayName": "Stanislav Chistyakov",
      "userId": "18109881619155439276"
     },
     "user_tz": -180
    },
    "id": "SML7aOPCzRNd",
    "outputId": "0a703480-74a2-45f9-f1bc-e81a2ea71bcd"
   },
   "outputs": [
    {
     "name": "stdout",
     "output_type": "stream",
     "text": [
      "count    227665.000000\n",
      "mean         27.281356\n",
      "std        1468.051537\n",
      "min           1.000000\n",
      "25%           1.000000\n",
      "50%           2.000000\n",
      "75%           4.000000\n",
      "max      645438.000000\n",
      "dtype: float64\n"
     ]
    }
   ],
   "source": [
    "referrer_domain_count_ref = train_train_with_ref.groupby('referrer_domain').size()\n",
    "print(referrer_domain_count_ref.describe())\n",
    "referrer_domain_count_ref = referrer_domain_count_ref.to_dict()"
   ]
  },
  {
   "cell_type": "code",
   "execution_count": 18,
   "metadata": {
    "colab": {
     "base_uri": "https://localhost:8080/"
    },
    "executionInfo": {
     "elapsed": 3279,
     "status": "ok",
     "timestamp": 1650049308038,
     "user": {
      "displayName": "Stanislav Chistyakov",
      "userId": "18109881619155439276"
     },
     "user_tz": -180
    },
    "id": "xKRRbz4_zRQU",
    "outputId": "20c1d188-2c7d-415f-8c4d-535ef7eb1477"
   },
   "outputs": [
    {
     "name": "stdout",
     "output_type": "stream",
     "text": [
      "count    227665.000000\n",
      "mean          8.129897\n",
      "std         181.432710\n",
      "min           1.000000\n",
      "25%           1.000000\n",
      "50%           1.000000\n",
      "75%           2.000000\n",
      "max       58924.000000\n",
      "Name: device_id, dtype: float64\n"
     ]
    }
   ],
   "source": [
    "referrer_domain_count_device = train_train_with_ref.groupby('referrer_domain').device_id.nunique()\n",
    "print(referrer_domain_count_device.describe())\n",
    "referrer_domain_count_device = referrer_domain_count_device.to_dict()"
   ]
  },
  {
   "cell_type": "code",
   "execution_count": 19,
   "metadata": {
    "colab": {
     "base_uri": "https://localhost:8080/"
    },
    "executionInfo": {
     "elapsed": 6815,
     "status": "ok",
     "timestamp": 1650049315212,
     "user": {
      "displayName": "Stanislav Chistyakov",
      "userId": "18109881619155439276"
     },
     "user_tz": -180
    },
    "id": "SdkW3H5PzRSx",
    "outputId": "442a1b8c-440f-421d-a3fe-08cb5f3e266e"
   },
   "outputs": [
    {
     "name": "stdout",
     "output_type": "stream",
     "text": [
      "count    227665.000000\n",
      "mean          8.225221\n",
      "std         395.832366\n",
      "min           1.000000\n",
      "25%           1.000000\n",
      "50%           1.000000\n",
      "75%           3.000000\n",
      "max      165874.000000\n",
      "Name: domain, dtype: float64\n"
     ]
    }
   ],
   "source": [
    "referrer_domain_count_domain = train_train_with_ref.groupby('referrer_domain').domain.nunique()\n",
    "print(referrer_domain_count_domain.describe())\n",
    "referrer_domain_count_domain = referrer_domain_count_domain.to_dict()"
   ]
  },
  {
   "cell_type": "markdown",
   "metadata": {
    "id": "80m9sBn8CYsW"
   },
   "source": [
    "## domain and referrer_domain stats"
   ]
  },
  {
   "cell_type": "code",
   "execution_count": 20,
   "metadata": {
    "colab": {
     "base_uri": "https://localhost:8080/"
    },
    "executionInfo": {
     "elapsed": 11681,
     "status": "ok",
     "timestamp": 1650049329097,
     "user": {
      "displayName": "Stanislav Chistyakov",
      "userId": "18109881619155439276"
     },
     "user_tz": -180
    },
    "id": "tEb_NJikCBCp",
    "outputId": "79fdfddb-56c9-4f79-fe54-c75efc789b7b"
   },
   "outputs": [
    {
     "name": "stdout",
     "output_type": "stream",
     "text": [
      "count    1.872595e+06\n",
      "mean     3.316792e+00\n",
      "std      4.667998e+01\n",
      "min      1.000000e+00\n",
      "25%      1.000000e+00\n",
      "50%      1.000000e+00\n",
      "75%      2.000000e+00\n",
      "max      3.276600e+04\n",
      "dtype: float64\n"
     ]
    }
   ],
   "source": [
    "domain_referrer_domain_count_ref = train_train_with_ref.groupby(['domain', 'referrer_domain']).size()\n",
    "print(domain_referrer_domain_count_ref.describe())\n",
    "domain_referrer_domain_count_ref = domain_referrer_domain_count_ref.to_dict()"
   ]
  },
  {
   "cell_type": "code",
   "execution_count": 21,
   "metadata": {
    "colab": {
     "base_uri": "https://localhost:8080/"
    },
    "executionInfo": {
     "elapsed": 16476,
     "status": "ok",
     "timestamp": 1650049345789,
     "user": {
      "displayName": "Stanislav Chistyakov",
      "userId": "18109881619155439276"
     },
     "user_tz": -180
    },
    "id": "38mXAZ15CWlO",
    "outputId": "c87f48eb-47da-46f8-9784-ebe421de085f"
   },
   "outputs": [
    {
     "name": "stdout",
     "output_type": "stream",
     "text": [
      "count    1.872595e+06\n",
      "mean     2.534862e+00\n",
      "std      2.474563e+01\n",
      "min      1.000000e+00\n",
      "25%      1.000000e+00\n",
      "50%      1.000000e+00\n",
      "75%      1.000000e+00\n",
      "max      1.826400e+04\n",
      "Name: device_id, dtype: float64\n"
     ]
    }
   ],
   "source": [
    "domain_referrer_domain_count_device = train_train_with_ref.groupby(['domain', 'referrer_domain']).device_id.nunique()\n",
    "print(domain_referrer_domain_count_device.describe())\n",
    "domain_referrer_domain_count_device = domain_referrer_domain_count_device.to_dict()"
   ]
  },
  {
   "cell_type": "code",
   "execution_count": 22,
   "metadata": {},
   "outputs": [],
   "source": [
    "del_vars_if_exists('train_train_with_ref')"
   ]
  },
  {
   "cell_type": "markdown",
   "metadata": {
    "id": "ClEnx3WF3fgh"
   },
   "source": [
    "# Build features"
   ]
  },
  {
   "cell_type": "code",
   "execution_count": 23,
   "metadata": {
    "executionInfo": {
     "elapsed": 20535,
     "status": "ok",
     "timestamp": 1650049385766,
     "user": {
      "displayName": "Stanislav Chistyakov",
      "userId": "18109881619155439276"
     },
     "user_tz": -180
    },
    "id": "O00obuJp3TfO"
   },
   "outputs": [],
   "source": [
    "del_vars_if_exists(['train_train_features', 'train_test_features'])\n",
    "\n",
    "def process(data):\n",
    "    data_check = data[data.referrer_num!='target'].copy().set_index('event_group_id')\n",
    "    data_check = data_check[['domain', 'timestamp', 'is_referrer', 'referrer_num']]\n",
    "    data_check = data_check.rename(columns={'domain':'referrer_domain_to_check', 'timestamp':'timestamp_check'})\n",
    "    data_check.referrer_num = data_check.referrer_num.astype('int')\n",
    "\n",
    "    data_fact = data[data.referrer_num=='target'].copy().set_index('event_group_id')\n",
    "    data_fact = data_fact[['domain', 'timestamp']]\n",
    "    data_fact = data_fact.rename(columns={'timestamp':'timestamp_fact'})\n",
    "\n",
    "    data_new = data_fact.join(data_check)\n",
    "    data_new['timestamp_dif'] = data_new['timestamp_fact'] - data_new['timestamp_check'] \n",
    "    data_new = data_new.drop(columns=['timestamp_fact', 'timestamp_check'])    \n",
    "    return data_new\n",
    "\n",
    "# train_train_features = process(train_train[:11000])\n",
    "train_train_features = process(train_train)\n",
    "train_test_features = process(train_test)\n",
    "\n",
    "del_vars_if_exists(['train_train', 'train_test'])"
   ]
  },
  {
   "cell_type": "code",
   "execution_count": 24,
   "metadata": {
    "executionInfo": {
     "elapsed": 110597,
     "status": "ok",
     "timestamp": 1650049496339,
     "user": {
      "displayName": "Stanislav Chistyakov",
      "userId": "18109881619155439276"
     },
     "user_tz": -180
    },
    "id": "LRYtlj5X3Thp"
   },
   "outputs": [],
   "source": [
    "def process_features(data):\n",
    "    data['domain_count_ref'] = data.domain.map(lambda x: domain_count_ref.get(x, 0))\n",
    "    data['domain_count_device'] = data.domain.map(lambda x: domain_count_device.get(x, 0))\n",
    "    data['domain_count_referrer_domain'] = data.domain.map(lambda x: domain_count_referrer_domain.get(x, 0))\n",
    "    \n",
    "    data['referrer_domain_count_ref'] = data.referrer_domain_to_check.map(lambda x: referrer_domain_count_ref.get(x, 0))\n",
    "    data['referrer_domain_count_device'] = data.referrer_domain_to_check.map(lambda x: referrer_domain_count_device.get(x, 0))\n",
    "    data['referrer_domain_count_domain'] = data.referrer_domain_to_check.map(lambda x: referrer_domain_count_domain.get(x, 0))\n",
    "\n",
    "    data['domain_referrer_domain_count_ref'] = list(map(lambda x, y: domain_referrer_domain_count_ref.get((x,y), 0), data['domain'].values, data['referrer_domain_to_check'].values))\n",
    "    data['domain_referrer_domain_count_device'] = list(map(lambda x, y: domain_referrer_domain_count_device.get((x,y), 0), data['domain'].values, data['referrer_domain_to_check'].values))\n",
    "    \n",
    "    data['domain_referrer_domain_count_ref_vs_domain_count_ref'] = data['domain_referrer_domain_count_ref'] / data['domain_count_ref'] + 0.00001\n",
    "    data['domain_referrer_domain_count_ref_vs_referrer_domain_count_ref'] = data['domain_referrer_domain_count_ref'] / data['referrer_domain_count_ref'] + 0.00001\n",
    "\n",
    "    data['domain_referrer_domain_count_device_ref_vs_domain_count_device'] = data['domain_referrer_domain_count_device'] / data['domain_count_device'] + 0.00001\n",
    "    data['domain_referrer_domain_count_device_ref_vs_referrer_domain_count_device_id'] = data['domain_referrer_domain_count_device'] / data['referrer_domain_count_device'] + 0.00001\n",
    "\n",
    "    return data\n",
    "\n",
    "process_features(train_train_features[:11].copy())\n",
    "\n",
    "train_train_features = process_features(train_train_features)\n",
    "train_test_features = process_features(train_test_features)"
   ]
  },
  {
   "cell_type": "code",
   "execution_count": 25,
   "metadata": {
    "executionInfo": {
     "elapsed": 36,
     "status": "ok",
     "timestamp": 1650049496340,
     "user": {
      "displayName": "Stanislav Chistyakov",
      "userId": "18109881619155439276"
     },
     "user_tz": -180
    },
    "id": "6L_cHKFaHrmm"
   },
   "outputs": [],
   "source": [
    "###### https://stackoverflow.com/questions/28457149/how-to-map-a-function-using-multiple-columns-in-pandas первые три строчки не оптимальны и можно ускорить на 1-2 порядка"
   ]
  },
  {
   "cell_type": "code",
   "execution_count": 26,
   "metadata": {
    "colab": {
     "base_uri": "https://localhost:8080/",
     "height": 489
    },
    "executionInfo": {
     "elapsed": 20,
     "status": "ok",
     "timestamp": 1650049496341,
     "user": {
      "displayName": "Stanislav Chistyakov",
      "userId": "18109881619155439276"
     },
     "user_tz": -180
    },
    "id": "K2md52NAEqZF",
    "outputId": "7409e08e-be4e-4277-b7e8-68bda8873356"
   },
   "outputs": [
    {
     "data": {
      "text/html": [
       "<div>\n",
       "<style scoped>\n",
       "    .dataframe tbody tr th:only-of-type {\n",
       "        vertical-align: middle;\n",
       "    }\n",
       "\n",
       "    .dataframe tbody tr th {\n",
       "        vertical-align: top;\n",
       "    }\n",
       "\n",
       "    .dataframe thead th {\n",
       "        text-align: right;\n",
       "    }\n",
       "</style>\n",
       "<table border=\"1\" class=\"dataframe\">\n",
       "  <thead>\n",
       "    <tr style=\"text-align: right;\">\n",
       "      <th></th>\n",
       "      <th>domain</th>\n",
       "      <th>referrer_domain_to_check</th>\n",
       "      <th>is_referrer</th>\n",
       "      <th>referrer_num</th>\n",
       "      <th>timestamp_dif</th>\n",
       "      <th>domain_count_ref</th>\n",
       "      <th>domain_count_device</th>\n",
       "      <th>domain_count_referrer_domain</th>\n",
       "      <th>referrer_domain_count_ref</th>\n",
       "      <th>referrer_domain_count_device</th>\n",
       "      <th>referrer_domain_count_domain</th>\n",
       "      <th>domain_referrer_domain_count_ref</th>\n",
       "      <th>domain_referrer_domain_count_device</th>\n",
       "      <th>domain_referrer_domain_count_ref_vs_domain_count_ref</th>\n",
       "      <th>domain_referrer_domain_count_ref_vs_referrer_domain_count_ref</th>\n",
       "      <th>domain_referrer_domain_count_device_ref_vs_domain_count_device</th>\n",
       "      <th>domain_referrer_domain_count_device_ref_vs_referrer_domain_count_device_id</th>\n",
       "    </tr>\n",
       "    <tr>\n",
       "      <th>event_group_id</th>\n",
       "      <th></th>\n",
       "      <th></th>\n",
       "      <th></th>\n",
       "      <th></th>\n",
       "      <th></th>\n",
       "      <th></th>\n",
       "      <th></th>\n",
       "      <th></th>\n",
       "      <th></th>\n",
       "      <th></th>\n",
       "      <th></th>\n",
       "      <th></th>\n",
       "      <th></th>\n",
       "      <th></th>\n",
       "      <th></th>\n",
       "      <th></th>\n",
       "      <th></th>\n",
       "    </tr>\n",
       "  </thead>\n",
       "  <tbody>\n",
       "    <tr>\n",
       "      <th>7</th>\n",
       "      <td>ttVGTB.jg</td>\n",
       "      <td>ttNggB.mX</td>\n",
       "      <td>False</td>\n",
       "      <td>0</td>\n",
       "      <td>1765</td>\n",
       "      <td>8735</td>\n",
       "      <td>4611</td>\n",
       "      <td>1065</td>\n",
       "      <td>7310</td>\n",
       "      <td>637</td>\n",
       "      <td>4471</td>\n",
       "      <td>8</td>\n",
       "      <td>6</td>\n",
       "      <td>0.000926</td>\n",
       "      <td>0.001104</td>\n",
       "      <td>0.001311</td>\n",
       "      <td>0.009429</td>\n",
       "    </tr>\n",
       "    <tr>\n",
       "      <th>7</th>\n",
       "      <td>ttVGTB.jg</td>\n",
       "      <td>ttmWZf.AK</td>\n",
       "      <td>False</td>\n",
       "      <td>1</td>\n",
       "      <td>1763</td>\n",
       "      <td>8735</td>\n",
       "      <td>4611</td>\n",
       "      <td>1065</td>\n",
       "      <td>3</td>\n",
       "      <td>2</td>\n",
       "      <td>1</td>\n",
       "      <td>0</td>\n",
       "      <td>0</td>\n",
       "      <td>0.000010</td>\n",
       "      <td>0.000010</td>\n",
       "      <td>0.000010</td>\n",
       "      <td>0.000010</td>\n",
       "    </tr>\n",
       "    <tr>\n",
       "      <th>7</th>\n",
       "      <td>ttVGTB.jg</td>\n",
       "      <td>tWtujq.jg</td>\n",
       "      <td>False</td>\n",
       "      <td>2</td>\n",
       "      <td>1700</td>\n",
       "      <td>8735</td>\n",
       "      <td>4611</td>\n",
       "      <td>1065</td>\n",
       "      <td>184</td>\n",
       "      <td>130</td>\n",
       "      <td>38</td>\n",
       "      <td>0</td>\n",
       "      <td>0</td>\n",
       "      <td>0.000010</td>\n",
       "      <td>0.000010</td>\n",
       "      <td>0.000010</td>\n",
       "      <td>0.000010</td>\n",
       "    </tr>\n",
       "    <tr>\n",
       "      <th>7</th>\n",
       "      <td>ttVGTB.jg</td>\n",
       "      <td>ttxHVm.mX</td>\n",
       "      <td>False</td>\n",
       "      <td>3</td>\n",
       "      <td>1110</td>\n",
       "      <td>8735</td>\n",
       "      <td>4611</td>\n",
       "      <td>1065</td>\n",
       "      <td>6</td>\n",
       "      <td>6</td>\n",
       "      <td>4</td>\n",
       "      <td>0</td>\n",
       "      <td>0</td>\n",
       "      <td>0.000010</td>\n",
       "      <td>0.000010</td>\n",
       "      <td>0.000010</td>\n",
       "      <td>0.000010</td>\n",
       "    </tr>\n",
       "    <tr>\n",
       "      <th>7</th>\n",
       "      <td>ttVGTB.jg</td>\n",
       "      <td>ttCVLL.jg</td>\n",
       "      <td>False</td>\n",
       "      <td>4</td>\n",
       "      <td>359</td>\n",
       "      <td>8735</td>\n",
       "      <td>4611</td>\n",
       "      <td>1065</td>\n",
       "      <td>61634</td>\n",
       "      <td>24209</td>\n",
       "      <td>12800</td>\n",
       "      <td>1</td>\n",
       "      <td>1</td>\n",
       "      <td>0.000124</td>\n",
       "      <td>0.000026</td>\n",
       "      <td>0.000227</td>\n",
       "      <td>0.000051</td>\n",
       "    </tr>\n",
       "    <tr>\n",
       "      <th>7</th>\n",
       "      <td>ttVGTB.jg</td>\n",
       "      <td>ttxHVm.mX</td>\n",
       "      <td>False</td>\n",
       "      <td>5</td>\n",
       "      <td>164</td>\n",
       "      <td>8735</td>\n",
       "      <td>4611</td>\n",
       "      <td>1065</td>\n",
       "      <td>6</td>\n",
       "      <td>6</td>\n",
       "      <td>4</td>\n",
       "      <td>0</td>\n",
       "      <td>0</td>\n",
       "      <td>0.000010</td>\n",
       "      <td>0.000010</td>\n",
       "      <td>0.000010</td>\n",
       "      <td>0.000010</td>\n",
       "    </tr>\n",
       "    <tr>\n",
       "      <th>7</th>\n",
       "      <td>ttVGTB.jg</td>\n",
       "      <td>tWJLWT.jg</td>\n",
       "      <td>True</td>\n",
       "      <td>6</td>\n",
       "      <td>58</td>\n",
       "      <td>8735</td>\n",
       "      <td>4611</td>\n",
       "      <td>1065</td>\n",
       "      <td>2936</td>\n",
       "      <td>473</td>\n",
       "      <td>176</td>\n",
       "      <td>39</td>\n",
       "      <td>28</td>\n",
       "      <td>0.004475</td>\n",
       "      <td>0.013293</td>\n",
       "      <td>0.006082</td>\n",
       "      <td>0.059207</td>\n",
       "    </tr>\n",
       "    <tr>\n",
       "      <th>7</th>\n",
       "      <td>ttVGTB.jg</td>\n",
       "      <td>ttHnBg.jg</td>\n",
       "      <td>False</td>\n",
       "      <td>7</td>\n",
       "      <td>40</td>\n",
       "      <td>8735</td>\n",
       "      <td>4611</td>\n",
       "      <td>1065</td>\n",
       "      <td>417</td>\n",
       "      <td>246</td>\n",
       "      <td>74</td>\n",
       "      <td>0</td>\n",
       "      <td>0</td>\n",
       "      <td>0.000010</td>\n",
       "      <td>0.000010</td>\n",
       "      <td>0.000010</td>\n",
       "      <td>0.000010</td>\n",
       "    </tr>\n",
       "    <tr>\n",
       "      <th>7</th>\n",
       "      <td>ttVGTB.jg</td>\n",
       "      <td>ttfTFZ.jg</td>\n",
       "      <td>False</td>\n",
       "      <td>8</td>\n",
       "      <td>32</td>\n",
       "      <td>8735</td>\n",
       "      <td>4611</td>\n",
       "      <td>1065</td>\n",
       "      <td>693</td>\n",
       "      <td>493</td>\n",
       "      <td>11</td>\n",
       "      <td>157</td>\n",
       "      <td>136</td>\n",
       "      <td>0.017984</td>\n",
       "      <td>0.226561</td>\n",
       "      <td>0.029505</td>\n",
       "      <td>0.275872</td>\n",
       "    </tr>\n",
       "    <tr>\n",
       "      <th>7</th>\n",
       "      <td>ttVGTB.jg</td>\n",
       "      <td>ttAnTg.jg</td>\n",
       "      <td>False</td>\n",
       "      <td>9</td>\n",
       "      <td>10</td>\n",
       "      <td>8735</td>\n",
       "      <td>4611</td>\n",
       "      <td>1065</td>\n",
       "      <td>98</td>\n",
       "      <td>49</td>\n",
       "      <td>16</td>\n",
       "      <td>0</td>\n",
       "      <td>0</td>\n",
       "      <td>0.000010</td>\n",
       "      <td>0.000010</td>\n",
       "      <td>0.000010</td>\n",
       "      <td>0.000010</td>\n",
       "    </tr>\n",
       "    <tr>\n",
       "      <th>9</th>\n",
       "      <td>tWvUmL.MZ</td>\n",
       "      <td>ttHxZm.jg</td>\n",
       "      <td>False</td>\n",
       "      <td>0</td>\n",
       "      <td>350</td>\n",
       "      <td>598</td>\n",
       "      <td>363</td>\n",
       "      <td>103</td>\n",
       "      <td>0</td>\n",
       "      <td>0</td>\n",
       "      <td>0</td>\n",
       "      <td>0</td>\n",
       "      <td>0</td>\n",
       "      <td>0.000010</td>\n",
       "      <td>NaN</td>\n",
       "      <td>0.000010</td>\n",
       "      <td>NaN</td>\n",
       "    </tr>\n",
       "  </tbody>\n",
       "</table>\n",
       "</div>"
      ],
      "text/plain": [
       "                   domain referrer_domain_to_check  is_referrer  referrer_num  \\\n",
       "event_group_id                                                                  \n",
       "7               ttVGTB.jg                ttNggB.mX        False             0   \n",
       "7               ttVGTB.jg                ttmWZf.AK        False             1   \n",
       "7               ttVGTB.jg                tWtujq.jg        False             2   \n",
       "7               ttVGTB.jg                ttxHVm.mX        False             3   \n",
       "7               ttVGTB.jg                ttCVLL.jg        False             4   \n",
       "7               ttVGTB.jg                ttxHVm.mX        False             5   \n",
       "7               ttVGTB.jg                tWJLWT.jg         True             6   \n",
       "7               ttVGTB.jg                ttHnBg.jg        False             7   \n",
       "7               ttVGTB.jg                ttfTFZ.jg        False             8   \n",
       "7               ttVGTB.jg                ttAnTg.jg        False             9   \n",
       "9               tWvUmL.MZ                ttHxZm.jg        False             0   \n",
       "\n",
       "                timestamp_dif  domain_count_ref  domain_count_device  \\\n",
       "event_group_id                                                         \n",
       "7                        1765              8735                 4611   \n",
       "7                        1763              8735                 4611   \n",
       "7                        1700              8735                 4611   \n",
       "7                        1110              8735                 4611   \n",
       "7                         359              8735                 4611   \n",
       "7                         164              8735                 4611   \n",
       "7                          58              8735                 4611   \n",
       "7                          40              8735                 4611   \n",
       "7                          32              8735                 4611   \n",
       "7                          10              8735                 4611   \n",
       "9                         350               598                  363   \n",
       "\n",
       "                domain_count_referrer_domain  referrer_domain_count_ref  \\\n",
       "event_group_id                                                            \n",
       "7                                       1065                       7310   \n",
       "7                                       1065                          3   \n",
       "7                                       1065                        184   \n",
       "7                                       1065                          6   \n",
       "7                                       1065                      61634   \n",
       "7                                       1065                          6   \n",
       "7                                       1065                       2936   \n",
       "7                                       1065                        417   \n",
       "7                                       1065                        693   \n",
       "7                                       1065                         98   \n",
       "9                                        103                          0   \n",
       "\n",
       "                referrer_domain_count_device  referrer_domain_count_domain  \\\n",
       "event_group_id                                                               \n",
       "7                                        637                          4471   \n",
       "7                                          2                             1   \n",
       "7                                        130                            38   \n",
       "7                                          6                             4   \n",
       "7                                      24209                         12800   \n",
       "7                                          6                             4   \n",
       "7                                        473                           176   \n",
       "7                                        246                            74   \n",
       "7                                        493                            11   \n",
       "7                                         49                            16   \n",
       "9                                          0                             0   \n",
       "\n",
       "                domain_referrer_domain_count_ref  \\\n",
       "event_group_id                                     \n",
       "7                                              8   \n",
       "7                                              0   \n",
       "7                                              0   \n",
       "7                                              0   \n",
       "7                                              1   \n",
       "7                                              0   \n",
       "7                                             39   \n",
       "7                                              0   \n",
       "7                                            157   \n",
       "7                                              0   \n",
       "9                                              0   \n",
       "\n",
       "                domain_referrer_domain_count_device  \\\n",
       "event_group_id                                        \n",
       "7                                                 6   \n",
       "7                                                 0   \n",
       "7                                                 0   \n",
       "7                                                 0   \n",
       "7                                                 1   \n",
       "7                                                 0   \n",
       "7                                                28   \n",
       "7                                                 0   \n",
       "7                                               136   \n",
       "7                                                 0   \n",
       "9                                                 0   \n",
       "\n",
       "                domain_referrer_domain_count_ref_vs_domain_count_ref  \\\n",
       "event_group_id                                                         \n",
       "7                                                        0.000926      \n",
       "7                                                        0.000010      \n",
       "7                                                        0.000010      \n",
       "7                                                        0.000010      \n",
       "7                                                        0.000124      \n",
       "7                                                        0.000010      \n",
       "7                                                        0.004475      \n",
       "7                                                        0.000010      \n",
       "7                                                        0.017984      \n",
       "7                                                        0.000010      \n",
       "9                                                        0.000010      \n",
       "\n",
       "                domain_referrer_domain_count_ref_vs_referrer_domain_count_ref  \\\n",
       "event_group_id                                                                  \n",
       "7                                                        0.001104               \n",
       "7                                                        0.000010               \n",
       "7                                                        0.000010               \n",
       "7                                                        0.000010               \n",
       "7                                                        0.000026               \n",
       "7                                                        0.000010               \n",
       "7                                                        0.013293               \n",
       "7                                                        0.000010               \n",
       "7                                                        0.226561               \n",
       "7                                                        0.000010               \n",
       "9                                                             NaN               \n",
       "\n",
       "                domain_referrer_domain_count_device_ref_vs_domain_count_device  \\\n",
       "event_group_id                                                                   \n",
       "7                                                        0.001311                \n",
       "7                                                        0.000010                \n",
       "7                                                        0.000010                \n",
       "7                                                        0.000010                \n",
       "7                                                        0.000227                \n",
       "7                                                        0.000010                \n",
       "7                                                        0.006082                \n",
       "7                                                        0.000010                \n",
       "7                                                        0.029505                \n",
       "7                                                        0.000010                \n",
       "9                                                        0.000010                \n",
       "\n",
       "                domain_referrer_domain_count_device_ref_vs_referrer_domain_count_device_id  \n",
       "event_group_id                                                                              \n",
       "7                                                        0.009429                           \n",
       "7                                                        0.000010                           \n",
       "7                                                        0.000010                           \n",
       "7                                                        0.000010                           \n",
       "7                                                        0.000051                           \n",
       "7                                                        0.000010                           \n",
       "7                                                        0.059207                           \n",
       "7                                                        0.000010                           \n",
       "7                                                        0.275872                           \n",
       "7                                                        0.000010                           \n",
       "9                                                             NaN                           "
      ]
     },
     "execution_count": 26,
     "metadata": {},
     "output_type": "execute_result"
    }
   ],
   "source": [
    "train_test_features[:11]"
   ]
  },
  {
   "cell_type": "code",
   "execution_count": 27,
   "metadata": {
    "colab": {
     "base_uri": "https://localhost:8080/"
    },
    "executionInfo": {
     "elapsed": 17,
     "status": "ok",
     "timestamp": 1650049496341,
     "user": {
      "displayName": "Stanislav Chistyakov",
      "userId": "18109881619155439276"
     },
     "user_tz": -180
    },
    "id": "Wi9lMstJMryO",
    "outputId": "d58709a6-38d6-43d9-ba0f-166dcd7e26f5"
   },
   "outputs": [
    {
     "data": {
      "text/plain": [
       "domain                                                                         object\n",
       "referrer_domain_to_check                                                       object\n",
       "is_referrer                                                                      bool\n",
       "referrer_num                                                                    int64\n",
       "timestamp_dif                                                                   int64\n",
       "domain_count_ref                                                                int64\n",
       "domain_count_device                                                             int64\n",
       "domain_count_referrer_domain                                                    int64\n",
       "referrer_domain_count_ref                                                       int64\n",
       "referrer_domain_count_device                                                    int64\n",
       "referrer_domain_count_domain                                                    int64\n",
       "domain_referrer_domain_count_ref                                                int64\n",
       "domain_referrer_domain_count_device                                             int64\n",
       "domain_referrer_domain_count_ref_vs_domain_count_ref                          float64\n",
       "domain_referrer_domain_count_ref_vs_referrer_domain_count_ref                 float64\n",
       "domain_referrer_domain_count_device_ref_vs_domain_count_device                float64\n",
       "domain_referrer_domain_count_device_ref_vs_referrer_domain_count_device_id    float64\n",
       "dtype: object"
      ]
     },
     "execution_count": 27,
     "metadata": {},
     "output_type": "execute_result"
    }
   ],
   "source": [
    "train_train_features.dtypes"
   ]
  },
  {
   "cell_type": "code",
   "execution_count": 28,
   "metadata": {},
   "outputs": [],
   "source": [
    "del_vars_if_exists(['train_x', 'train_y', 'test_x', 'test_y', 'train_train_data', 'train_test_data'])"
   ]
  },
  {
   "cell_type": "code",
   "execution_count": 29,
   "metadata": {
    "executionInfo": {
     "elapsed": 10,
     "status": "ok",
     "timestamp": 1650049498529,
     "user": {
      "displayName": "Stanislav Chistyakov",
      "userId": "18109881619155439276"
     },
     "user_tz": -180
    },
    "id": "F84vtOYN3Tkp"
   },
   "outputs": [],
   "source": [
    "import lightgbm as lgb"
   ]
  },
  {
   "cell_type": "code",
   "execution_count": 30,
   "metadata": {},
   "outputs": [],
   "source": [
    "# def get_x_y(data):\n",
    "#     names = data.columns[3:].values.tolist()\n",
    "#     print(names)\n",
    "#     x = data.iloc[:,3:].values.astype('float32')\n",
    "#     y = data.is_referrer.values\n",
    "#     return x, y, names\n",
    "\n",
    "# train_x, train_y, feature_names = get_x_y(train_train_features)\n",
    "# test_x, test_y, feature_names = get_x_y(train_test_features)\n",
    "\n",
    "# train_train_data = lgb.Dataset(train_x, label=train_y)\n",
    "# train_test_data = lgb.Dataset(test_x, label=test_y)\n",
    "\n",
    "def get_x(data):\n",
    "    data = data.iloc[:,4:]\n",
    "    data = data.drop(columns=['domain_count_ref', 'domain_count_device', 'domain_count_referrer_domain'])\n",
    "    return data#.values.astype('float32')\n",
    "\n",
    "def get_y(data):\n",
    "    return data.is_referrer\n",
    "    \n",
    "def get_lgb_dataset(data):\n",
    "    return lgb.Dataset(get_x(data), label=get_y(data))\n",
    "\n",
    "train_train_data = get_lgb_dataset(train_train_features)\n",
    "train_test_data = get_lgb_dataset(train_test_features)"
   ]
  },
  {
   "cell_type": "code",
   "execution_count": 31,
   "metadata": {},
   "outputs": [],
   "source": [
    "# train_train_features.drop(columns=['domain_count_device', 'domain_count_referrer_domain', 'domain_count_ref'])"
   ]
  },
  {
   "cell_type": "code",
   "execution_count": 32,
   "metadata": {
    "colab": {
     "base_uri": "https://localhost:8080/"
    },
    "executionInfo": {
     "elapsed": 74468,
     "status": "ok",
     "timestamp": 1650049790138,
     "user": {
      "displayName": "Stanislav Chistyakov",
      "userId": "18109881619155439276"
     },
     "user_tz": -180
    },
    "id": "FTG7cWUi7fLC",
    "outputId": "58d0a531-500e-4fa4-f731-e0d9294fe285"
   },
   "outputs": [
    {
     "name": "stdout",
     "output_type": "stream",
     "text": [
      "[LightGBM] [Info] Number of positive: 826830, number of negative: 7441470\n",
      "[LightGBM] [Warning] Auto-choosing row-wise multi-threading, the overhead of testing was 0.354579 seconds.\n",
      "You can set `force_row_wise=true` to remove the overhead.\n",
      "And if memory is not enough, you can set `force_col_wise=true`.\n",
      "[LightGBM] [Info] Total Bins 2480\n",
      "[LightGBM] [Info] Number of data points in the train set: 8268300, number of used features: 10\n",
      "[LightGBM] [Info] [binary:BoostFromScore]: pavg=0.100000 -> initscore=-2.197225\n",
      "[LightGBM] [Info] Start training from score -2.197225\n",
      "[1]\tvalid_0's auc: 0.840653\n",
      "Training until validation scores don't improve for 10 rounds\n",
      "[2]\tvalid_0's auc: 0.840814\n",
      "[3]\tvalid_0's auc: 0.842039\n",
      "[4]\tvalid_0's auc: 0.842225\n",
      "[5]\tvalid_0's auc: 0.842122\n",
      "[6]\tvalid_0's auc: 0.842198\n",
      "[7]\tvalid_0's auc: 0.842152\n",
      "[8]\tvalid_0's auc: 0.842148\n",
      "[9]\tvalid_0's auc: 0.842177\n",
      "[10]\tvalid_0's auc: 0.842182\n",
      "[11]\tvalid_0's auc: 0.842197\n",
      "[12]\tvalid_0's auc: 0.842224\n",
      "[13]\tvalid_0's auc: 0.84228\n",
      "[14]\tvalid_0's auc: 0.842353\n",
      "[15]\tvalid_0's auc: 0.842412\n",
      "[16]\tvalid_0's auc: 0.842457\n",
      "[17]\tvalid_0's auc: 0.842522\n",
      "[18]\tvalid_0's auc: 0.84256\n",
      "[19]\tvalid_0's auc: 0.842576\n",
      "[20]\tvalid_0's auc: 0.842604\n",
      "[21]\tvalid_0's auc: 0.842629\n",
      "[22]\tvalid_0's auc: 0.842636\n",
      "[23]\tvalid_0's auc: 0.842668\n",
      "[24]\tvalid_0's auc: 0.84269\n",
      "[25]\tvalid_0's auc: 0.842702\n",
      "[26]\tvalid_0's auc: 0.842712\n",
      "[27]\tvalid_0's auc: 0.842739\n",
      "[28]\tvalid_0's auc: 0.842763\n",
      "[29]\tvalid_0's auc: 0.842777\n",
      "[30]\tvalid_0's auc: 0.842801\n",
      "[31]\tvalid_0's auc: 0.842816\n",
      "[32]\tvalid_0's auc: 0.842828\n",
      "[33]\tvalid_0's auc: 0.842843\n",
      "[34]\tvalid_0's auc: 0.842851\n",
      "[35]\tvalid_0's auc: 0.842867\n",
      "[36]\tvalid_0's auc: 0.842876\n",
      "[37]\tvalid_0's auc: 0.84288\n",
      "[38]\tvalid_0's auc: 0.842891\n",
      "[39]\tvalid_0's auc: 0.842784\n",
      "[40]\tvalid_0's auc: 0.842792\n",
      "[41]\tvalid_0's auc: 0.842805\n",
      "[42]\tvalid_0's auc: 0.842809\n",
      "[43]\tvalid_0's auc: 0.842816\n",
      "[44]\tvalid_0's auc: 0.842822\n",
      "[45]\tvalid_0's auc: 0.842824\n",
      "[46]\tvalid_0's auc: 0.842834\n",
      "[47]\tvalid_0's auc: 0.842201\n",
      "[48]\tvalid_0's auc: 0.842215\n",
      "Early stopping, best iteration is:\n",
      "[38]\tvalid_0's auc: 0.842891\n"
     ]
    }
   ],
   "source": [
    "# https://lightgbm.readthedocs.io/en/latest/Parameters.html\n",
    "\n",
    "param = {'objective': 'binary'}\n",
    "param['learning_rate'] = 0.01\n",
    "# param['num_leaves'] = 64\n",
    "param['verbose'] = 1\n",
    "param['metric'] = 'auc'\n",
    "\n",
    "evals_result = {} \n",
    "\n",
    "model = lgb.train(param, train_train_data, num_boost_round=50, valid_sets=train_test_data, \n",
    "                  callbacks=[lgb.early_stopping(stopping_rounds=10),\n",
    "                             lgb.log_evaluation(1),\n",
    "                             lgb.record_evaluation(evals_result)])"
   ]
  },
  {
   "cell_type": "code",
   "execution_count": 33,
   "metadata": {},
   "outputs": [],
   "source": [
    "# [41]\tvalid_0's auc: 0.845916"
   ]
  },
  {
   "cell_type": "code",
   "execution_count": 34,
   "metadata": {},
   "outputs": [
    {
     "name": "stdout",
     "output_type": "stream",
     "text": [
      "Plotting metrics recorded during training...\n"
     ]
    },
    {
     "data": {
      "image/png": "[encoded data removed]",
      "text/plain": [
       "<Figure size 432x288 with 1 Axes>"
      ]
     },
     "metadata": {
      "needs_background": "light"
     },
     "output_type": "display_data"
    }
   ],
   "source": [
    "print('Plotting metrics recorded during training...')\n",
    "ax = lgb.plot_metric(evals_result, metric='auc')\n",
    "# plt.show()"
   ]
  },
  {
   "cell_type": "code",
   "execution_count": 35,
   "metadata": {
    "executionInfo": {
     "elapsed": 21,
     "status": "ok",
     "timestamp": 1650049790139,
     "user": {
      "displayName": "Stanislav Chistyakov",
      "userId": "18109881619155439276"
     },
     "user_tz": -180
    },
    "id": "ReUL1NKXNxWV"
   },
   "outputs": [],
   "source": [
    "# [50]\tvalid_0's auc: 0.838309"
   ]
  },
  {
   "cell_type": "code",
   "execution_count": 36,
   "metadata": {
    "colab": {
     "base_uri": "https://localhost:8080/",
     "height": 313
    },
    "executionInfo": {
     "elapsed": 547,
     "status": "ok",
     "timestamp": 1650049794236,
     "user": {
      "displayName": "Stanislav Chistyakov",
      "userId": "18109881619155439276"
     },
     "user_tz": -180
    },
    "id": "ntwyMCJFieH0",
    "outputId": "d09f7286-2f9f-4110-93b4-efe50ddc934b"
   },
   "outputs": [
    {
     "data": {
      "text/plain": [
       "<AxesSubplot:title={'center':'Feature importance'}, xlabel='Feature importance', ylabel='Features'>"
      ]
     },
     "execution_count": 36,
     "metadata": {},
     "output_type": "execute_result"
    },
    {
     "data": {
      "image/png": "[encoded data removed]",
      "text/plain": [
       "<Figure size 432x288 with 1 Axes>"
      ]
     },
     "metadata": {
      "needs_background": "light"
     },
     "output_type": "display_data"
    }
   ],
   "source": [
    "lgb.plot_importance(model)"
   ]
  },
  {
   "cell_type": "code",
   "execution_count": 37,
   "metadata": {
    "colab": {
     "base_uri": "https://localhost:8080/"
    },
    "executionInfo": {
     "elapsed": 15,
     "status": "ok",
     "timestamp": 1650049793702,
     "user": {
      "displayName": "Stanislav Chistyakov",
      "userId": "18109881619155439276"
     },
     "user_tz": -180
    },
    "id": "IStl0GFXjWRV",
    "outputId": "7db72a67-e6dc-45eb-d43f-e77b50f1cdab"
   },
   "outputs": [
    {
     "data": {
      "text/plain": [
       "referrer_num                                                                    int64\n",
       "timestamp_dif                                                                   int64\n",
       "domain_count_ref                                                                int64\n",
       "domain_count_device                                                             int64\n",
       "domain_count_referrer_domain                                                    int64\n",
       "referrer_domain_count_ref                                                       int64\n",
       "referrer_domain_count_device                                                    int64\n",
       "referrer_domain_count_domain                                                    int64\n",
       "domain_referrer_domain_count_ref                                                int64\n",
       "domain_referrer_domain_count_device                                             int64\n",
       "domain_referrer_domain_count_ref_vs_domain_count_ref                          float64\n",
       "domain_referrer_domain_count_ref_vs_referrer_domain_count_ref                 float64\n",
       "domain_referrer_domain_count_device_ref_vs_domain_count_device                float64\n",
       "domain_referrer_domain_count_device_ref_vs_referrer_domain_count_device_id    float64\n",
       "dtype: object"
      ]
     },
     "execution_count": 37,
     "metadata": {},
     "output_type": "execute_result"
    }
   ],
   "source": [
    "train_test_features.dtypes[3:]"
   ]
  },
  {
   "cell_type": "code",
   "execution_count": 38,
   "metadata": {
    "colab": {
     "base_uri": "https://localhost:8080/",
     "height": 455
    },
    "executionInfo": {
     "elapsed": 3569,
     "status": "ok",
     "timestamp": 1650049793702,
     "user": {
      "displayName": "Stanislav Chistyakov",
      "userId": "18109881619155439276"
     },
     "user_tz": -180
    },
    "id": "MC306ssU9IiV",
    "outputId": "bc46ae82-af4b-4fe7-b65c-7a08d52c32f2"
   },
   "outputs": [
    {
     "data": {
      "text/html": [
       "<div>\n",
       "<style scoped>\n",
       "    .dataframe tbody tr th:only-of-type {\n",
       "        vertical-align: middle;\n",
       "    }\n",
       "\n",
       "    .dataframe tbody tr th {\n",
       "        vertical-align: top;\n",
       "    }\n",
       "\n",
       "    .dataframe thead tr th {\n",
       "        text-align: left;\n",
       "    }\n",
       "\n",
       "    .dataframe thead tr:last-of-type th {\n",
       "        text-align: right;\n",
       "    }\n",
       "</style>\n",
       "<table border=\"1\" class=\"dataframe\">\n",
       "  <thead>\n",
       "    <tr>\n",
       "      <th></th>\n",
       "      <th colspan=\"10\" halign=\"left\">is_referrer</th>\n",
       "      <th colspan=\"10\" halign=\"left\">is_referrer_pred</th>\n",
       "    </tr>\n",
       "    <tr>\n",
       "      <th>referrer_num</th>\n",
       "      <th>0</th>\n",
       "      <th>1</th>\n",
       "      <th>2</th>\n",
       "      <th>3</th>\n",
       "      <th>4</th>\n",
       "      <th>5</th>\n",
       "      <th>6</th>\n",
       "      <th>7</th>\n",
       "      <th>8</th>\n",
       "      <th>9</th>\n",
       "      <th>0</th>\n",
       "      <th>1</th>\n",
       "      <th>2</th>\n",
       "      <th>3</th>\n",
       "      <th>4</th>\n",
       "      <th>5</th>\n",
       "      <th>6</th>\n",
       "      <th>7</th>\n",
       "      <th>8</th>\n",
       "      <th>9</th>\n",
       "    </tr>\n",
       "    <tr>\n",
       "      <th>event_group_id</th>\n",
       "      <th></th>\n",
       "      <th></th>\n",
       "      <th></th>\n",
       "      <th></th>\n",
       "      <th></th>\n",
       "      <th></th>\n",
       "      <th></th>\n",
       "      <th></th>\n",
       "      <th></th>\n",
       "      <th></th>\n",
       "      <th></th>\n",
       "      <th></th>\n",
       "      <th></th>\n",
       "      <th></th>\n",
       "      <th></th>\n",
       "      <th></th>\n",
       "      <th></th>\n",
       "      <th></th>\n",
       "      <th></th>\n",
       "      <th></th>\n",
       "    </tr>\n",
       "  </thead>\n",
       "  <tbody>\n",
       "    <tr>\n",
       "      <th>7</th>\n",
       "      <td>False</td>\n",
       "      <td>False</td>\n",
       "      <td>False</td>\n",
       "      <td>False</td>\n",
       "      <td>False</td>\n",
       "      <td>False</td>\n",
       "      <td>True</td>\n",
       "      <td>False</td>\n",
       "      <td>False</td>\n",
       "      <td>False</td>\n",
       "      <td>0.075054</td>\n",
       "      <td>0.068542</td>\n",
       "      <td>0.068542</td>\n",
       "      <td>0.068542</td>\n",
       "      <td>0.068542</td>\n",
       "      <td>0.068542</td>\n",
       "      <td>0.182981</td>\n",
       "      <td>0.068542</td>\n",
       "      <td>0.325332</td>\n",
       "      <td>0.068542</td>\n",
       "    </tr>\n",
       "    <tr>\n",
       "      <th>9</th>\n",
       "      <td>False</td>\n",
       "      <td>False</td>\n",
       "      <td>False</td>\n",
       "      <td>False</td>\n",
       "      <td>False</td>\n",
       "      <td>False</td>\n",
       "      <td>False</td>\n",
       "      <td>False</td>\n",
       "      <td>False</td>\n",
       "      <td>True</td>\n",
       "      <td>0.068542</td>\n",
       "      <td>0.068542</td>\n",
       "      <td>0.068542</td>\n",
       "      <td>0.068542</td>\n",
       "      <td>0.071893</td>\n",
       "      <td>0.068542</td>\n",
       "      <td>0.068542</td>\n",
       "      <td>0.088434</td>\n",
       "      <td>0.068542</td>\n",
       "      <td>0.348622</td>\n",
       "    </tr>\n",
       "    <tr>\n",
       "      <th>13</th>\n",
       "      <td>False</td>\n",
       "      <td>False</td>\n",
       "      <td>False</td>\n",
       "      <td>False</td>\n",
       "      <td>False</td>\n",
       "      <td>False</td>\n",
       "      <td>False</td>\n",
       "      <td>False</td>\n",
       "      <td>False</td>\n",
       "      <td>True</td>\n",
       "      <td>0.068542</td>\n",
       "      <td>0.068542</td>\n",
       "      <td>0.068542</td>\n",
       "      <td>0.068542</td>\n",
       "      <td>0.068542</td>\n",
       "      <td>0.068542</td>\n",
       "      <td>0.068542</td>\n",
       "      <td>0.068542</td>\n",
       "      <td>0.068542</td>\n",
       "      <td>0.068542</td>\n",
       "    </tr>\n",
       "    <tr>\n",
       "      <th>16</th>\n",
       "      <td>False</td>\n",
       "      <td>False</td>\n",
       "      <td>False</td>\n",
       "      <td>True</td>\n",
       "      <td>False</td>\n",
       "      <td>False</td>\n",
       "      <td>False</td>\n",
       "      <td>False</td>\n",
       "      <td>False</td>\n",
       "      <td>False</td>\n",
       "      <td>0.068542</td>\n",
       "      <td>0.068542</td>\n",
       "      <td>0.068542</td>\n",
       "      <td>0.182016</td>\n",
       "      <td>0.068542</td>\n",
       "      <td>0.068542</td>\n",
       "      <td>0.068542</td>\n",
       "      <td>0.068542</td>\n",
       "      <td>0.125087</td>\n",
       "      <td>0.068542</td>\n",
       "    </tr>\n",
       "    <tr>\n",
       "      <th>31</th>\n",
       "      <td>False</td>\n",
       "      <td>False</td>\n",
       "      <td>False</td>\n",
       "      <td>False</td>\n",
       "      <td>False</td>\n",
       "      <td>False</td>\n",
       "      <td>False</td>\n",
       "      <td>False</td>\n",
       "      <td>True</td>\n",
       "      <td>False</td>\n",
       "      <td>0.068542</td>\n",
       "      <td>0.080196</td>\n",
       "      <td>0.068542</td>\n",
       "      <td>0.080196</td>\n",
       "      <td>0.068542</td>\n",
       "      <td>0.08825</td>\n",
       "      <td>0.08141</td>\n",
       "      <td>0.068542</td>\n",
       "      <td>0.137396</td>\n",
       "      <td>0.068542</td>\n",
       "    </tr>\n",
       "  </tbody>\n",
       "</table>\n",
       "</div>"
      ],
      "text/plain": [
       "               is_referrer                                                   \\\n",
       "referrer_num             0      1      2      3      4      5      6      7   \n",
       "event_group_id                                                                \n",
       "7                    False  False  False  False  False  False   True  False   \n",
       "9                    False  False  False  False  False  False  False  False   \n",
       "13                   False  False  False  False  False  False  False  False   \n",
       "16                   False  False  False   True  False  False  False  False   \n",
       "31                   False  False  False  False  False  False  False  False   \n",
       "\n",
       "                             is_referrer_pred                                \\\n",
       "referrer_num        8      9                0         1         2         3   \n",
       "event_group_id                                                                \n",
       "7               False  False         0.075054  0.068542  0.068542  0.068542   \n",
       "9               False   True         0.068542  0.068542  0.068542  0.068542   \n",
       "13              False   True         0.068542  0.068542  0.068542  0.068542   \n",
       "16              False  False         0.068542  0.068542  0.068542  0.182016   \n",
       "31               True  False         0.068542  0.080196  0.068542  0.080196   \n",
       "\n",
       "                                                                            \n",
       "referrer_num           4         5         6         7         8         9  \n",
       "event_group_id                                                              \n",
       "7               0.068542  0.068542  0.182981  0.068542  0.325332  0.068542  \n",
       "9               0.071893  0.068542  0.068542  0.088434  0.068542  0.348622  \n",
       "13              0.068542  0.068542  0.068542  0.068542  0.068542  0.068542  \n",
       "16              0.068542  0.068542  0.068542  0.068542  0.125087  0.068542  \n",
       "31              0.068542   0.08825   0.08141  0.068542  0.137396  0.068542  "
      ]
     },
     "execution_count": 38,
     "metadata": {},
     "output_type": "execute_result"
    }
   ],
   "source": [
    "train_test_pred = train_test_features[['referrer_num', 'is_referrer']].copy()\n",
    "train_test_pred['is_referrer_pred'] = model.predict(get_x(train_test_features))\n",
    "train_test_pred = train_test_pred.pivot(columns='referrer_num', values=['is_referrer', 'is_referrer_pred'])\n",
    "train_test_pred.head()"
   ]
  },
  {
   "cell_type": "code",
   "execution_count": 39,
   "metadata": {
    "colab": {
     "base_uri": "https://localhost:8080/",
     "height": 486
    },
    "executionInfo": {
     "elapsed": 2728,
     "status": "ok",
     "timestamp": 1650049796952,
     "user": {
      "displayName": "Stanislav Chistyakov",
      "userId": "18109881619155439276"
     },
     "user_tz": -180
    },
    "id": "ZfLo6lHY87AJ",
    "outputId": "7c336fbf-1b58-4b1a-b961-744cac7f8cd3"
   },
   "outputs": [
    {
     "data": {
      "text/plain": [
       "0.58151635040473"
      ]
     },
     "execution_count": 39,
     "metadata": {},
     "output_type": "execute_result"
    }
   ],
   "source": [
    "f1_score(np.argmax(train_test_pred.iloc[:,:10].values, axis=1), np.argmax(train_test_pred.iloc[:,10:20].values, axis=1), average='macro')"
   ]
  },
  {
   "cell_type": "code",
   "execution_count": null,
   "metadata": {},
   "outputs": [],
   "source": [
    "# auc: 0.842891 private: 0.58151635040473 public: 0.577699280352"
   ]
  },
  {
   "cell_type": "code",
   "execution_count": 40,
   "metadata": {},
   "outputs": [],
   "source": [
    "# Prediction"
   ]
  },
  {
   "cell_type": "code",
   "execution_count": 41,
   "metadata": {},
   "outputs": [],
   "source": [
    "test_data = pd.read_csv(data_path_test_orig)"
   ]
  },
  {
   "cell_type": "code",
   "execution_count": null,
   "metadata": {},
   "outputs": [
    {
     "data": {
      "text/html": [
       "<div>\n",
       "<style scoped>\n",
       "    .dataframe tbody tr th:only-of-type {\n",
       "        vertical-align: middle;\n",
       "    }\n",
       "\n",
       "    .dataframe tbody tr th {\n",
       "        vertical-align: top;\n",
       "    }\n",
       "\n",
       "    .dataframe thead th {\n",
       "        text-align: right;\n",
       "    }\n",
       "</style>\n",
       "<table border=\"1\" class=\"dataframe\">\n",
       "  <thead>\n",
       "    <tr style=\"text-align: right;\">\n",
       "      <th></th>\n",
       "      <th>event_group_id</th>\n",
       "      <th>device_id</th>\n",
       "      <th>timestamp</th>\n",
       "      <th>domain</th>\n",
       "      <th>url</th>\n",
       "      <th>referrer_num</th>\n",
       "    </tr>\n",
       "  </thead>\n",
       "  <tbody>\n",
       "    <tr>\n",
       "      <th>0</th>\n",
       "      <td>463817</td>\n",
       "      <td>300000</td>\n",
       "      <td>1171269282</td>\n",
       "      <td>ttgxZm.gC</td>\n",
       "      <td>ttgxZm.gC/jjjvdN/jdSNxb</td>\n",
       "      <td>0</td>\n",
       "    </tr>\n",
       "    <tr>\n",
       "      <th>1</th>\n",
       "      <td>463817</td>\n",
       "      <td>300000</td>\n",
       "      <td>1171269968</td>\n",
       "      <td>ttTzuL.jl</td>\n",
       "      <td>ttTzuL.jl/jllpZL</td>\n",
       "      <td>1</td>\n",
       "    </tr>\n",
       "    <tr>\n",
       "      <th>2</th>\n",
       "      <td>463817</td>\n",
       "      <td>300000</td>\n",
       "      <td>1171270289</td>\n",
       "      <td>ttNggB.jg</td>\n",
       "      <td>tWAmxZ.ttNggB.jg/jHSjLY</td>\n",
       "      <td>2</td>\n",
       "    </tr>\n",
       "    <tr>\n",
       "      <th>3</th>\n",
       "      <td>463817</td>\n",
       "      <td>300000</td>\n",
       "      <td>1171270295</td>\n",
       "      <td>ttLfvM.MK</td>\n",
       "      <td>ttLfvM.MK/jHLYjz/jvKLdf</td>\n",
       "      <td>3</td>\n",
       "    </tr>\n",
       "    <tr>\n",
       "      <th>4</th>\n",
       "      <td>463817</td>\n",
       "      <td>300000</td>\n",
       "      <td>1171270350</td>\n",
       "      <td>tWvuGv.jl</td>\n",
       "      <td>tWvuGv.jl/jvjiUY/jvBGiW/jHLXvg</td>\n",
       "      <td>4</td>\n",
       "    </tr>\n",
       "    <tr>\n",
       "      <th>5</th>\n",
       "      <td>463817</td>\n",
       "      <td>300000</td>\n",
       "      <td>1171270354</td>\n",
       "      <td>ttCnXo.QT</td>\n",
       "      <td>ttCnXo.QT/jljFFd/jdLLdr</td>\n",
       "      <td>5</td>\n",
       "    </tr>\n",
       "    <tr>\n",
       "      <th>6</th>\n",
       "      <td>463817</td>\n",
       "      <td>300000</td>\n",
       "      <td>1171270542</td>\n",
       "      <td>ttNggB.jg</td>\n",
       "      <td>tWAmxZ.ttNggB.jg/jHSjLY</td>\n",
       "      <td>6</td>\n",
       "    </tr>\n",
       "    <tr>\n",
       "      <th>7</th>\n",
       "      <td>463817</td>\n",
       "      <td>300000</td>\n",
       "      <td>1171270557</td>\n",
       "      <td>ttMJoz.AV</td>\n",
       "      <td>ttMJoz.AV/jCUFxs/jdSNxb</td>\n",
       "      <td>7</td>\n",
       "    </tr>\n",
       "    <tr>\n",
       "      <th>8</th>\n",
       "      <td>463817</td>\n",
       "      <td>300000</td>\n",
       "      <td>1171270618</td>\n",
       "      <td>ttCVLL.jg</td>\n",
       "      <td>tWAmxZ.ttCVLL.jg/jjSQNC</td>\n",
       "      <td>8</td>\n",
       "    </tr>\n",
       "    <tr>\n",
       "      <th>9</th>\n",
       "      <td>463817</td>\n",
       "      <td>300000</td>\n",
       "      <td>1171270625</td>\n",
       "      <td>ttJsFq.AV</td>\n",
       "      <td>ttJsFq.AV/jjXUzg/jdSNxb</td>\n",
       "      <td>9</td>\n",
       "    </tr>\n",
       "    <tr>\n",
       "      <th>10</th>\n",
       "      <td>463817</td>\n",
       "      <td>300000</td>\n",
       "      <td>1171270680</td>\n",
       "      <td>tWWoGT.Mj</td>\n",
       "      <td>tWWoGT.Mj/jrfISl/jlQrzs/jdSNxb</td>\n",
       "      <td>target</td>\n",
       "    </tr>\n",
       "  </tbody>\n",
       "</table>\n",
       "</div>"
      ],
      "text/plain": [
       "    event_group_id  device_id   timestamp     domain  \\\n",
       "0           463817     300000  1171269282  ttgxZm.gC   \n",
       "1           463817     300000  1171269968  ttTzuL.jl   \n",
       "2           463817     300000  1171270289  ttNggB.jg   \n",
       "3           463817     300000  1171270295  ttLfvM.MK   \n",
       "4           463817     300000  1171270350  tWvuGv.jl   \n",
       "5           463817     300000  1171270354  ttCnXo.QT   \n",
       "6           463817     300000  1171270542  ttNggB.jg   \n",
       "7           463817     300000  1171270557  ttMJoz.AV   \n",
       "8           463817     300000  1171270618  ttCVLL.jg   \n",
       "9           463817     300000  1171270625  ttJsFq.AV   \n",
       "10          463817     300000  1171270680  tWWoGT.Mj   \n",
       "\n",
       "                               url referrer_num  \n",
       "0          ttgxZm.gC/jjjvdN/jdSNxb            0  \n",
       "1                 ttTzuL.jl/jllpZL            1  \n",
       "2          tWAmxZ.ttNggB.jg/jHSjLY            2  \n",
       "3          ttLfvM.MK/jHLYjz/jvKLdf            3  \n",
       "4   tWvuGv.jl/jvjiUY/jvBGiW/jHLXvg            4  \n",
       "5          ttCnXo.QT/jljFFd/jdLLdr            5  \n",
       "6          tWAmxZ.ttNggB.jg/jHSjLY            6  \n",
       "7          ttMJoz.AV/jCUFxs/jdSNxb            7  \n",
       "8          tWAmxZ.ttCVLL.jg/jjSQNC            8  \n",
       "9          ttJsFq.AV/jjXUzg/jdSNxb            9  \n",
       "10  tWWoGT.Mj/jrfISl/jlQrzs/jdSNxb       target  "
      ]
     },
     "execution_count": 44,
     "metadata": {},
     "output_type": "execute_result"
    }
   ],
   "source": [
    "test_data.head(11)"
   ]
  },
  {
   "cell_type": "code",
   "execution_count": 48,
   "metadata": {},
   "outputs": [
    {
     "data": {
      "text/html": [
       "<div>\n",
       "<style scoped>\n",
       "    .dataframe tbody tr th:only-of-type {\n",
       "        vertical-align: middle;\n",
       "    }\n",
       "\n",
       "    .dataframe tbody tr th {\n",
       "        vertical-align: top;\n",
       "    }\n",
       "\n",
       "    .dataframe thead th {\n",
       "        text-align: right;\n",
       "    }\n",
       "</style>\n",
       "<table border=\"1\" class=\"dataframe\">\n",
       "  <thead>\n",
       "    <tr style=\"text-align: right;\">\n",
       "      <th></th>\n",
       "      <th>event_group_id</th>\n",
       "      <th>device_id</th>\n",
       "      <th>timestamp</th>\n",
       "      <th>domain</th>\n",
       "      <th>url</th>\n",
       "      <th>referrer_num</th>\n",
       "      <th>is_referrer</th>\n",
       "    </tr>\n",
       "  </thead>\n",
       "  <tbody>\n",
       "    <tr>\n",
       "      <th>0</th>\n",
       "      <td>463817</td>\n",
       "      <td>300000</td>\n",
       "      <td>1171269282</td>\n",
       "      <td>ttgxZm.gC</td>\n",
       "      <td>ttgxZm.gC/jjjvdN/jdSNxb</td>\n",
       "      <td>0</td>\n",
       "      <td>False</td>\n",
       "    </tr>\n",
       "    <tr>\n",
       "      <th>1</th>\n",
       "      <td>463817</td>\n",
       "      <td>300000</td>\n",
       "      <td>1171269968</td>\n",
       "      <td>ttTzuL.jl</td>\n",
       "      <td>ttTzuL.jl/jllpZL</td>\n",
       "      <td>1</td>\n",
       "      <td>False</td>\n",
       "    </tr>\n",
       "    <tr>\n",
       "      <th>2</th>\n",
       "      <td>463817</td>\n",
       "      <td>300000</td>\n",
       "      <td>1171270289</td>\n",
       "      <td>ttNggB.jg</td>\n",
       "      <td>tWAmxZ.ttNggB.jg/jHSjLY</td>\n",
       "      <td>2</td>\n",
       "      <td>False</td>\n",
       "    </tr>\n",
       "    <tr>\n",
       "      <th>3</th>\n",
       "      <td>463817</td>\n",
       "      <td>300000</td>\n",
       "      <td>1171270295</td>\n",
       "      <td>ttLfvM.MK</td>\n",
       "      <td>ttLfvM.MK/jHLYjz/jvKLdf</td>\n",
       "      <td>3</td>\n",
       "      <td>False</td>\n",
       "    </tr>\n",
       "    <tr>\n",
       "      <th>4</th>\n",
       "      <td>463817</td>\n",
       "      <td>300000</td>\n",
       "      <td>1171270350</td>\n",
       "      <td>tWvuGv.jl</td>\n",
       "      <td>tWvuGv.jl/jvjiUY/jvBGiW/jHLXvg</td>\n",
       "      <td>4</td>\n",
       "      <td>False</td>\n",
       "    </tr>\n",
       "    <tr>\n",
       "      <th>5</th>\n",
       "      <td>463817</td>\n",
       "      <td>300000</td>\n",
       "      <td>1171270354</td>\n",
       "      <td>ttCnXo.QT</td>\n",
       "      <td>ttCnXo.QT/jljFFd/jdLLdr</td>\n",
       "      <td>5</td>\n",
       "      <td>False</td>\n",
       "    </tr>\n",
       "    <tr>\n",
       "      <th>6</th>\n",
       "      <td>463817</td>\n",
       "      <td>300000</td>\n",
       "      <td>1171270542</td>\n",
       "      <td>ttNggB.jg</td>\n",
       "      <td>tWAmxZ.ttNggB.jg/jHSjLY</td>\n",
       "      <td>6</td>\n",
       "      <td>False</td>\n",
       "    </tr>\n",
       "    <tr>\n",
       "      <th>7</th>\n",
       "      <td>463817</td>\n",
       "      <td>300000</td>\n",
       "      <td>1171270557</td>\n",
       "      <td>ttMJoz.AV</td>\n",
       "      <td>ttMJoz.AV/jCUFxs/jdSNxb</td>\n",
       "      <td>7</td>\n",
       "      <td>False</td>\n",
       "    </tr>\n",
       "    <tr>\n",
       "      <th>8</th>\n",
       "      <td>463817</td>\n",
       "      <td>300000</td>\n",
       "      <td>1171270618</td>\n",
       "      <td>ttCVLL.jg</td>\n",
       "      <td>tWAmxZ.ttCVLL.jg/jjSQNC</td>\n",
       "      <td>8</td>\n",
       "      <td>False</td>\n",
       "    </tr>\n",
       "    <tr>\n",
       "      <th>9</th>\n",
       "      <td>463817</td>\n",
       "      <td>300000</td>\n",
       "      <td>1171270625</td>\n",
       "      <td>ttJsFq.AV</td>\n",
       "      <td>ttJsFq.AV/jjXUzg/jdSNxb</td>\n",
       "      <td>9</td>\n",
       "      <td>False</td>\n",
       "    </tr>\n",
       "    <tr>\n",
       "      <th>10</th>\n",
       "      <td>463817</td>\n",
       "      <td>300000</td>\n",
       "      <td>1171270680</td>\n",
       "      <td>tWWoGT.Mj</td>\n",
       "      <td>tWWoGT.Mj/jrfISl/jlQrzs/jdSNxb</td>\n",
       "      <td>target</td>\n",
       "      <td>False</td>\n",
       "    </tr>\n",
       "  </tbody>\n",
       "</table>\n",
       "</div>"
      ],
      "text/plain": [
       "    event_group_id  device_id   timestamp     domain  \\\n",
       "0           463817     300000  1171269282  ttgxZm.gC   \n",
       "1           463817     300000  1171269968  ttTzuL.jl   \n",
       "2           463817     300000  1171270289  ttNggB.jg   \n",
       "3           463817     300000  1171270295  ttLfvM.MK   \n",
       "4           463817     300000  1171270350  tWvuGv.jl   \n",
       "5           463817     300000  1171270354  ttCnXo.QT   \n",
       "6           463817     300000  1171270542  ttNggB.jg   \n",
       "7           463817     300000  1171270557  ttMJoz.AV   \n",
       "8           463817     300000  1171270618  ttCVLL.jg   \n",
       "9           463817     300000  1171270625  ttJsFq.AV   \n",
       "10          463817     300000  1171270680  tWWoGT.Mj   \n",
       "\n",
       "                               url referrer_num  is_referrer  \n",
       "0          ttgxZm.gC/jjjvdN/jdSNxb            0        False  \n",
       "1                 ttTzuL.jl/jllpZL            1        False  \n",
       "2          tWAmxZ.ttNggB.jg/jHSjLY            2        False  \n",
       "3          ttLfvM.MK/jHLYjz/jvKLdf            3        False  \n",
       "4   tWvuGv.jl/jvjiUY/jvBGiW/jHLXvg            4        False  \n",
       "5          ttCnXo.QT/jljFFd/jdLLdr            5        False  \n",
       "6          tWAmxZ.ttNggB.jg/jHSjLY            6        False  \n",
       "7          ttMJoz.AV/jCUFxs/jdSNxb            7        False  \n",
       "8          tWAmxZ.ttCVLL.jg/jjSQNC            8        False  \n",
       "9          ttJsFq.AV/jjXUzg/jdSNxb            9        False  \n",
       "10  tWWoGT.Mj/jrfISl/jlQrzs/jdSNxb       target        False  "
      ]
     },
     "execution_count": 48,
     "metadata": {},
     "output_type": "execute_result"
    }
   ],
   "source": [
    "test_data['is_referrer'] = False\n",
    "test_data.head(11)"
   ]
  },
  {
   "cell_type": "code",
   "execution_count": 46,
   "metadata": {},
   "outputs": [],
   "source": [
    "test_features = process(test_data)\n",
    "test_features = process_features(test_features)"
   ]
  },
  {
   "cell_type": "code",
   "execution_count": null,
   "metadata": {},
   "outputs": [
    {
     "data": {
      "text/html": [
       "<div>\n",
       "<style scoped>\n",
       "    .dataframe tbody tr th:only-of-type {\n",
       "        vertical-align: middle;\n",
       "    }\n",
       "\n",
       "    .dataframe tbody tr th {\n",
       "        vertical-align: top;\n",
       "    }\n",
       "\n",
       "    .dataframe thead tr th {\n",
       "        text-align: left;\n",
       "    }\n",
       "\n",
       "    .dataframe thead tr:last-of-type th {\n",
       "        text-align: right;\n",
       "    }\n",
       "</style>\n",
       "<table border=\"1\" class=\"dataframe\">\n",
       "  <thead>\n",
       "    <tr>\n",
       "      <th></th>\n",
       "      <th colspan=\"10\" halign=\"left\">is_referrer</th>\n",
       "      <th colspan=\"10\" halign=\"left\">is_referrer_pred</th>\n",
       "    </tr>\n",
       "    <tr>\n",
       "      <th>referrer_num</th>\n",
       "      <th>0</th>\n",
       "      <th>1</th>\n",
       "      <th>2</th>\n",
       "      <th>3</th>\n",
       "      <th>4</th>\n",
       "      <th>5</th>\n",
       "      <th>6</th>\n",
       "      <th>7</th>\n",
       "      <th>8</th>\n",
       "      <th>9</th>\n",
       "      <th>0</th>\n",
       "      <th>1</th>\n",
       "      <th>2</th>\n",
       "      <th>3</th>\n",
       "      <th>4</th>\n",
       "      <th>5</th>\n",
       "      <th>6</th>\n",
       "      <th>7</th>\n",
       "      <th>8</th>\n",
       "      <th>9</th>\n",
       "    </tr>\n",
       "    <tr>\n",
       "      <th>event_group_id</th>\n",
       "      <th></th>\n",
       "      <th></th>\n",
       "      <th></th>\n",
       "      <th></th>\n",
       "      <th></th>\n",
       "      <th></th>\n",
       "      <th></th>\n",
       "      <th></th>\n",
       "      <th></th>\n",
       "      <th></th>\n",
       "      <th></th>\n",
       "      <th></th>\n",
       "      <th></th>\n",
       "      <th></th>\n",
       "      <th></th>\n",
       "      <th></th>\n",
       "      <th></th>\n",
       "      <th></th>\n",
       "      <th></th>\n",
       "      <th></th>\n",
       "    </tr>\n",
       "  </thead>\n",
       "  <tbody>\n",
       "    <tr>\n",
       "      <th>1</th>\n",
       "      <td>False</td>\n",
       "      <td>False</td>\n",
       "      <td>False</td>\n",
       "      <td>False</td>\n",
       "      <td>False</td>\n",
       "      <td>False</td>\n",
       "      <td>False</td>\n",
       "      <td>False</td>\n",
       "      <td>False</td>\n",
       "      <td>False</td>\n",
       "      <td>0.068542</td>\n",
       "      <td>0.068542</td>\n",
       "      <td>0.068542</td>\n",
       "      <td>0.249763</td>\n",
       "      <td>0.242325</td>\n",
       "      <td>0.068542</td>\n",
       "      <td>0.068542</td>\n",
       "      <td>0.068542</td>\n",
       "      <td>0.068542</td>\n",
       "      <td>0.068542</td>\n",
       "    </tr>\n",
       "    <tr>\n",
       "      <th>4</th>\n",
       "      <td>False</td>\n",
       "      <td>False</td>\n",
       "      <td>False</td>\n",
       "      <td>False</td>\n",
       "      <td>False</td>\n",
       "      <td>False</td>\n",
       "      <td>False</td>\n",
       "      <td>False</td>\n",
       "      <td>False</td>\n",
       "      <td>False</td>\n",
       "      <td>0.068542</td>\n",
       "      <td>0.068542</td>\n",
       "      <td>0.121963</td>\n",
       "      <td>0.126049</td>\n",
       "      <td>0.068542</td>\n",
       "      <td>0.068542</td>\n",
       "      <td>0.068542</td>\n",
       "      <td>0.068542</td>\n",
       "      <td>0.068542</td>\n",
       "      <td>0.068542</td>\n",
       "    </tr>\n",
       "    <tr>\n",
       "      <th>5</th>\n",
       "      <td>False</td>\n",
       "      <td>False</td>\n",
       "      <td>False</td>\n",
       "      <td>False</td>\n",
       "      <td>False</td>\n",
       "      <td>False</td>\n",
       "      <td>False</td>\n",
       "      <td>False</td>\n",
       "      <td>False</td>\n",
       "      <td>False</td>\n",
       "      <td>0.068542</td>\n",
       "      <td>0.068542</td>\n",
       "      <td>0.068542</td>\n",
       "      <td>0.341002</td>\n",
       "      <td>0.068542</td>\n",
       "      <td>0.068542</td>\n",
       "      <td>0.068542</td>\n",
       "      <td>0.068542</td>\n",
       "      <td>0.068542</td>\n",
       "      <td>0.068542</td>\n",
       "    </tr>\n",
       "    <tr>\n",
       "      <th>8</th>\n",
       "      <td>False</td>\n",
       "      <td>False</td>\n",
       "      <td>False</td>\n",
       "      <td>False</td>\n",
       "      <td>False</td>\n",
       "      <td>False</td>\n",
       "      <td>False</td>\n",
       "      <td>False</td>\n",
       "      <td>False</td>\n",
       "      <td>False</td>\n",
       "      <td>0.068542</td>\n",
       "      <td>0.068542</td>\n",
       "      <td>0.068542</td>\n",
       "      <td>0.068542</td>\n",
       "      <td>0.068542</td>\n",
       "      <td>0.068542</td>\n",
       "      <td>0.068542</td>\n",
       "      <td>0.068542</td>\n",
       "      <td>0.068542</td>\n",
       "      <td>0.068542</td>\n",
       "    </tr>\n",
       "    <tr>\n",
       "      <th>12</th>\n",
       "      <td>False</td>\n",
       "      <td>False</td>\n",
       "      <td>False</td>\n",
       "      <td>False</td>\n",
       "      <td>False</td>\n",
       "      <td>False</td>\n",
       "      <td>False</td>\n",
       "      <td>False</td>\n",
       "      <td>False</td>\n",
       "      <td>False</td>\n",
       "      <td>0.068542</td>\n",
       "      <td>0.068542</td>\n",
       "      <td>0.068542</td>\n",
       "      <td>0.068542</td>\n",
       "      <td>0.068542</td>\n",
       "      <td>0.081666</td>\n",
       "      <td>0.068542</td>\n",
       "      <td>0.068542</td>\n",
       "      <td>0.068542</td>\n",
       "      <td>0.068542</td>\n",
       "    </tr>\n",
       "  </tbody>\n",
       "</table>\n",
       "</div>"
      ],
      "text/plain": [
       "               is_referrer                                                   \\\n",
       "referrer_num             0      1      2      3      4      5      6      7   \n",
       "event_group_id                                                                \n",
       "1                    False  False  False  False  False  False  False  False   \n",
       "4                    False  False  False  False  False  False  False  False   \n",
       "5                    False  False  False  False  False  False  False  False   \n",
       "8                    False  False  False  False  False  False  False  False   \n",
       "12                   False  False  False  False  False  False  False  False   \n",
       "\n",
       "                             is_referrer_pred                                \\\n",
       "referrer_num        8      9                0         1         2         3   \n",
       "event_group_id                                                                \n",
       "1               False  False         0.068542  0.068542  0.068542  0.249763   \n",
       "4               False  False         0.068542  0.068542  0.121963  0.126049   \n",
       "5               False  False         0.068542  0.068542  0.068542  0.341002   \n",
       "8               False  False         0.068542  0.068542  0.068542  0.068542   \n",
       "12              False  False         0.068542  0.068542  0.068542  0.068542   \n",
       "\n",
       "                                                                            \n",
       "referrer_num           4         5         6         7         8         9  \n",
       "event_group_id                                                              \n",
       "1               0.242325  0.068542  0.068542  0.068542  0.068542  0.068542  \n",
       "4               0.068542  0.068542  0.068542  0.068542  0.068542  0.068542  \n",
       "5               0.068542  0.068542  0.068542  0.068542  0.068542  0.068542  \n",
       "8               0.068542  0.068542  0.068542  0.068542  0.068542  0.068542  \n",
       "12              0.068542  0.081666  0.068542  0.068542  0.068542  0.068542  "
      ]
     },
     "execution_count": 50,
     "metadata": {},
     "output_type": "execute_result"
    }
   ],
   "source": [
    "test_pred = test_features[['referrer_num', 'is_referrer']].copy()\n",
    "test_pred['is_referrer_pred'] = model.predict(get_x(test_features))\n",
    "test_pred = test_pred.pivot(columns='referrer_num', values=['is_referrer', 'is_referrer_pred'])\n",
    "test_pred.head()"
   ]
  },
  {
   "cell_type": "code",
   "execution_count": 58,
   "metadata": {},
   "outputs": [],
   "source": [
    "test_pred['referrer_num'] = np.argmax(test_pred.iloc[:,10:].values, axis=1)"
   ]
  },
  {
   "cell_type": "code",
   "execution_count": 62,
   "metadata": {},
   "outputs": [],
   "source": [
    "test_pred[['referrer_num']].reset_index().to_csv('result_v1.csv', index=False)"
   ]
  },
  {
   "cell_type": "code",
   "execution_count": 52,
   "metadata": {},
   "outputs": [
    {
     "data": {
      "text/html": [
       "<div>\n",
       "<style scoped>\n",
       "    .dataframe tbody tr th:only-of-type {\n",
       "        vertical-align: middle;\n",
       "    }\n",
       "\n",
       "    .dataframe tbody tr th {\n",
       "        vertical-align: top;\n",
       "    }\n",
       "\n",
       "    .dataframe thead th {\n",
       "        text-align: right;\n",
       "    }\n",
       "</style>\n",
       "<table border=\"1\" class=\"dataframe\">\n",
       "  <thead>\n",
       "    <tr style=\"text-align: right;\">\n",
       "      <th></th>\n",
       "      <th>event_group_id</th>\n",
       "      <th>referrer_num</th>\n",
       "    </tr>\n",
       "  </thead>\n",
       "  <tbody>\n",
       "    <tr>\n",
       "      <th>0</th>\n",
       "      <td>1</td>\n",
       "      <td>3</td>\n",
       "    </tr>\n",
       "    <tr>\n",
       "      <th>1</th>\n",
       "      <td>4</td>\n",
       "      <td>3</td>\n",
       "    </tr>\n",
       "    <tr>\n",
       "      <th>2</th>\n",
       "      <td>5</td>\n",
       "      <td>3</td>\n",
       "    </tr>\n",
       "    <tr>\n",
       "      <th>3</th>\n",
       "      <td>8</td>\n",
       "      <td>8</td>\n",
       "    </tr>\n",
       "    <tr>\n",
       "      <th>4</th>\n",
       "      <td>12</td>\n",
       "      <td>8</td>\n",
       "    </tr>\n",
       "    <tr>\n",
       "      <th>...</th>\n",
       "      <td>...</td>\n",
       "      <td>...</td>\n",
       "    </tr>\n",
       "    <tr>\n",
       "      <th>552494</th>\n",
       "      <td>1737999</td>\n",
       "      <td>9</td>\n",
       "    </tr>\n",
       "    <tr>\n",
       "      <th>552495</th>\n",
       "      <td>1738003</td>\n",
       "      <td>2</td>\n",
       "    </tr>\n",
       "    <tr>\n",
       "      <th>552496</th>\n",
       "      <td>1738006</td>\n",
       "      <td>8</td>\n",
       "    </tr>\n",
       "    <tr>\n",
       "      <th>552497</th>\n",
       "      <td>1738008</td>\n",
       "      <td>9</td>\n",
       "    </tr>\n",
       "    <tr>\n",
       "      <th>552498</th>\n",
       "      <td>1738010</td>\n",
       "      <td>9</td>\n",
       "    </tr>\n",
       "  </tbody>\n",
       "</table>\n",
       "<p>552499 rows × 2 columns</p>\n",
       "</div>"
      ],
      "text/plain": [
       "        event_group_id  referrer_num\n",
       "0                    1             3\n",
       "1                    4             3\n",
       "2                    5             3\n",
       "3                    8             8\n",
       "4                   12             8\n",
       "...                ...           ...\n",
       "552494         1737999             9\n",
       "552495         1738003             2\n",
       "552496         1738006             8\n",
       "552497         1738008             9\n",
       "552498         1738010             9\n",
       "\n",
       "[552499 rows x 2 columns]"
      ]
     },
     "execution_count": 52,
     "metadata": {},
     "output_type": "execute_result"
    }
   ],
   "source": [
    "sample = pd.read_csv(data_path_sample_orig)\n",
    "sample"
   ]
  }
 ],
 "metadata": {
  "colab": {
   "authorship_tag": "ABX9TyNn3ncSLELlCIW30AiPeJvc",
   "collapsed_sections": [],
   "mount_file_id": "1g7kSe-a7plc58D9pL5xlzuM0Qh5JFvai",
   "name": "baseline_v3.ipynb",
   "provenance": []
  },
  "kernelspec": {
   "display_name": "d2l:Python",
   "language": "python",
   "name": "conda-env-d2l-py"
  },
  "language_info": {
   "codemirror_mode": {
    "name": "ipython",
    "version": 3
   },
   "file_extension": ".py",
   "mimetype": "text/x-python",
   "name": "python",
   "nbconvert_exporter": "python",
   "pygments_lexer": "ipython3",
   "version": "3.9.7"
  }
 },
 "nbformat": 4,
 "nbformat_minor": 4
}
